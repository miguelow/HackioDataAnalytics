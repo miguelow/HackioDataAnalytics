{
 "cells": [
  {
   "cell_type": "markdown",
   "id": "0e4a0473",
   "metadata": {},
   "source": [
    "<div style=\"text-align: center;\">\n",
    "  <img src=\"https://github.com/Hack-io-Data/Imagenes/blob/main/01-LogosHackio/logo_naranja@4x.png?raw=true\" alt=\"esquema\" />\n",
    "</div>"
   ]
  },
  {
   "cell_type": "markdown",
   "id": "8d36bc20",
   "metadata": {},
   "source": [
    "# Laboratorio Agrupamiento de Datos\n",
    "\n",
    "En este laboratorio usaremos el DataFrame creado en la lección anterior resultado de la unión de los conjuntos de datos compartidos contigo. \n",
    "\n",
    "**Instrucciones:**\n",
    "\n",
    "1. Lee cuidadosamente el enunciado de cada ejercicio.\n",
    "\n",
    "2. Implementa la solución en la celda de código proporcionada.\n",
    "\n",
    "3. Devuelve los resultados siempre en formato de DataFrame"
   ]
  },
  {
   "cell_type": "code",
   "execution_count": 1,
   "id": "e2c8b28b",
   "metadata": {},
   "outputs": [],
   "source": [
    "import pandas as pd\n",
    "import numpy as np\n",
    "pd.set_option('display.max_columns', None) "
   ]
  },
  {
   "cell_type": "code",
   "execution_count": 129,
   "id": "4b4513dc",
   "metadata": {},
   "outputs": [
    {
     "data": {
      "text/html": [
       "<div>\n",
       "<style scoped>\n",
       "    .dataframe tbody tr th:only-of-type {\n",
       "        vertical-align: middle;\n",
       "    }\n",
       "\n",
       "    .dataframe tbody tr th {\n",
       "        vertical-align: top;\n",
       "    }\n",
       "\n",
       "    .dataframe thead th {\n",
       "        text-align: right;\n",
       "    }\n",
       "</style>\n",
       "<table border=\"1\" class=\"dataframe\">\n",
       "  <thead>\n",
       "    <tr style=\"text-align: right;\">\n",
       "      <th></th>\n",
       "      <th>show_id</th>\n",
       "      <th>type</th>\n",
       "      <th>Title</th>\n",
       "      <th>director</th>\n",
       "      <th>cast</th>\n",
       "      <th>country</th>\n",
       "      <th>date_added</th>\n",
       "      <th>release_year</th>\n",
       "      <th>rating</th>\n",
       "      <th>duration</th>\n",
       "      <th>listed_in</th>\n",
       "      <th>description</th>\n",
       "      <th>Genre</th>\n",
       "      <th>Premiere</th>\n",
       "      <th>Runtime</th>\n",
       "      <th>IMDB Score</th>\n",
       "      <th>Language</th>\n",
       "      <th>_merge</th>\n",
       "    </tr>\n",
       "  </thead>\n",
       "  <tbody>\n",
       "    <tr>\n",
       "      <th>0</th>\n",
       "      <td>s1</td>\n",
       "      <td>Movie</td>\n",
       "      <td>Dick Johnson Is Dead</td>\n",
       "      <td>Kirsten Johnson</td>\n",
       "      <td>NaN</td>\n",
       "      <td>United States</td>\n",
       "      <td>2021-09-25</td>\n",
       "      <td>2020</td>\n",
       "      <td>PG-13</td>\n",
       "      <td>90 min</td>\n",
       "      <td>Documentaries</td>\n",
       "      <td>As her father nears the end of his life, filmm...</td>\n",
       "      <td>Documentary</td>\n",
       "      <td>2020-10-02</td>\n",
       "      <td>90.0</td>\n",
       "      <td>7.5</td>\n",
       "      <td>English</td>\n",
       "      <td>both</td>\n",
       "    </tr>\n",
       "  </tbody>\n",
       "</table>\n",
       "</div>"
      ],
      "text/plain": [
       "  show_id   type                 Title         director cast        country  \\\n",
       "0      s1  Movie  Dick Johnson Is Dead  Kirsten Johnson  NaN  United States   \n",
       "\n",
       "   date_added  release_year rating duration      listed_in  \\\n",
       "0  2021-09-25          2020  PG-13   90 min  Documentaries   \n",
       "\n",
       "                                         description        Genre    Premiere  \\\n",
       "0  As her father nears the end of his life, filmm...  Documentary  2020-10-02   \n",
       "\n",
       "   Runtime  IMDB Score Language _merge  \n",
       "0     90.0         7.5  English   both  "
      ]
     },
     "execution_count": 129,
     "metadata": {},
     "output_type": "execute_result"
    }
   ],
   "source": [
    "df = pd.read_csv(\"./df_resultante.csv\", index_col=0)\n",
    "df.head(1)"
   ]
  },
  {
   "cell_type": "markdown",
   "id": "cb06a7b4",
   "metadata": {},
   "source": [
    "#### Ejercicio 1: ¿Cuántos títulos hay por cada tipo de contenido ('Movie' o 'TV Show')?"
   ]
  },
  {
   "cell_type": "code",
   "execution_count": 100,
   "id": "60cb155f",
   "metadata": {},
   "outputs": [
    {
     "data": {
      "text/html": [
       "<div>\n",
       "<style scoped>\n",
       "    .dataframe tbody tr th:only-of-type {\n",
       "        vertical-align: middle;\n",
       "    }\n",
       "\n",
       "    .dataframe tbody tr th {\n",
       "        vertical-align: top;\n",
       "    }\n",
       "\n",
       "    .dataframe thead th {\n",
       "        text-align: right;\n",
       "    }\n",
       "</style>\n",
       "<table border=\"1\" class=\"dataframe\">\n",
       "  <thead>\n",
       "    <tr style=\"text-align: right;\">\n",
       "      <th></th>\n",
       "      <th>show_id</th>\n",
       "      <th>Title</th>\n",
       "      <th>director</th>\n",
       "      <th>cast</th>\n",
       "      <th>country</th>\n",
       "      <th>date_added</th>\n",
       "      <th>release_year</th>\n",
       "      <th>rating</th>\n",
       "      <th>duration</th>\n",
       "      <th>listed_in</th>\n",
       "      <th>description</th>\n",
       "      <th>Genre</th>\n",
       "      <th>Premiere</th>\n",
       "      <th>Runtime</th>\n",
       "      <th>IMDB Score</th>\n",
       "      <th>Language</th>\n",
       "      <th>_merge</th>\n",
       "    </tr>\n",
       "    <tr>\n",
       "      <th>type</th>\n",
       "      <th></th>\n",
       "      <th></th>\n",
       "      <th></th>\n",
       "      <th></th>\n",
       "      <th></th>\n",
       "      <th></th>\n",
       "      <th></th>\n",
       "      <th></th>\n",
       "      <th></th>\n",
       "      <th></th>\n",
       "      <th></th>\n",
       "      <th></th>\n",
       "      <th></th>\n",
       "      <th></th>\n",
       "      <th></th>\n",
       "      <th></th>\n",
       "      <th></th>\n",
       "    </tr>\n",
       "  </thead>\n",
       "  <tbody>\n",
       "    <tr>\n",
       "      <th>Movie</th>\n",
       "      <td>6131</td>\n",
       "      <td>6131</td>\n",
       "      <td>5943</td>\n",
       "      <td>5656</td>\n",
       "      <td>5691</td>\n",
       "      <td>6131</td>\n",
       "      <td>6131</td>\n",
       "      <td>6129</td>\n",
       "      <td>3503</td>\n",
       "      <td>6131</td>\n",
       "      <td>6131</td>\n",
       "      <td>513</td>\n",
       "      <td>513</td>\n",
       "      <td>513</td>\n",
       "      <td>513</td>\n",
       "      <td>513</td>\n",
       "      <td>6131</td>\n",
       "    </tr>\n",
       "    <tr>\n",
       "      <th>TV Show</th>\n",
       "      <td>2676</td>\n",
       "      <td>2676</td>\n",
       "      <td>230</td>\n",
       "      <td>2326</td>\n",
       "      <td>2285</td>\n",
       "      <td>2666</td>\n",
       "      <td>2676</td>\n",
       "      <td>2674</td>\n",
       "      <td>491</td>\n",
       "      <td>2676</td>\n",
       "      <td>2676</td>\n",
       "      <td>0</td>\n",
       "      <td>0</td>\n",
       "      <td>0</td>\n",
       "      <td>0</td>\n",
       "      <td>0</td>\n",
       "      <td>2676</td>\n",
       "    </tr>\n",
       "  </tbody>\n",
       "</table>\n",
       "</div>"
      ],
      "text/plain": [
       "         show_id  Title  director  cast  country  date_added  release_year  \\\n",
       "type                                                                         \n",
       "Movie       6131   6131      5943  5656     5691        6131          6131   \n",
       "TV Show     2676   2676       230  2326     2285        2666          2676   \n",
       "\n",
       "         rating  duration  listed_in  description  Genre  Premiere  Runtime  \\\n",
       "type                                                                          \n",
       "Movie      6129      3503       6131         6131    513       513      513   \n",
       "TV Show    2674       491       2676         2676      0         0        0   \n",
       "\n",
       "         IMDB Score  Language  _merge  \n",
       "type                                   \n",
       "Movie           513       513    6131  \n",
       "TV Show           0         0    2676  "
      ]
     },
     "execution_count": 100,
     "metadata": {},
     "output_type": "execute_result"
    }
   ],
   "source": [
    "df1 = df.groupby(\"type\").count()\n",
    "df1"
   ]
  },
  {
   "cell_type": "markdown",
   "id": "b956d726",
   "metadata": {},
   "source": [
    "#### Ejercicio 2: ¿Cuál es el promedio de puntuación de las películas agrupadas por clasificación de audiencia ('rating')? Interpreta los resultados, ¿hay algo que te llame la atención? Explica por qué. "
   ]
  },
  {
   "cell_type": "code",
   "execution_count": 102,
   "id": "416c0731",
   "metadata": {},
   "outputs": [
    {
     "data": {
      "text/plain": [
       "rating\n",
       "G        6.50\n",
       "PG       6.80\n",
       "PG-13    6.39\n",
       "R        6.50\n",
       "TV-14    6.18\n",
       "TV-G     6.16\n",
       "TV-MA    6.10\n",
       "TV-PG    6.31\n",
       "TV-Y     6.78\n",
       "TV-Y7    6.24\n",
       "Name: IMDB Score, dtype: float64"
      ]
     },
     "execution_count": 102,
     "metadata": {},
     "output_type": "execute_result"
    }
   ],
   "source": [
    "df2 = df.groupby('rating')['IMDB Score'].mean().round(2).dropna()\n",
    "df2\n",
    "#Poniendo el dropna() al final, primero agrupamos por rating, se calcula la media\n",
    "#usando el IMDB score y si el resultado cuenta con un NaN, se excluye\n",
    "#así mostramos unicamente la información que queremos\n",
    "\n",
    "#aunque también será interesante ver porqué esos ratings no cuentan con IMDB score\n"
   ]
  },
  {
   "cell_type": "code",
   "execution_count": 72,
   "id": "4ac6d180",
   "metadata": {},
   "outputs": [
    {
     "name": "stdout",
     "output_type": "stream",
     "text": [
      "Registros por tipo de rating rating\n",
      "TV-MA       3207\n",
      "TV-14       2160\n",
      "TV-PG        863\n",
      "R            799\n",
      "PG-13        490\n",
      "TV-Y7        334\n",
      "TV-Y         307\n",
      "PG           287\n",
      "TV-G         220\n",
      "NR            80\n",
      "G             41\n",
      "TV-Y7-FV       6\n",
      "NC-17          3\n",
      "UR             3\n",
      "74 min         1\n",
      "84 min         1\n",
      "66 min         1\n",
      "Name: count, dtype: int64\n",
      "Valores nulos en IMDB score por tipo de rating rating\n",
      "66 min         1\n",
      "74 min         1\n",
      "84 min         1\n",
      "G             40\n",
      "NC-17          3\n",
      "NR            80\n",
      "PG           276\n",
      "PG-13        467\n",
      "R            752\n",
      "TV-14       2066\n",
      "TV-G         204\n",
      "TV-MA       2953\n",
      "TV-PG        806\n",
      "TV-Y         302\n",
      "TV-Y7        329\n",
      "TV-Y7-FV       6\n",
      "UR             3\n",
      "dtype: int64\n"
     ]
    }
   ],
   "source": [
    "# Para ver más en profundidad este problema veamos los valores de IMDB score por rating\n",
    "print(\"Registros por tipo de rating\", df['rating'].value_counts())\n",
    "\n",
    "print(\"Valores nulos en IMDB score por tipo de rating\",df[df['IMDB Score'].isnull()].groupby('rating').size())"
   ]
  },
  {
   "cell_type": "markdown",
   "id": "f236954f",
   "metadata": {},
   "source": [
    "#### Ejercicio 3: ¿Cuántos títulos hay por cada país? Ordena los resultados de mayor a menor"
   ]
  },
  {
   "cell_type": "code",
   "execution_count": 103,
   "id": "1d6b8695",
   "metadata": {},
   "outputs": [
    {
     "data": {
      "text/plain": [
       "'United States, Ghana, Burkina Faso, United Kingdom, Germany, Ethiopia'"
      ]
     },
     "execution_count": 103,
     "metadata": {},
     "output_type": "execute_result"
    }
   ],
   "source": [
    "#El problema que encontramos es que el campo pais, es un string \n",
    "# que puede estar compuesto por multiples paises separados por coma\n",
    "\n",
    "# Como se puede ver con este ejemplo\n",
    "df.iloc[7]['country']"
   ]
  },
  {
   "cell_type": "code",
   "execution_count": 104,
   "id": "1a9d92f5",
   "metadata": {},
   "outputs": [
    {
     "data": {
      "text/plain": [
       "country\n",
       "United States     3211\n",
       "India             1008\n",
       "United Kingdom     628\n",
       " United States     479\n",
       "Canada             271\n",
       "                  ... \n",
       " Ecuador             1\n",
       "Iran                 1\n",
       "Cyprus               1\n",
       " Mongolia            1\n",
       " Montenegro          1\n",
       "Name: count, Length: 197, dtype: int64"
      ]
     },
     "execution_count": 104,
     "metadata": {},
     "output_type": "execute_result"
    }
   ],
   "source": [
    "# Dividimos los países en una lista\n",
    "df_paises = df[['country', 'Title']].copy()\n",
    "df_paises['country'] = df_paises['country'].str.split(',')\n",
    "\n",
    "# Usando el metodo explode, cada elemento de la lista, ahora pasa a ser un registro del dataframe\n",
    "df_paises = df_paises.explode('country')\n",
    "\n",
    "# Usando value_counts, de manera descendente nos da las coincidencias por la columna country, siendo cada una 1 título\n",
    "resultado = df_paises['country'].value_counts()\n",
    "resultado\n"
   ]
  },
  {
   "cell_type": "markdown",
   "id": "a49712a3",
   "metadata": {},
   "source": [
    "#### Ejercicio 4: ¿Cuál es la calificación promedio en IMDb de los títulos agrupados por tipo ('Movie' o 'TV Show')?"
   ]
  },
  {
   "cell_type": "code",
   "execution_count": 105,
   "id": "564e953f",
   "metadata": {},
   "outputs": [
    {
     "data": {
      "text/plain": [
       "type\n",
       "Movie      6.21\n",
       "TV Show     NaN\n",
       "Name: IMDB Score, dtype: float64"
      ]
     },
     "execution_count": 105,
     "metadata": {},
     "output_type": "execute_result"
    }
   ],
   "source": [
    "df4 = df.groupby('type', dropna=True)['IMDB Score'].mean().round(2)\n",
    "df4\n",
    "# Como pasó anteriormente, al trabajar con IMDB score, esta columna cuenta con muchos nulos"
   ]
  },
  {
   "cell_type": "code",
   "execution_count": 106,
   "id": "1d7edc7f",
   "metadata": {},
   "outputs": [
    {
     "name": "stdout",
     "output_type": "stream",
     "text": [
      "Registros por tipo de contenido type\n",
      "Movie      6131\n",
      "TV Show    2676\n",
      "Name: count, dtype: int64\n",
      "Valores nulos de IMDB score por tipo de contenido type\n",
      "Movie      5618\n",
      "TV Show    2676\n",
      "dtype: int64\n"
     ]
    }
   ],
   "source": [
    "# Para ver más en profundidad este problema veamos los valores de IMDB score por tipo de contenido\n",
    "print(\"Registros por tipo de contenido\", df['type'].value_counts())\n",
    "\n",
    "print(\"Valores nulos de IMDB score por tipo de contenido\",df[df['IMDB Score'].isnull()].groupby('type').size())\n",
    "# Aquí podemos ver el problema, como unicamente contamos con 513 valores de IMDB core en específico, en Movies"
   ]
  },
  {
   "cell_type": "markdown",
   "id": "4eac1036",
   "metadata": {},
   "source": [
    "#### Ejercicio 5: ¿Cuántos títulos se añadieron a Netflix cada año? Para resolver este ejercicio tendrás uqe convertir la columna `date_added` a formato fecha usando el método `pd.to_datetime`. [Aquí](https://pandas.pydata.org/docs/reference/api/pandas.to_datetime.html) tienes la documentación, leeala con detenimiento antes de usar el método. "
   ]
  },
  {
   "cell_type": "code",
   "execution_count": 107,
   "id": "304cc8a0",
   "metadata": {},
   "outputs": [
    {
     "name": "stdout",
     "output_type": "stream",
     "text": [
      "object\n"
     ]
    },
    {
     "data": {
      "text/plain": [
       "0    2021-09-25\n",
       "1    2021-09-24\n",
       "2    2021-09-24\n",
       "3    2021-09-24\n",
       "4    2021-09-24\n",
       "Name: date_added, dtype: object"
      ]
     },
     "execution_count": 107,
     "metadata": {},
     "output_type": "execute_result"
    }
   ],
   "source": [
    "print(df[\"date_added\"].dtype) # Es de tipo objeto, string\n",
    "df[\"date_added\"].head(5)"
   ]
  },
  {
   "cell_type": "code",
   "execution_count": 109,
   "id": "35e4ee49",
   "metadata": {},
   "outputs": [],
   "source": [
    "# Por experimentar, crearé una copia de la columna\n",
    "df['date_added_original'] = df['date_added']"
   ]
  },
  {
   "cell_type": "code",
   "execution_count": 115,
   "id": "bd1dac9f",
   "metadata": {},
   "outputs": [
    {
     "name": "stdout",
     "output_type": "stream",
     "text": [
      "0   2021-09-25\n",
      "1   2021-09-24\n",
      "2   2021-09-24\n",
      "3   2021-09-24\n",
      "4   2021-09-24\n",
      "Name: date_added, dtype: datetime64[ns]\n"
     ]
    }
   ],
   "source": [
    "# Aprovechando el formato, daremos el formato\n",
    "df['date_added'] = pd.to_datetime(df['date_added'], format='%Y-%m-%d')\n",
    "\n",
    "print(df['date_added'].head())"
   ]
  },
  {
   "cell_type": "code",
   "execution_count": 114,
   "id": "c08d1f08",
   "metadata": {},
   "outputs": [
    {
     "name": "stdout",
     "output_type": "stream",
     "text": [
      "datetime64[ns]\n"
     ]
    },
    {
     "data": {
      "text/plain": [
       "0   2021-09-25\n",
       "1   2021-09-24\n",
       "2   2021-09-24\n",
       "3   2021-09-24\n",
       "4   2021-09-24\n",
       "Name: date_added, dtype: datetime64[ns]"
      ]
     },
     "execution_count": 114,
     "metadata": {},
     "output_type": "execute_result"
    }
   ],
   "source": [
    "print(df[\"date_added\"].dtype) # Ahora ya es de tipo fecha\n",
    "df[\"date_added\"].head()"
   ]
  },
  {
   "cell_type": "code",
   "execution_count": 119,
   "id": "fc54687d",
   "metadata": {},
   "outputs": [
    {
     "data": {
      "text/plain": [
       "date_added\n",
       "2008.0       2\n",
       "2009.0       2\n",
       "2010.0       1\n",
       "2011.0      13\n",
       "2012.0       3\n",
       "2013.0      11\n",
       "2014.0      24\n",
       "2015.0      82\n",
       "2016.0     429\n",
       "2017.0    1188\n",
       "2018.0    1649\n",
       "2019.0    2016\n",
       "2020.0    1879\n",
       "2021.0    1498\n",
       "Name: Title, dtype: int64"
      ]
     },
     "execution_count": 119,
     "metadata": {},
     "output_type": "execute_result"
    }
   ],
   "source": [
    "df5 = df.groupby(df['date_added'].dt.year)['Title'].count().sort_index()\n",
    "df5"
   ]
  },
  {
   "cell_type": "markdown",
   "id": "ddd1d9b9",
   "metadata": {},
   "source": [
    "#### Ejercicio 6: ¿Cuál es el país con más títulos lanzados en el año 2020? Para resolver este ejercicio después del gropuby os puede resultar interesante el método [`idxmax`](https://pandas.pydata.org/docs/reference/api/pandas.DataFrame.idxmax.html)"
   ]
  },
  {
   "cell_type": "code",
   "execution_count": 123,
   "id": "0d914739",
   "metadata": {},
   "outputs": [
    {
     "data": {
      "text/plain": [
       "'United States'"
      ]
     },
     "execution_count": 123,
     "metadata": {},
     "output_type": "execute_result"
    }
   ],
   "source": [
    "df_paises_2020 = df[['country', 'Title']].copy()\n",
    "df_paises['country'] = df_paises['country'].str.split(',')\n",
    "df_paises = df_paises.explode('country')\n",
    "resultado = df_paises['country'].value_counts()\n",
    "resultado.idxmax()\n"
   ]
  },
  {
   "cell_type": "markdown",
   "id": "b5e05d91",
   "metadata": {},
   "source": [
    "#### Ejercicio 7:¿Cuál es el promedio de puntuación en IMDb de los títulos agrupados por país?"
   ]
  },
  {
   "cell_type": "code",
   "execution_count": null,
   "id": "51c46210",
   "metadata": {},
   "outputs": [],
   "source": []
  },
  {
   "cell_type": "markdown",
   "id": "43634c81",
   "metadata": {},
   "source": [
    "#### Ejercicio 8: ¿Cuántos títulos fueron lanzados en cada año agrupados por tipo ('Movie' o 'TV Show')?"
   ]
  },
  {
   "cell_type": "code",
   "execution_count": 126,
   "id": "d14840b1",
   "metadata": {},
   "outputs": [
    {
     "name": "stdout",
     "output_type": "stream",
     "text": [
      "Distribución de títulos por año y tipo:\n",
      "release_year  type   \n",
      "1925          TV Show      1\n",
      "1942          Movie        2\n",
      "1943          Movie        3\n",
      "1944          Movie        3\n",
      "1945          Movie        3\n",
      "                        ... \n",
      "2019          TV Show    397\n",
      "2020          Movie      517\n",
      "              TV Show    436\n",
      "2021          Movie      277\n",
      "              TV Show    315\n",
      "Name: Title, Length: 119, dtype: int64\n"
     ]
    }
   ],
   "source": [
    "# Group by release year and type, then count titles\n",
    "# We'll sort by year to see the temporal progression\n",
    "df8 = df.groupby(['release_year', 'type'])['Title'].count()\n",
    "print(\"Distribución de títulos por año y tipo:\")\n",
    "print(df8)"
   ]
  },
  {
   "cell_type": "markdown",
   "id": "4fc8e1d3",
   "metadata": {},
   "source": [
    "#### Ejercicio 9: ¿Cuál es el país con la mayor cantidad de títulos de clasificación 'TV-MA'?"
   ]
  },
  {
   "cell_type": "code",
   "execution_count": null,
   "id": "a9a2d175",
   "metadata": {},
   "outputs": [],
   "source": []
  },
  {
   "cell_type": "markdown",
   "id": "f1121ccd",
   "metadata": {},
   "source": [
    "#### Ejercicio 10. ¿Cuál es el promedio de duración de las películas agrupadas por país?"
   ]
  },
  {
   "cell_type": "code",
   "execution_count": null,
   "id": "06491396",
   "metadata": {},
   "outputs": [],
   "source": [
    "df4 = df.groupby('country')['IMDB Score'].mean().round(2)\n",
    "df4\n",
    "# Como pasó anteriormente, al trabajar con IMDB score, esta columna cuenta con muchos nulos"
   ]
  },
  {
   "cell_type": "markdown",
   "id": "0f3ee373",
   "metadata": {},
   "source": [
    "#### Ejercicio 11: ¿Cuál es el número total de títulos por país y clasificación de audiencia ('rating')?"
   ]
  },
  {
   "cell_type": "code",
   "execution_count": null,
   "id": "8fe17c56",
   "metadata": {},
   "outputs": [],
   "source": []
  },
  {
   "cell_type": "markdown",
   "id": "e968d41f",
   "metadata": {},
   "source": [
    "#### Ejercicio 12: ¿Cuántos títulos fueron lanzados antes del año 2000 agrupados por país?"
   ]
  },
  {
   "cell_type": "code",
   "execution_count": null,
   "id": "09e77e41",
   "metadata": {},
   "outputs": [],
   "source": []
  },
  {
   "cell_type": "markdown",
   "id": "3feff0de",
   "metadata": {},
   "source": [
    "#### Ejercicio 13: ¿Cuál es la puntuación promedio en IMDb de los títulos lanzados en 2021 agrupados por país?"
   ]
  },
  {
   "cell_type": "code",
   "execution_count": null,
   "id": "06e047e9",
   "metadata": {},
   "outputs": [],
   "source": []
  },
  {
   "cell_type": "markdown",
   "id": "b598a9ee",
   "metadata": {},
   "source": [
    "#### Ejercicio 14: ¿Cuántos títulos fueron dirigidos por cada director? Ordena los resultados de mayor a menor"
   ]
  },
  {
   "cell_type": "code",
   "execution_count": 132,
   "id": "a36c5d63",
   "metadata": {},
   "outputs": [
    {
     "name": "stdout",
     "output_type": "stream",
     "text": [
      "Top 5 directores con más producciones director\n",
      "Rajiv Chilaka             19\n",
      "Raúl Campos, Jan Suter    18\n",
      "Marcus Raboy              16\n",
      "Suhas Kadav               16\n",
      "Jay Karas                 14\n",
      "Name: count, dtype: int64\n"
     ]
    }
   ],
   "source": [
    "df14 = df[\"director\"].value_counts()\n",
    "print(\"Top 5 directores con más producciones\", df14.head())"
   ]
  },
  {
   "cell_type": "markdown",
   "id": "1471f841",
   "metadata": {},
   "source": [
    "#### Ejercicio 15: ¿Cuál es el lenguaje más frecuente en los títulos lanzados en los últimos 5 años agrupado por país?"
   ]
  },
  {
   "cell_type": "code",
   "execution_count": null,
   "id": "57446c34",
   "metadata": {},
   "outputs": [],
   "source": []
  }
 ],
 "metadata": {
  "kernelspec": {
   "display_name": "Python 3",
   "language": "python",
   "name": "python3"
  },
  "language_info": {
   "codemirror_mode": {
    "name": "ipython",
    "version": 3
   },
   "file_extension": ".py",
   "mimetype": "text/x-python",
   "name": "python",
   "nbconvert_exporter": "python",
   "pygments_lexer": "ipython3",
   "version": "3.9.6"
  }
 },
 "nbformat": 4,
 "nbformat_minor": 5
}
