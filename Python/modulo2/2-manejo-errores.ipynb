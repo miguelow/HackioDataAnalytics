{
 "cells": [
  {
   "cell_type": "markdown",
   "metadata": {},
   "source": [
    "\n",
    "<div style=\"text-align: center;\">\n",
    "  <img src=\"https://github.com/Hack-io-Data/Imagenes/blob/main/01-LogosHackio/logo_celeste@4x.png?raw=true\" alt=\"esquema\" />\n",
    "</div>\n"
   ]
  },
  {
   "cell_type": "markdown",
   "metadata": {},
   "source": [
    "# Laboratorio de Python: manejo de errores."
   ]
  },
  {
   "cell_type": "markdown",
   "metadata": {},
   "source": [
    "## Ejercicio 1: División con manejo de excepciones\n",
    "\n",
    "Escribe un programa que pida al usuario dos números e intente dividirlos. Si el usuario ingresa un valor no numérico o intenta dividir por cero, maneja esas excepciones de manera adecuada. Asegúrate de mostrar un mensaje indicando si la división fue exitosa o no.\n"
   ]
  },
  {
   "cell_type": "code",
   "execution_count": null,
   "metadata": {},
   "outputs": [
    {
     "name": "stdout",
     "output_type": "stream",
     "text": [
      "Debe ingresar un número válido\n"
     ]
    }
   ],
   "source": [
    "def dividir():\n",
    "    try:\n",
    "        num1 = int(input(\"Ingrese el dividendo, solo numeros enteros positivos:\"))\n",
    "        num2 = int(input(\"Ingrese el divisor, solo numeros enteros positivos:\"))\n",
    "\n",
    "    except ValueError:\n",
    "        print(\"Debe ingresar un número válido\")\n",
    "    \n",
    "    except ZeroDivisionError:\n",
    "        print(\"No se puede dividir entre cero\")\n",
    "\n",
    "    else:\n",
    "        return round(num1 / num2)\n",
    "    \n",
    "dividir()\n"
   ]
  },
  {
   "cell_type": "markdown",
   "metadata": {},
   "source": [
    "## Ejercicio 2: Acceso a archivos\n",
    "\n",
    "Escribe un programa que intente abrir un archivo llamado \"datos.txt\". Si el archivo no existe, captura la excepción y muestra un mensaje de error. Asegúrate de cerrar el archivo correctamente en la sección `finally`.\n"
   ]
  },
  {
   "cell_type": "code",
   "execution_count": 67,
   "metadata": {},
   "outputs": [
    {
     "name": "stdout",
     "output_type": "stream",
     "text": [
      "Ningún archivo coincide con el nombre introducido\n"
     ]
    }
   ],
   "source": [
    "def acceder_a_archivo():\n",
    "\n",
    "    nombre = input(\"Introduzca el nombre del archivo: \")\n",
    "\n",
    "    try: \n",
    "        with open(nombre, 'r') as archivo:\n",
    "            contenido = archivo.read()\n",
    "            print(contenido)\n",
    "\n",
    "    except FileNotFoundError:\n",
    "        print(\"Ningún archivo coincide con el nombre introducido\")\n",
    "\n",
    "acceder_a_archivo()"
   ]
  },
  {
   "cell_type": "markdown",
   "metadata": {},
   "source": [
    "## Ejercicio 3: Conversión de cadenas a enteros\n",
    "\n",
    "Escribe un programa que pida una lista de números separados por comas y convierta cada valor a un número entero. Maneja las excepciones para valores que no sean convertibles y asegúrate de informar si la conversión fue exitosa o no.\n"
   ]
  },
  {
   "cell_type": "code",
   "execution_count": null,
   "metadata": {},
   "outputs": [
    {
     "name": "stdout",
     "output_type": "stream",
     "text": [
      "Conversión fallida, asgúrese de usar el formato sugerido\n",
      "hola\n"
     ]
    },
    {
     "data": {
      "text/plain": [
       "[]"
      ]
     },
     "execution_count": 22,
     "metadata": {},
     "output_type": "execute_result"
    }
   ],
   "source": [
    "def cadena_a_enteros():\n",
    "    resultado = []\n",
    "    cadena = str(input(\"Ingrese una cadena de numeros con el siguiente formato: 2,3,4,5,6\"))\n",
    "    cadena_a_lista = cadena.split(',')\n",
    "\n",
    "    for elem in cadena_a_lista:\n",
    "        try:\n",
    "            numero = int(elem)\n",
    "            resultado.append(numero)\n",
    "        except ValueError:\n",
    "            print(\"Conversión fallida, asgúrese de usar el formato sugerido\")\n",
    "            \n",
    "    return resultado\n",
    "\n",
    "cadena_a_enteros()\n",
    "    "
   ]
  },
  {
   "cell_type": "markdown",
   "metadata": {},
   "source": [
    "#### Ejercicio 4: Cálculo del promedio con manejo de excepciones\n",
    "\n",
    "Escribe una función que reciba una lista de números y calcule su promedio. Si la lista está vacía, lanza una excepción personalizada y maneja el error adecuadamente.\n"
   ]
  },
  {
   "cell_type": "code",
   "execution_count": null,
   "metadata": {},
   "outputs": [
    {
     "name": "stdout",
     "output_type": "stream",
     "text": [
      "Introduzca una lista de números enteros separados por comas.\n"
     ]
    }
   ],
   "source": [
    "def calcular_promedio():\n",
    "    try:\n",
    "        entrada = input(\"Introduce una lista de números enteros separados por comas: 2,3,4,5 \").strip()\n",
    "        \n",
    "        if not entrada:\n",
    "            raise ValueError\n",
    "        \n",
    "        lista = [int(valor.strip()) for valor in entrada.split(\",\")]\n",
    "        \n",
    "        promedio = sum(lista) / len(lista)\n",
    "        print(f\"El promedio de los números es: {promedio}\")\n",
    "    \n",
    "    except ValueError:\n",
    "        print(\"Introduzca una lista de números enteros separados por comas.\")\n",
    "\n",
    "calcular_promedio()"
   ]
  },
  {
   "cell_type": "markdown",
   "metadata": {},
   "source": [
    "#### Ejercicio 5: Conversión segura de números\n",
    "\n",
    "Escribe un programa que convierta una cadena a número flotante e intente realizar una operación aritmética. Si la conversión falla, maneja la excepción y continúa con el flujo normal."
   ]
  },
  {
   "cell_type": "code",
   "execution_count": null,
   "metadata": {},
   "outputs": [
    {
     "data": {
      "text/plain": [
       "\"Al input inicial de tipo <class 'str'>, lo hemos convertido a <class 'float'> y le hemos sumado  10: 232.4\""
      ]
     },
     "execution_count": 39,
     "metadata": {},
     "output_type": "execute_result"
    }
   ],
   "source": [
    "def cadena_a_float():\n",
    "    try:\n",
    "        numero = float(input(\"Introduce un número: \"))\n",
    "        resultado = numero + 10\n",
    "        return f\"Al input inicial de tipo {type(numero)}, lo hemos convertido a {type(numero)} y le hemos sumado 10: {resultado}\" \n",
    "    except ValueError:\n",
    "        print(\"Input no valido, únicamente se aceptan decimales: 2.3\")\n",
    "\n",
    "cadena_a_float()\n"
   ]
  },
  {
   "cell_type": "markdown",
   "metadata": {},
   "source": [
    "#### Ejercicio 6: Acceso a claves en diccionarios\n",
    "\n",
    "Escribe un programa que intente acceder a una clave específica en un diccionario. Si la clave no existe, maneja la excepción `KeyError` y muestra un mensaje indicando el problema."
   ]
  },
  {
   "cell_type": "code",
   "execution_count": 55,
   "metadata": {},
   "outputs": [
    {
     "data": {
      "text/plain": [
       "2"
      ]
     },
     "execution_count": 55,
     "metadata": {},
     "output_type": "execute_result"
    }
   ],
   "source": [
    "dict = {0:1, 1:2, 2:10}\n",
    "def acceder_valores_dict():\n",
    "    numero = int(input(f\"En base al siguiente diccionario, introduce el índice del valor al que quieras acceder: {dict}\"))\n",
    "    try:\n",
    "        return dict[numero]\n",
    "    except KeyError:\n",
    "        print(\"Introduzca un valor válido\")\n",
    "\n",
    "acceder_valores_dict()"
   ]
  },
  {
   "cell_type": "markdown",
   "metadata": {},
   "source": [
    "\n",
    "#### Ejercicio 7: Verificación de entradas de usuario\n",
    "\n",
    "Escribe un programa que pida al usuario que introduzca su edad. Si el usuario ingresa un valor no numérico o un valor fuera del rango esperado (por ejemplo, menor que 0 o mayor que 120), maneja las excepciones adecuadamente."
   ]
  },
  {
   "cell_type": "code",
   "execution_count": null,
   "metadata": {},
   "outputs": [
    {
     "name": "stdout",
     "output_type": "stream",
     "text": [
      "Sólo se aceptan números enteros entre 0 y 120\n"
     ]
    }
   ],
   "source": [
    "def edad():\n",
    "    try:\n",
    "        edad = int(input(\"Introduce tu edad: \"))\n",
    "        if edad < 0 or edad > 120:\n",
    "            raise ValueError\n",
    "        return edad\n",
    "    except ValueError:\n",
    "        print(\"Sólo se aceptan números enteros entre 0 y 120\")\n",
    "\n",
    "edad()\n"
   ]
  },
  {
   "cell_type": "markdown",
   "metadata": {},
   "source": [
    "#### Ejercicio 8: Extracción de valores de una lista\n",
    "\n",
    "Escribe una función que intente acceder a un índice específico en una lista. Si el índice está fuera del rango, maneja la excepción `IndexError` y muestra un mensaje adecuado.\n"
   ]
  },
  {
   "cell_type": "code",
   "execution_count": 60,
   "metadata": {},
   "outputs": [
    {
     "data": {
      "text/plain": [
       "1"
      ]
     },
     "execution_count": 60,
     "metadata": {},
     "output_type": "execute_result"
    }
   ],
   "source": [
    "lista = [0,1,2,3,4]\n",
    "def acceder_valores_lista():\n",
    "    entrada = input(f\"En base a la siguiente lista, introduce el índice del valor al que quieras acceder: {lista}\")\n",
    "    numero = int(entrada)\n",
    "    try:\n",
    "        return lista[numero]\n",
    "    except IndexError:\n",
    "        print(f\"Sólo se aceptan números enteros entre 0 y {len(lista) -1}\")\n",
    "    except ValueError:\n",
    "        print(f\"Sólo se aceptan números enteros\")\n",
    "\n",
    "acceder_valores_lista()"
   ]
  }
 ],
 "metadata": {
  "kernelspec": {
   "display_name": "Python 3",
   "language": "python",
   "name": "python3"
  },
  "language_info": {
   "codemirror_mode": {
    "name": "ipython",
    "version": 3
   },
   "file_extension": ".py",
   "mimetype": "text/x-python",
   "name": "python",
   "nbconvert_exporter": "python",
   "pygments_lexer": "ipython3",
   "version": "3.9.6"
  }
 },
 "nbformat": 4,
 "nbformat_minor": 2
}
