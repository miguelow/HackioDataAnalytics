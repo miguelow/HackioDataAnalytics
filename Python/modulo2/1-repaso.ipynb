{
 "cells": [
  {
   "cell_type": "markdown",
   "metadata": {},
   "source": [
    "# Ejercicios repaso de Python\n",
    "\n",
    "## 1. `lista_digitos()`\n",
    "Dado un número entero positivo, convierte el número en una lista donde cada elemento es un dígito del número original, pero en orden inverso. \n",
    "\n",
    "**Input:**\n",
    "- Un número entero, por ejemplo: `348597`\n",
    "\n",
    "**Output esperado:**\n",
    "- Una lista de enteros con los dígitos en orden inverso, por ejemplo: `[7, 9, 5, 8, 4, 3]`\n",
    "\n"
   ]
  },
  {
   "cell_type": "code",
   "execution_count": 6,
   "metadata": {},
   "outputs": [
    {
     "data": {
      "text/plain": [
       "[2, 2, 2, 3]"
      ]
     },
     "execution_count": 6,
     "metadata": {},
     "output_type": "execute_result"
    }
   ],
   "source": [
    "def num_a_lista_inversa(num):\n",
    "    lista_digitos = [int(digito) for digito in str(num)]\n",
    "    lista_digitos.reverse()\n",
    "    return lista_digitos\n",
    "\n",
    "num_a_lista_inversa(3222)"
   ]
  },
  {
   "cell_type": "markdown",
   "metadata": {},
   "source": [
    "## 2. `formatear_nombre()`\n",
    "Dada una lista de nombres escritos en minúsculas o con letras mayúsculas y minúsculas mezcladas, devuelve una nueva lista donde cada nombre está capitalizado correctamente (solo la primera letra en mayúscula).\n",
    "\n",
    "**Input:**\n",
    "- Una lista de strings, por ejemplo: `[\"ana\", \"jUAn\", \"LuIs\"]`\n",
    "\n",
    "**Output esperado:**\n",
    "- Una lista de strings capitalizados, por ejemplo: `[\"Ana\", \"Juan\", \"Luis\"]`"
   ]
  },
  {
   "cell_type": "code",
   "execution_count": 10,
   "metadata": {},
   "outputs": [
    {
     "data": {
      "text/plain": [
       "'Pepe'"
      ]
     },
     "execution_count": 10,
     "metadata": {},
     "output_type": "execute_result"
    }
   ],
   "source": [
    "def format_name(name):\n",
    "    return(name.capitalize())\n",
    "\n",
    "format_name(\"pepe\")"
   ]
  },
  {
   "cell_type": "markdown",
   "metadata": {},
   "source": [
    "## 3. `match_result()`\n",
    "Dada una lista de tuplas con dos números cada una, donde cada número representa el puntaje de dos equipos en un partido, determina el resultado del partido. \n",
    "\n",
    "**Input:**\n",
    "- Una lista de tuplas de enteros, por ejemplo: `[(3, 1), (2, 2), (1, 4)]`\n",
    "\n",
    "**Output esperado:**\n",
    "- Una lista de strings con el resultado para cada partida, por ejemplo: `[\"ganador\", \"empate\", \"perdedor\"]`"
   ]
  },
  {
   "cell_type": "code",
   "execution_count": 14,
   "metadata": {},
   "outputs": [
    {
     "data": {
      "text/plain": [
       "['ganador', 'empate', 'perdedor']"
      ]
     },
     "execution_count": 14,
     "metadata": {},
     "output_type": "execute_result"
    }
   ],
   "source": [
    "def match_result(lista):\n",
    "    result = []\n",
    "    for partido in lista:\n",
    "        if(partido[0] > partido[1]):\n",
    "            result.append(\"ganador\")\n",
    "        elif(partido[0] == partido[1]):\n",
    "            result.append(\"empate\")\n",
    "        else:\n",
    "            result.append(\"perdedor\")\n",
    "    \n",
    "    return result\n",
    "\n",
    "match_result([(3, 1), (2, 2), (1, 4)])"
   ]
  },
  {
   "cell_type": "markdown",
   "metadata": {},
   "source": [
    "## 4. `what_is_between()`\n",
    "Crea una lista con todos los números enteros entre dos valores dados, incluyendo ambos extremos.\n",
    "\n",
    "**Input:**\n",
    "- Dos números enteros, por ejemplo: `3` y `7`\n",
    "\n",
    "**Output esperado:**\n",
    "- Una lista de enteros entre los valores dados, por ejemplo: `[3, 4, 5, 6, 7]`"
   ]
  },
  {
   "cell_type": "code",
   "execution_count": null,
   "metadata": {},
   "outputs": [
    {
     "ename": "SyntaxError",
     "evalue": "incomplete input (723681192.py, line 1)",
     "output_type": "error",
     "traceback": [
      "\u001b[0;36m  Cell \u001b[0;32mIn[1], line 1\u001b[0;36m\u001b[0m\n\u001b[0;31m    def what_is_between(num1, num2):\u001b[0m\n\u001b[0m                                    ^\u001b[0m\n\u001b[0;31mSyntaxError\u001b[0m\u001b[0;31m:\u001b[0m incomplete input\n"
     ]
    }
   ],
   "source": []
  },
  {
   "cell_type": "markdown",
   "metadata": {},
   "source": [
    "## 5. `es_mayus()`\n",
    "Dado un string, verifica si todas sus letras están en mayúsculas. Ignora los espacios para que no afecten el resultado.\n",
    "\n",
    "**Input:**\n",
    "- Un string, por ejemplo: `\"HOLA MUNDO\"`\n",
    "\n",
    "**Output esperado:**\n",
    "- `True` si todas las letras están en mayúsculas, `False` en caso contrario."
   ]
  },
  {
   "cell_type": "code",
   "execution_count": 6,
   "metadata": {},
   "outputs": [
    {
     "data": {
      "text/plain": [
       "False"
      ]
     },
     "execution_count": 6,
     "metadata": {},
     "output_type": "execute_result"
    }
   ],
   "source": [
    "def es_mayus(texto):\n",
    "    return texto.isupper()\n",
    "\n",
    "es_mayus(\"PEPE\")\n",
    "es_mayus(\"PEPe\")"
   ]
  },
  {
   "cell_type": "markdown",
   "metadata": {},
   "source": [
    "## 6. `cuanta_comida_en_mochila()`\n",
    "Dadas dos listas: una llamada `comida` con los alimentos que quieres comprobar y otra llamada `nevera` con los alimentos que tienes, cuenta cuántos de los alimentos de `comida` se encuentran en `nevera`.\n",
    "\n",
    "**Input:**\n",
    "- Dos listas de strings, por ejemplo: `[\"manzanas\", \"leche\", \"pan\"]` y `[\"pan\", \"queso\", \"leche\"]`\n",
    "\n",
    "**Output esperado:**\n",
    "- Un número entero que representa cuántos elementos de `comida` están en `nevera`, por ejemplo: `2`"
   ]
  },
  {
   "cell_type": "code",
   "execution_count": 19,
   "metadata": {},
   "outputs": [
    {
     "name": "stdout",
     "output_type": "stream",
     "text": [
      "Ejemplo 1: Tu lista de la compra ['manzanas']\n",
      "Ejemplo 2: Ya tienes todo\n"
     ]
    }
   ],
   "source": [
    "def cuanta_comida_en_mochila(comida, nevera):\n",
    "    result = []\n",
    "    for elem in comida:\n",
    "        if elem not in nevera:\n",
    "              result.append(elem)\n",
    "    if(len(result)):\n",
    "        return f\"Tu lista de la compra {result}\" \n",
    "    else:\n",
    "        return f\"Ya tienes todo\" \n",
    "print(\"Ejemplo 1: \" + cuanta_comida_en_mochila([\"manzanas\", \"leche\", \"pan\"], [\"pan\", \"queso\", \"leche\"]))\n",
    "print(\"Ejemplo 2: \" + cuanta_comida_en_mochila([\"leche\", \"pan\"], [\"pan\", \"queso\", \"leche\"]))"
   ]
  },
  {
   "cell_type": "markdown",
   "metadata": {},
   "source": [
    "## 7. `añadir_apellido()`\n",
    "Dado un diccionario que representa a una persona con claves como \"nombre\" y \"edad\", añade una nueva clave llamada \"apellido\" con un valor proporcionado.\n",
    "\n",
    "**Input:**\n",
    "- Un diccionario, por ejemplo: `{\"nombre\": \"Juan\", \"edad\": 30}`\n",
    "- Un string con el apellido, por ejemplo: `\"García\"`\n",
    "\n",
    "**Output esperado:**\n",
    "- El diccionario actualizado, por ejemplo: `{\"nombre\": \"Juan\", \"edad\": 30, \"apellido\": \"García\"}`"
   ]
  },
  {
   "cell_type": "code",
   "execution_count": null,
   "metadata": {},
   "outputs": [],
   "source": []
  },
  {
   "cell_type": "markdown",
   "metadata": {},
   "source": [
    "## 8. `corregir_nombre_socio()`\n",
    "Dado un diccionario con un nombre incorrecto (por ejemplo, letras mezcladas o en minúsculas), revisa y corrige cada letra del nombre basándote en una versión de referencia correcta. La función debería trabajar para un solo diccionario y luego reutilizarse para corregir una lista de diccionarios de nombres.\n",
    "\n",
    "**Input:**\n",
    "- Un diccionario, por ejemplo: `{\"nombre\": \"jUn\", \"edad\": 40}`\n",
    "- Un string con el nombre correcto, por ejemplo: `\"Juan\"`\n",
    "\n",
    "**Output esperado:**\n",
    "- El diccionario con el nombre corregido, por ejemplo: `{\"nombre\": \"Juan\", \"edad\": 40}`"
   ]
  },
  {
   "cell_type": "code",
   "execution_count": null,
   "metadata": {},
   "outputs": [],
   "source": []
  },
  {
   "cell_type": "markdown",
   "metadata": {},
   "source": [
    "## 9. `crear_diccionario_notas()`\n",
    "Crea un diccionario que almacene nombres de estudiantes como claves y sus notas como valores. Puedes usar `zip()` para combinar dos listas: una de nombres y otra de notas.\n",
    "\n",
    "**Input:**\n",
    "- Dos listas, una con nombres de estudiantes (por ejemplo: `[\"Ana\", \"Luis\", \"Maria\"]`) y otra con sus notas (por ejemplo: `[85, 90, 78]`).\n",
    "\n",
    "**Output esperado:**\n",
    "- Un diccionario donde cada nombre está asociado a su nota, por ejemplo: `{\"Ana\": 85, \"Luis\": 90, \"Maria\": 78}`"
   ]
  },
  {
   "cell_type": "code",
   "execution_count": null,
   "metadata": {},
   "outputs": [],
   "source": []
  },
  {
   "cell_type": "markdown",
   "metadata": {},
   "source": [
    "## 10. `crear_diccionario_notas_tupla()`\n",
    "Similar al ejercicio anterior, pero aquí la información de los estudiantes y sus notas viene en una lista de tuplas. Cada tupla contiene el nombre y la nota de un estudiante.\n",
    "\n",
    "**Input:**\n",
    "- Una lista de tuplas, por ejemplo: `[(\"Ana\", 85), (\"Luis\", 90), (\"Maria\", 78)]`\n",
    "\n",
    "**Output esperado:**\n",
    "- Un diccionario donde cada nombre está asociado a su nota, por ejemplo: `{\"Ana\": 85, \"Luis\": 90, \"Maria\": 78}`"
   ]
  },
  {
   "cell_type": "code",
   "execution_count": null,
   "metadata": {},
   "outputs": [],
   "source": []
  }
 ],
 "metadata": {
  "kernelspec": {
   "display_name": "Python 3",
   "language": "python",
   "name": "python3"
  },
  "language_info": {
   "codemirror_mode": {
    "name": "ipython",
    "version": 3
   },
   "file_extension": ".py",
   "mimetype": "text/x-python",
   "name": "python",
   "nbconvert_exporter": "python",
   "pygments_lexer": "ipython3",
   "version": "3.12.4"
  }
 },
 "nbformat": 4,
 "nbformat_minor": 2
}
