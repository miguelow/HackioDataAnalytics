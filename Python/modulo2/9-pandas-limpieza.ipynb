{
 "cells": [
  {
   "cell_type": "markdown",
   "id": "501abb38",
   "metadata": {},
   "source": [
    "<div style=\"text-align: center;\">\n",
    "  <img src=\"https://github.com/Hack-io-Data/Imagenes/blob/main/01-LogosHackio/logo_naranja@4x.png?raw=true\" alt=\"esquema\" />\n",
    "</div>"
   ]
  },
  {
   "cell_type": "markdown",
   "id": "373ed691",
   "metadata": {},
   "source": [
    "# Laboratorio Limpieza de Datos\n",
    "\n",
    "En este laboratorio usaremos el DataFrame de Netflix completo creado en los primeros laboratorios de Pandas. \n",
    "\n",
    "**Instrucciones:**\n",
    "\n",
    "1. Lee cuidadosamente el enunciado de cada ejercicio.\n",
    "\n",
    "2. Implementa la solución en la celda de código proporcionada.\n",
    "\n",
    "3. Documenta todas las funciones creadas durante el ejercicio. \n",
    "\n",
    "4. Debes incluir después de cada gráfica la interpretación de las mismas en una celda de markdown. "
   ]
  },
  {
   "cell_type": "markdown",
   "id": "49e12af9",
   "metadata": {},
   "source": [
    "## Parte 1: Limpieza y Preparación de Datos"
   ]
  },
  {
   "cell_type": "markdown",
   "id": "c205b61f",
   "metadata": {},
   "source": [
    "#### Ejercicio 1: Estandarización y limpieza de columnas\n",
    "\n",
    "En este ejercicio, debes limpiar y estandarizar algunas columnas clave para hacerlas más manejables y consistentes en tus análisis. Específicamente, trabajarás con las columnas `date_added` y `duration` para convertirlas a un formato uniforme y estructurado.\n",
    "\n",
    "Instrucciones:\n",
    "\n",
    "1. **Convertir la columna `date_added`**: La columna `date_added` contiene fechas en formato de texto. Debes convertirla a un formato `datetime` que pandas pueda entender y manejar fácilmente.\n",
    "\n",
    "2. **Limpiar la columna `duration`**: La columna `duration` tiene valores en diferentes formatos como \"1 Season\", \"2 Seasons\", \"90 min\", etc. Tu tarea es extraer el número (ya sea el número de temporadas o la cantidad de minutos) y crear una nueva columna llamada `duration_cleaned` con esos valores estandarizados.\n",
    "\n",
    "\n",
    "**Resultado Esperado:**\n",
    "Deberás obtener algo como esto:\n",
    "\n",
    "| duration   | duration_cleaned |\n",
    "|------------|-----------------|\n",
    "| 1 Season   | 1               |\n",
    "| 90 min     | 90              |\n",
    "| 2 Seasons  | 2               |\n",
    "| 45 min     | 45              |\n",
    "| 3 Seasons  | 3               |"
   ]
  },
  {
   "cell_type": "code",
   "execution_count": null,
   "id": "5013f3b3",
   "metadata": {},
   "outputs": [],
   "source": []
  },
  {
   "cell_type": "markdown",
   "id": "71502af5",
   "metadata": {},
   "source": [
    "#### Ejercicio 2: Normalización de la columna `rating`\n",
    "\n",
    "La columna `rating` tiene diferentes calificaciones como `PG`, `PG-13`, `R`, entre otras. Debes categorizar estas calificaciones en tres grupos:\n",
    "\n",
    "- **'General Audience'** para calificaciones como `G`, `PG`.\n",
    "\n",
    "- **'Teens'** para calificaciones como `PG-13`, `TV-14`.\n",
    "\n",
    "- **'Adults'** para calificaciones como `R`, `TV-MA`.\n"
   ]
  },
  {
   "cell_type": "code",
   "execution_count": null,
   "id": "868336e8",
   "metadata": {},
   "outputs": [],
   "source": []
  },
  {
   "cell_type": "markdown",
   "id": "84b2c4ca",
   "metadata": {},
   "source": [
    "#### Ejercicio 3: Creación de una columna personalizada basada en el elenco\n",
    "\n",
    "Vamos a identificar si un actor clave como `Leonardo DiCaprio`, `Tom Hanks`, o `Morgan Freeman` aparece en el elenco.\n",
    "\n",
    "Usa `apply` y una función lambda para crear una nueva columna llamada `has_famous_actor` que contenga `True` si alguno de estos actores está en la lista de `cast` y `False` en caso contrario."
   ]
  },
  {
   "cell_type": "code",
   "execution_count": null,
   "id": "01a84a8f",
   "metadata": {},
   "outputs": [],
   "source": []
  },
  {
   "cell_type": "markdown",
   "id": "ca4480e9",
   "metadata": {},
   "source": [
    "#### Ejercicio 4: Creación de una columna personalizada usando lógica condicional\n",
    "\n",
    "Vamos a crear una columna llamada `is_recent` que identifique si un título fue lanzado en los últimos 5 años.\n",
    "\n",
    "Crea una función para marcar con `True` si el título es reciente (lanzado en los últimos 5 años) y `False` si no lo es."
   ]
  },
  {
   "cell_type": "code",
   "execution_count": null,
   "id": "1b34a219",
   "metadata": {},
   "outputs": [],
   "source": []
  },
  {
   "cell_type": "markdown",
   "id": "68c49aee",
   "metadata": {},
   "source": [
    "#### Ejercicio 5: Clasificación de películas por década\n",
    "\n",
    "En este ejercicio, tu objetivo es categorizar los años de lanzamiento de las películas o series en décadas. La columna `release_year` contiene el año de lanzamiento y debes crear una nueva columna llamada `decade` que indique la década correspondiente, como \"1990s\", \"2000s\", etc.\n"
   ]
  },
  {
   "cell_type": "code",
   "execution_count": null,
   "id": "b603e8b4",
   "metadata": {},
   "outputs": [],
   "source": []
  },
  {
   "cell_type": "markdown",
   "id": "fdfac313",
   "metadata": {},
   "source": [
    "#### Ejercicio 6: Extracción de información\n",
    "\n",
    "Para practicar la extracción de información:\n",
    "\n",
    "1. **Extrae el primer actor** de la lista en la columna `cast` y crea una nueva columna llamada `first_actor`.\n",
    "\n",
    "2. **Extrae el primer nombre del director** y guárdalo en una columna llamada `first_name_director`.\n"
   ]
  },
  {
   "cell_type": "code",
   "execution_count": null,
   "id": "b6944181",
   "metadata": {},
   "outputs": [],
   "source": []
  },
  {
   "cell_type": "markdown",
   "id": "219bcedd",
   "metadata": {},
   "source": [
    "#### Ejercicio 7: Limpieza de la columna `cast`\n",
    "\n",
    "La columna `cast` contiene una lista de actores separados por comas. Tu objetivo es realizar las siguientes tareas:\n",
    "\n",
    "1. **Reemplaza los valores nulos** en la columna `cast` por \"sin información\".\n",
    "\n",
    "2. **Contar el número de actores** en cada entrada y crear una nueva columna llamada `num_cast`.\n",
    "\n",
    "3. **Normalizar los nombres**: Asegúrate de que los nombres de los actores estén en un formato consistente (por ejemplo, quitar espacios adicionales).\n"
   ]
  },
  {
   "cell_type": "code",
   "execution_count": null,
   "id": "0ceaa880",
   "metadata": {},
   "outputs": [],
   "source": []
  },
  {
   "cell_type": "markdown",
   "id": "cb3fe338",
   "metadata": {},
   "source": [
    "\n",
    "#### Ejercicio 9: Identificación de Directores Recurrentes\n",
    "\n",
    "En este ejercicio, debes identificar los directores que aparecen más de una vez en el conjunto de datos. Realiza los siguientes pasos:\n",
    "\n",
    "1. **Reemplaza los valores nulos** en la columna `director` por \"sin información\".\n",
    "\n",
    "3. **Cuenta cuántas veces aparece cada director** en la columna creada en el ejercicio 6.\n",
    "\n",
    "4. **Filtra aquellos directores que aparecen más de una vez** y crea una nueva columna llamada `recurrent_director` donde se indique \"Yes\" si el director aparece varias veces o \"No\" en caso contrario."
   ]
  },
  {
   "cell_type": "code",
   "execution_count": null,
   "id": "be05f42d",
   "metadata": {},
   "outputs": [],
   "source": []
  }
 ],
 "metadata": {
  "kernelspec": {
   "display_name": "contenido",
   "language": "python",
   "name": "python3"
  },
  "language_info": {
   "codemirror_mode": {
    "name": "ipython",
    "version": 3
   },
   "file_extension": ".py",
   "mimetype": "text/x-python",
   "name": "python",
   "nbconvert_exporter": "python",
   "pygments_lexer": "ipython3",
   "version": "3.11.8"
  }
 },
 "nbformat": 4,
 "nbformat_minor": 5
}
