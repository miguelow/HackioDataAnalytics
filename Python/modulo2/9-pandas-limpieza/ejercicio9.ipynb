{
 "cells": [
  {
   "cell_type": "markdown",
   "id": "501abb38",
   "metadata": {},
   "source": [
    "<div style=\"text-align: center;\">\n",
    "  <img src=\"https://github.com/Hack-io-Data/Imagenes/blob/main/01-LogosHackio/logo_naranja@4x.png?raw=true\" alt=\"esquema\" />\n",
    "</div>"
   ]
  },
  {
   "cell_type": "markdown",
   "id": "373ed691",
   "metadata": {},
   "source": [
    "# Laboratorio Limpieza de Datos\n",
    "\n",
    "En este laboratorio usaremos el DataFrame de Netflix completo creado en los primeros laboratorios de Pandas. \n",
    "\n",
    "**Instrucciones:**\n",
    "\n",
    "1. Lee cuidadosamente el enunciado de cada ejercicio.\n",
    "\n",
    "2. Implementa la solución en la celda de código proporcionada.\n",
    "\n",
    "3. Documenta todas las funciones creadas durante el ejercicio. \n",
    "\n",
    "4. Debes incluir después de cada gráfica la interpretación de las mismas en una celda de markdown. "
   ]
  },
  {
   "cell_type": "code",
   "execution_count": 1,
   "id": "c277ad3f",
   "metadata": {},
   "outputs": [],
   "source": [
    "import pandas as pd\n",
    "import numpy as np\n",
    "pd.set_option('display.max_columns', None) "
   ]
  },
  {
   "cell_type": "code",
   "execution_count": 2,
   "id": "87affea3",
   "metadata": {},
   "outputs": [
    {
     "data": {
      "text/html": [
       "<div>\n",
       "<style scoped>\n",
       "    .dataframe tbody tr th:only-of-type {\n",
       "        vertical-align: middle;\n",
       "    }\n",
       "\n",
       "    .dataframe tbody tr th {\n",
       "        vertical-align: top;\n",
       "    }\n",
       "\n",
       "    .dataframe thead th {\n",
       "        text-align: right;\n",
       "    }\n",
       "</style>\n",
       "<table border=\"1\" class=\"dataframe\">\n",
       "  <thead>\n",
       "    <tr style=\"text-align: right;\">\n",
       "      <th></th>\n",
       "      <th>show_id</th>\n",
       "      <th>type</th>\n",
       "      <th>Title</th>\n",
       "      <th>director</th>\n",
       "      <th>cast</th>\n",
       "      <th>country</th>\n",
       "      <th>date_added</th>\n",
       "      <th>release_year</th>\n",
       "      <th>rating</th>\n",
       "      <th>duration</th>\n",
       "      <th>listed_in</th>\n",
       "      <th>description</th>\n",
       "      <th>Genre</th>\n",
       "      <th>Premiere</th>\n",
       "      <th>Runtime</th>\n",
       "      <th>IMDB Score</th>\n",
       "      <th>Language</th>\n",
       "      <th>_merge</th>\n",
       "    </tr>\n",
       "  </thead>\n",
       "  <tbody>\n",
       "    <tr>\n",
       "      <th>0</th>\n",
       "      <td>s1</td>\n",
       "      <td>Movie</td>\n",
       "      <td>Dick Johnson Is Dead</td>\n",
       "      <td>Kirsten Johnson</td>\n",
       "      <td>NaN</td>\n",
       "      <td>United States</td>\n",
       "      <td>2021-09-25</td>\n",
       "      <td>2020</td>\n",
       "      <td>PG-13</td>\n",
       "      <td>90 min</td>\n",
       "      <td>Documentaries</td>\n",
       "      <td>As her father nears the end of his life, filmm...</td>\n",
       "      <td>Documentary</td>\n",
       "      <td>2020-10-02</td>\n",
       "      <td>90.0</td>\n",
       "      <td>7.5</td>\n",
       "      <td>English</td>\n",
       "      <td>both</td>\n",
       "    </tr>\n",
       "  </tbody>\n",
       "</table>\n",
       "</div>"
      ],
      "text/plain": [
       "  show_id   type                 Title         director cast        country  \\\n",
       "0      s1  Movie  Dick Johnson Is Dead  Kirsten Johnson  NaN  United States   \n",
       "\n",
       "   date_added  release_year rating duration      listed_in  \\\n",
       "0  2021-09-25          2020  PG-13   90 min  Documentaries   \n",
       "\n",
       "                                         description        Genre    Premiere  \\\n",
       "0  As her father nears the end of his life, filmm...  Documentary  2020-10-02   \n",
       "\n",
       "   Runtime  IMDB Score Language _merge  \n",
       "0     90.0         7.5  English   both  "
      ]
     },
     "execution_count": 2,
     "metadata": {},
     "output_type": "execute_result"
    }
   ],
   "source": [
    "df = pd.read_csv(\"./df_resultante.csv\", index_col=0)\n",
    "df.head(1)"
   ]
  },
  {
   "cell_type": "markdown",
   "id": "49e12af9",
   "metadata": {},
   "source": [
    "## Parte 1: Limpieza y Preparación de Datos"
   ]
  },
  {
   "cell_type": "markdown",
   "id": "c205b61f",
   "metadata": {},
   "source": [
    "#### Ejercicio 1: Estandarización y limpieza de columnas\n",
    "\n",
    "En este ejercicio, debes limpiar y estandarizar algunas columnas clave para hacerlas más manejables y consistentes en tus análisis. Específicamente, trabajarás con las columnas `date_added` y `duration` para convertirlas a un formato uniforme y estructurado.\n",
    "\n",
    "Instrucciones:\n",
    "\n",
    "1. **Convertir la columna `date_added`**: La columna `date_added` contiene fechas en formato de texto. Debes convertirla a un formato `datetime` que pandas pueda entender y manejar fácilmente.\n",
    "\n",
    "2. **Limpiar la columna `duration`**: La columna `duration` tiene valores en diferentes formatos como \"1 Season\", \"2 Seasons\", \"90 min\", etc. Tu tarea es extraer el número (ya sea el número de temporadas o la cantidad de minutos) y crear una nueva columna llamada `duration_cleaned` con esos valores estandarizados.\n",
    "\n",
    "\n",
    "**Resultado Esperado:**\n",
    "Deberás obtener algo como esto:\n",
    "\n",
    "| duration   | duration_cleaned |\n",
    "|------------|-----------------|\n",
    "| 1 Season   | 1               |\n",
    "| 90 min     | 90              |\n",
    "| 2 Seasons  | 2               |\n",
    "| 45 min     | 45              |\n",
    "| 3 Seasons  | 3               |"
   ]
  },
  {
   "cell_type": "code",
   "execution_count": null,
   "id": "5013f3b3",
   "metadata": {},
   "outputs": [
    {
     "data": {
      "text/plain": [
       "0    2021-09-25\n",
       "Name: date_added, dtype: object"
      ]
     },
     "execution_count": 6,
     "metadata": {},
     "output_type": "execute_result"
    }
   ],
   "source": [
    "df[\"date_added\"].head(1)\n",
    "# Aprovechando el formato año-mes-guion, mantendremos ese formato pero en tipo fecha"
   ]
  },
  {
   "cell_type": "code",
   "execution_count": 7,
   "id": "fa3f786b",
   "metadata": {},
   "outputs": [],
   "source": [
    "df['date_added'] = pd.to_datetime(df['date_added'], format='%Y-%m-%d')"
   ]
  },
  {
   "cell_type": "code",
   "execution_count": null,
   "id": "8f16fd6b",
   "metadata": {},
   "outputs": [
    {
     "data": {
      "text/plain": [
       "0   2021-09-25\n",
       "Name: date_added, dtype: datetime64[ns]"
      ]
     },
     "execution_count": 10,
     "metadata": {},
     "output_type": "execute_result"
    }
   ],
   "source": [
    "df['date_added'].head(1)\n",
    "# Podemos ver como dtype nos indica que es de tipo fecha"
   ]
  },
  {
   "cell_type": "markdown",
   "id": "71502af5",
   "metadata": {},
   "source": [
    "#### Ejercicio 2: Normalización de la columna `rating`\n",
    "\n",
    "La columna `rating` tiene diferentes calificaciones como `PG`, `PG-13`, `R`, entre otras. Debes categorizar estas calificaciones en tres grupos:\n",
    "\n",
    "- **'General Audience'** para calificaciones como `G`, `PG`.\n",
    "\n",
    "- **'Teens'** para calificaciones como `PG-13`, `TV-14`.\n",
    "\n",
    "- **'Adults'** para calificaciones como `R`, `TV-MA`.\n"
   ]
  },
  {
   "cell_type": "code",
   "execution_count": 13,
   "id": "445bfdf3",
   "metadata": {},
   "outputs": [
    {
     "name": "stdout",
     "output_type": "stream",
     "text": [
      "Estos son los diferentes valores que encontramos en la columna rating ['PG-13' 'TV-MA' 'PG' 'TV-14' 'TV-PG' 'TV-Y' 'TV-Y7' 'R' 'TV-G' 'G'\n",
      " 'NC-17' '74 min' '84 min' '66 min' 'NR' nan 'TV-Y7-FV' 'UR']\n"
     ]
    }
   ],
   "source": [
    "print(\"Estos son los diferentes valores que encontramos en la columna rating\", df[\"rating\"].unique())"
   ]
  },
  {
   "cell_type": "code",
   "execution_count": 14,
   "id": "868336e8",
   "metadata": {},
   "outputs": [],
   "source": [
    "def normalizar_rating(rating):\n",
    "    rating = str(rating).upper().strip()\n",
    "    \n",
    "    general_audience = {'G', 'PG'}\n",
    "    teens = {'PG-13', 'TV-14'}\n",
    "    adults = {'R', 'TV-MA'}\n",
    "    \n",
    "    if rating in general_audience:\n",
    "        return 'General Audience'\n",
    "    elif rating in teens:\n",
    "        return 'Teens'\n",
    "    elif rating in adults:\n",
    "        return 'Adults'\n",
    "    else:\n",
    "        return 'Not classified'\n",
    "\n",
    "df['rating_normalizado'] = df['rating'].apply(normalizar_rating)"
   ]
  },
  {
   "cell_type": "code",
   "execution_count": 18,
   "id": "b731c82f",
   "metadata": {},
   "outputs": [
    {
     "name": "stdout",
     "output_type": "stream",
     "text": [
      "Así quedaría la nueva columna después de normalizar rating rating_normalizado\n",
      "Adults              4006\n",
      "Teens               2650\n",
      "Not classified      1823\n",
      "General Audience     328\n",
      "Name: count, dtype: int64\n"
     ]
    }
   ],
   "source": [
    "print(\"Así quedaría la nueva columna después de normalizar rating\", df[\"rating_normalizado\"].value_counts())"
   ]
  },
  {
   "cell_type": "markdown",
   "id": "84b2c4ca",
   "metadata": {},
   "source": [
    "#### Ejercicio 3: Creación de una columna personalizada basada en el elenco\n",
    "\n",
    "Vamos a identificar si un actor clave como `Leonardo DiCaprio`, `Tom Hanks`, o `Morgan Freeman` aparece en el elenco.\n",
    "\n",
    "Usa `apply` y una función lambda para crear una nueva columna llamada `has_famous_actor` que contenga `True` si alguno de estos actores está en la lista de `cast` y `False` en caso contrario."
   ]
  },
  {
   "cell_type": "code",
   "execution_count": null,
   "id": "01a84a8f",
   "metadata": {},
   "outputs": [],
   "source": [
    "actores_famosos = [\"Leonardo DiCaprio\", \"Tom Hanks\", \"Morgan Freeman\"]\n",
    "\n",
    "df['has_famoues_actor'] = df['cast'].apply(\n",
    "    lambda x: True if any(\n",
    "        actor.strip() in actores_famosos \n",
    "        for actor in str(x).split(',')\n",
    "    ) else False\n",
    ")\n",
    "\n",
    "# La columna cast, al ser una lista en forma de String, separando los acotres por \n",
    "# comas, requiere hacer el split() para separarlos y poder hacer la comparación"
   ]
  },
  {
   "cell_type": "code",
   "execution_count": 28,
   "id": "f1cfff22",
   "metadata": {},
   "outputs": [
    {
     "name": "stdout",
     "output_type": "stream",
     "text": [
      "Contamos con 35 películas donde sí se da esta condición has_famoues_actor\n",
      "False    8772\n",
      "True       35\n",
      "Name: count, dtype: int64\n"
     ]
    }
   ],
   "source": [
    "print(\"Contamos con 35 películas donde sí se da esta condición\", df[\"has_famoues_actor\"].value_counts())"
   ]
  },
  {
   "cell_type": "markdown",
   "id": "ca4480e9",
   "metadata": {},
   "source": [
    "#### Ejercicio 4: Creación de una columna personalizada usando lógica condicional\n",
    "\n",
    "Vamos a crear una columna llamada `is_recent` que identifique si un título fue lanzado en los últimos 5 años.\n",
    "\n",
    "Crea una función para marcar con `True` si el título es reciente (lanzado en los últimos 5 años) y `False` si no lo es."
   ]
  },
  {
   "cell_type": "code",
   "execution_count": 30,
   "id": "1b34a219",
   "metadata": {},
   "outputs": [],
   "source": [
    "from datetime import datetime\n",
    "\n",
    "def is_recent(release_year):\n",
    "        current_year = datetime.now().year\n",
    "        año_pelicula = pd.to_numeric(release_year)\n",
    "        if current_year - año_pelicula <= 5:\n",
    "            return True\n",
    "        else:\n",
    "            return False\n",
    "\n",
    "df['is_recent'] = df['release_year'].apply(is_recent)"
   ]
  },
  {
   "cell_type": "code",
   "execution_count": 34,
   "id": "1b924634",
   "metadata": {},
   "outputs": [
    {
     "name": "stdout",
     "output_type": "stream",
     "text": [
      "Distribución de las películas por is_recent is_recent\n",
      "False    6232\n",
      "True     2575\n",
      "Name: count, dtype: int64\n"
     ]
    }
   ],
   "source": [
    "print(\"Distribución de las películas por is_recent\", df[\"is_recent\"].value_counts())"
   ]
  },
  {
   "cell_type": "markdown",
   "id": "68c49aee",
   "metadata": {},
   "source": [
    "#### Ejercicio 5: Clasificación de películas por década\n",
    "\n",
    "En este ejercicio, tu objetivo es categorizar los años de lanzamiento de las películas o series en décadas. La columna `release_year` contiene el año de lanzamiento y debes crear una nueva columna llamada `decade` que indique la década correspondiente, como \"1990s\", \"2000s\", etc.\n"
   ]
  },
  {
   "cell_type": "code",
   "execution_count": 35,
   "id": "b603e8b4",
   "metadata": {},
   "outputs": [],
   "source": [
    "def get_decade(release_year):\n",
    "    año_menos_ultimo_digito = pd.to_numeric(release_year)\n",
    "    return (año_menos_ultimo_digito // 10) * 10\n",
    "# Usando el símbolo de la doble división, no nos devuelve \n",
    "# decimales, así quitamos el último dígito y luego añadimos un 0 para indicar la década\n",
    "df['decade'] = df['release_year'].apply(get_decade)"
   ]
  },
  {
   "cell_type": "code",
   "execution_count": null,
   "id": "5058b77d",
   "metadata": {},
   "outputs": [
    {
     "name": "stdout",
     "output_type": "stream",
     "text": [
      "Distribución de las películas por is_recent decade\n",
      "2010    5927\n",
      "2020    1545\n",
      "2000     810\n",
      "1990     274\n",
      "1980     129\n",
      "1970      70\n",
      "1960      25\n",
      "1940      15\n",
      "1950      11\n",
      "1920       1\n",
      "Name: count, dtype: int64\n"
     ]
    }
   ],
   "source": [
    "print(\"Distribución de las películas décadas\", df[\"decade\"].value_counts())"
   ]
  },
  {
   "cell_type": "markdown",
   "id": "fdfac313",
   "metadata": {},
   "source": [
    "#### Ejercicio 6: Extracción de información\n",
    "\n",
    "Para practicar la extracción de información:\n",
    "\n",
    "1. **Extrae el primer actor** de la lista en la columna `cast` y crea una nueva columna llamada `first_actor`.\n",
    "\n",
    "2. **Extrae el primer nombre del director** y guárdalo en una columna llamada `first_name_director`.\n"
   ]
  },
  {
   "cell_type": "code",
   "execution_count": 43,
   "id": "b6944181",
   "metadata": {},
   "outputs": [],
   "source": [
    "def get_first_actor(names_string):\n",
    "    if pd.isna(names_string) or names_string == '':\n",
    "        return None\n",
    "    return names_string.split(',')[0].strip()\n",
    "\n",
    "def get_first_director(names_string):\n",
    "    if pd.isna(names_string) or names_string == '':\n",
    "        return None\n",
    "    first_name = names_string.split(',')[0].strip().split(' ')[0]\n",
    "    return first_name\n",
    "\n",
    "df['first_actor'] = df['cast'].apply(get_first_actor)\n",
    "df['first_name_director'] = df['director'].apply(get_first_director)"
   ]
  },
  {
   "cell_type": "code",
   "execution_count": 47,
   "id": "0900e3aa",
   "metadata": {},
   "outputs": [
    {
     "data": {
      "text/html": [
       "<div>\n",
       "<style scoped>\n",
       "    .dataframe tbody tr th:only-of-type {\n",
       "        vertical-align: middle;\n",
       "    }\n",
       "\n",
       "    .dataframe tbody tr th {\n",
       "        vertical-align: top;\n",
       "    }\n",
       "\n",
       "    .dataframe thead th {\n",
       "        text-align: right;\n",
       "    }\n",
       "</style>\n",
       "<table border=\"1\" class=\"dataframe\">\n",
       "  <thead>\n",
       "    <tr style=\"text-align: right;\">\n",
       "      <th></th>\n",
       "      <th>show_id</th>\n",
       "      <th>type</th>\n",
       "      <th>Title</th>\n",
       "      <th>director</th>\n",
       "      <th>cast</th>\n",
       "      <th>country</th>\n",
       "      <th>date_added</th>\n",
       "      <th>release_year</th>\n",
       "      <th>rating</th>\n",
       "      <th>duration</th>\n",
       "      <th>listed_in</th>\n",
       "      <th>description</th>\n",
       "      <th>Genre</th>\n",
       "      <th>Premiere</th>\n",
       "      <th>Runtime</th>\n",
       "      <th>IMDB Score</th>\n",
       "      <th>Language</th>\n",
       "      <th>_merge</th>\n",
       "      <th>rating_normalizado</th>\n",
       "      <th>has_famoues_actor</th>\n",
       "      <th>is_recent</th>\n",
       "      <th>decade</th>\n",
       "      <th>first_actor</th>\n",
       "      <th>first_name_director</th>\n",
       "    </tr>\n",
       "  </thead>\n",
       "  <tbody>\n",
       "    <tr>\n",
       "      <th>0</th>\n",
       "      <td>s1</td>\n",
       "      <td>Movie</td>\n",
       "      <td>Dick Johnson Is Dead</td>\n",
       "      <td>Kirsten Johnson</td>\n",
       "      <td>NaN</td>\n",
       "      <td>United States</td>\n",
       "      <td>2021-09-25</td>\n",
       "      <td>2020</td>\n",
       "      <td>PG-13</td>\n",
       "      <td>90 min</td>\n",
       "      <td>Documentaries</td>\n",
       "      <td>As her father nears the end of his life, filmm...</td>\n",
       "      <td>Documentary</td>\n",
       "      <td>2020-10-02</td>\n",
       "      <td>90.0</td>\n",
       "      <td>7.5</td>\n",
       "      <td>English</td>\n",
       "      <td>both</td>\n",
       "      <td>Teens</td>\n",
       "      <td>False</td>\n",
       "      <td>True</td>\n",
       "      <td>2020</td>\n",
       "      <td>None</td>\n",
       "      <td>Kirsten</td>\n",
       "    </tr>\n",
       "  </tbody>\n",
       "</table>\n",
       "</div>"
      ],
      "text/plain": [
       "  show_id   type                 Title         director cast        country  \\\n",
       "0      s1  Movie  Dick Johnson Is Dead  Kirsten Johnson  NaN  United States   \n",
       "\n",
       "  date_added  release_year rating duration      listed_in  \\\n",
       "0 2021-09-25          2020  PG-13   90 min  Documentaries   \n",
       "\n",
       "                                         description        Genre    Premiere  \\\n",
       "0  As her father nears the end of his life, filmm...  Documentary  2020-10-02   \n",
       "\n",
       "   Runtime  IMDB Score Language _merge rating_normalizado  has_famoues_actor  \\\n",
       "0     90.0         7.5  English   both              Teens              False   \n",
       "\n",
       "   is_recent  decade first_actor first_name_director  \n",
       "0       True    2020        None             Kirsten  "
      ]
     },
     "execution_count": 47,
     "metadata": {},
     "output_type": "execute_result"
    }
   ],
   "source": [
    "df.head(1)"
   ]
  },
  {
   "cell_type": "markdown",
   "id": "219bcedd",
   "metadata": {},
   "source": [
    "#### Ejercicio 7: Limpieza de la columna `cast`\n",
    "\n",
    "La columna `cast` contiene una lista de actores separados por comas. Tu objetivo es realizar las siguientes tareas:\n",
    "\n",
    "1. **Reemplaza los valores nulos** en la columna `cast` por \"sin información\".\n",
    "\n",
    "2. **Contar el número de actores** en cada entrada y crear una nueva columna llamada `num_cast`.\n",
    "\n",
    "3. **Normalizar los nombres**: Asegúrate de que los nombres de los actores estén en un formato consistente (por ejemplo, quitar espacios adicionales).\n"
   ]
  },
  {
   "cell_type": "code",
   "execution_count": 52,
   "id": "0ceaa880",
   "metadata": {},
   "outputs": [],
   "source": [
    "df['cast'] = df['cast'].fillna('sin información')"
   ]
  },
  {
   "cell_type": "code",
   "execution_count": 56,
   "id": "a7d606ac",
   "metadata": {},
   "outputs": [
    {
     "data": {
      "text/html": [
       "<div>\n",
       "<style scoped>\n",
       "    .dataframe tbody tr th:only-of-type {\n",
       "        vertical-align: middle;\n",
       "    }\n",
       "\n",
       "    .dataframe tbody tr th {\n",
       "        vertical-align: top;\n",
       "    }\n",
       "\n",
       "    .dataframe thead th {\n",
       "        text-align: right;\n",
       "    }\n",
       "</style>\n",
       "<table border=\"1\" class=\"dataframe\">\n",
       "  <thead>\n",
       "    <tr style=\"text-align: right;\">\n",
       "      <th></th>\n",
       "      <th>show_id</th>\n",
       "      <th>type</th>\n",
       "      <th>Title</th>\n",
       "      <th>director</th>\n",
       "      <th>cast</th>\n",
       "      <th>country</th>\n",
       "      <th>date_added</th>\n",
       "      <th>release_year</th>\n",
       "      <th>rating</th>\n",
       "      <th>duration</th>\n",
       "      <th>listed_in</th>\n",
       "      <th>description</th>\n",
       "      <th>Genre</th>\n",
       "      <th>Premiere</th>\n",
       "      <th>Runtime</th>\n",
       "      <th>IMDB Score</th>\n",
       "      <th>Language</th>\n",
       "      <th>_merge</th>\n",
       "      <th>rating_normalizado</th>\n",
       "      <th>has_famoues_actor</th>\n",
       "      <th>is_recent</th>\n",
       "      <th>decade</th>\n",
       "      <th>first_actor</th>\n",
       "      <th>first_name_director</th>\n",
       "      <th>recurrent_director</th>\n",
       "    </tr>\n",
       "  </thead>\n",
       "  <tbody>\n",
       "    <tr>\n",
       "      <th>0</th>\n",
       "      <td>s1</td>\n",
       "      <td>Movie</td>\n",
       "      <td>Dick Johnson Is Dead</td>\n",
       "      <td>Kirsten Johnson</td>\n",
       "      <td>sin información</td>\n",
       "      <td>United States</td>\n",
       "      <td>2021-09-25</td>\n",
       "      <td>2020</td>\n",
       "      <td>PG-13</td>\n",
       "      <td>90 min</td>\n",
       "      <td>Documentaries</td>\n",
       "      <td>As her father nears the end of his life, filmm...</td>\n",
       "      <td>Documentary</td>\n",
       "      <td>2020-10-02</td>\n",
       "      <td>90.0</td>\n",
       "      <td>7.5</td>\n",
       "      <td>English</td>\n",
       "      <td>both</td>\n",
       "      <td>Teens</td>\n",
       "      <td>False</td>\n",
       "      <td>True</td>\n",
       "      <td>2020</td>\n",
       "      <td>None</td>\n",
       "      <td>Kirsten</td>\n",
       "      <td>No</td>\n",
       "    </tr>\n",
       "  </tbody>\n",
       "</table>\n",
       "</div>"
      ],
      "text/plain": [
       "  show_id   type                 Title         director             cast  \\\n",
       "0      s1  Movie  Dick Johnson Is Dead  Kirsten Johnson  sin información   \n",
       "\n",
       "         country date_added  release_year rating duration      listed_in  \\\n",
       "0  United States 2021-09-25          2020  PG-13   90 min  Documentaries   \n",
       "\n",
       "                                         description        Genre    Premiere  \\\n",
       "0  As her father nears the end of his life, filmm...  Documentary  2020-10-02   \n",
       "\n",
       "   Runtime  IMDB Score Language _merge rating_normalizado  has_famoues_actor  \\\n",
       "0     90.0         7.5  English   both              Teens              False   \n",
       "\n",
       "   is_recent  decade first_actor first_name_director recurrent_director  \n",
       "0       True    2020        None             Kirsten                 No  "
      ]
     },
     "execution_count": 56,
     "metadata": {},
     "output_type": "execute_result"
    }
   ],
   "source": [
    "df.head(1)"
   ]
  },
  {
   "cell_type": "code",
   "execution_count": 60,
   "id": "dcf1df90",
   "metadata": {},
   "outputs": [],
   "source": [
    "def num_cast(cast):\n",
    "    if cast == 'sin información':\n",
    "        return 0\n",
    "    return len(cast.split(','))\n",
    "\n",
    "df['num_cast'] = df['cast'].apply(num_cast)"
   ]
  },
  {
   "cell_type": "markdown",
   "id": "cb3fe338",
   "metadata": {},
   "source": [
    "\n",
    "#### Ejercicio 9: Identificación de Directores Recurrentes\n",
    "\n",
    "En este ejercicio, debes identificar los directores que aparecen más de una vez en el conjunto de datos. Realiza los siguientes pasos:\n",
    "\n",
    "1. **Reemplaza los valores nulos** en la columna `director` por \"sin información\".\n",
    "\n",
    "3. **Cuenta cuántas veces aparece cada director** en la columna creada en el ejercicio 6.\n",
    "\n",
    "4. **Filtra aquellos directores que aparecen más de una vez** y crea una nueva columna llamada `recurrent_director` donde se indique \"Yes\" si el director aparece varias veces o \"No\" en caso contrario."
   ]
  },
  {
   "cell_type": "code",
   "execution_count": null,
   "id": "be05f42d",
   "metadata": {},
   "outputs": [],
   "source": [
    "df['director'] = df['director'].fillna('no information')\n",
    "\n",
    "director_counts = df['director'].value_counts()\n",
    "\n",
    "def is_recurring_director(director):\n",
    "    return 'Yes' if director_counts[director] > 1 else 'No'\n",
    "\n",
    "df['recurrent_director'] = df['director'].apply(is_recurring_director)"
   ]
  },
  {
   "cell_type": "code",
   "execution_count": 51,
   "id": "f09e0778",
   "metadata": {},
   "outputs": [
    {
     "name": "stdout",
     "output_type": "stream",
     "text": [
      "Distribución de directores que aparecen más de 1 vez recurrent_director\n",
      "Yes    5146\n",
      "No     3661\n",
      "Name: count, dtype: int64\n"
     ]
    }
   ],
   "source": [
    "print(\"Distribución de directores que aparecen más de 1 vez\", df[\"recurrent_director\"].value_counts())"
   ]
  }
 ],
 "metadata": {
  "kernelspec": {
   "display_name": "Python 3",
   "language": "python",
   "name": "python3"
  },
  "language_info": {
   "codemirror_mode": {
    "name": "ipython",
    "version": 3
   },
   "file_extension": ".py",
   "mimetype": "text/x-python",
   "name": "python",
   "nbconvert_exporter": "python",
   "pygments_lexer": "ipython3",
   "version": "3.9.6"
  }
 },
 "nbformat": 4,
 "nbformat_minor": 5
}
