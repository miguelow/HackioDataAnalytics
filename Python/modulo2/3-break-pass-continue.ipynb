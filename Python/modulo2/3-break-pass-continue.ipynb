{
 "cells": [
  {
   "cell_type": "markdown",
   "metadata": {},
   "source": [
    "\n",
    "<div style=\"text-align: center;\">\n",
    "  <img src=\"https://github.com/Hack-io-Data/Imagenes/blob/main/01-LogosHackio/logo_celeste@4x.png?raw=true\" alt=\"esquema\" />\n",
    "</div>\n"
   ]
  },
  {
   "cell_type": "markdown",
   "metadata": {},
   "source": [
    "# Laboratorio de Python: break(), pass(), continue()"
   ]
  },
  {
   "cell_type": "markdown",
   "metadata": {},
   "source": [
    "## Ejercicio 1: Validación de datos numéricos. \n",
    "\n",
    "Escribe un bucle que lea una lista de números y detenga la ejecución si encuentra un valor negativo. Muestra un mensaje indicando el número negativo encontrado.\n"
   ]
  },
  {
   "cell_type": "code",
   "execution_count": 11,
   "metadata": {},
   "outputs": [
    {
     "name": "stdout",
     "output_type": "stream",
     "text": [
      "Se encontró un número negativo: -2\n"
     ]
    }
   ],
   "source": [
    "def encontrar_negativos_en_lista(lista):\n",
    "    for numero in lista:\n",
    "        if numero < 0:\n",
    "            print(f\"Se encontró un número negativo: {numero}\")\n",
    "            break\n",
    "        else:\n",
    "            continue\n",
    "\n",
    "numeros = [1, 4, 0, 7, -2, 8]\n",
    "encontrar_negativos_en_lista(numeros)\n"
   ]
  },
  {
   "cell_type": "markdown",
   "metadata": {},
   "source": [
    "\n",
    "## Ejercicio 2: Filtrado de datos\n",
    "\n",
    "Escribe un bucle que imprima los números de una lista, pero que omita los números pares.\n"
   ]
  },
  {
   "cell_type": "code",
   "execution_count": 12,
   "metadata": {},
   "outputs": [
    {
     "name": "stdout",
     "output_type": "stream",
     "text": [
      "1\n",
      "7\n"
     ]
    }
   ],
   "source": [
    "def filtrar_impares(lista):\n",
    "    for numero in lista:\n",
    "        if numero % 2 == 0:\n",
    "            pass\n",
    "        else:\n",
    "            print(numero)\n",
    "\n",
    "numeros = [1, 4, 0, 7, -2, 8]\n",
    "filtrar_impares(numeros)\n"
   ]
  },
  {
   "cell_type": "markdown",
   "metadata": {},
   "source": [
    "## Ejercicio 3: Búsqueda de un valor\n",
    "\n",
    "Escribe un programa que busque un valor específico en una lista y detenga la búsqueda cuando lo encuentre. Si se encuentra, muestra un mensaje.\n"
   ]
  },
  {
   "cell_type": "code",
   "execution_count": 17,
   "metadata": {},
   "outputs": [
    {
     "name": "stdout",
     "output_type": "stream",
     "text": [
      "Número encontrado en la lista\n"
     ]
    }
   ],
   "source": [
    "def numero_en_lista(lista, numero_buscar):\n",
    "    for numero in lista:\n",
    "        if numero == numero_buscar:\n",
    "            print(\"Número encontrado en la lista\")\n",
    "            break\n",
    "        else:\n",
    "            continue\n",
    "\n",
    "numeros = [1, 4, 0, 7, -2, 8]\n",
    "numero_en_lista(numeros, 7)"
   ]
  },
  {
   "cell_type": "markdown",
   "metadata": {},
   "source": [
    "## Ejercicio 4: Estructura de código incompleto\n",
    "\n",
    "Define una función que aún no tenga lógica implementada, pero que se pueda ejecutar sin errores utilizando `pass`."
   ]
  },
  {
   "cell_type": "code",
   "execution_count": 18,
   "metadata": {},
   "outputs": [],
   "source": [
    "def sumar(a,b):\n",
    "    pass\n",
    "\n",
    "sumar(2,3)"
   ]
  },
  {
   "cell_type": "markdown",
   "metadata": {},
   "source": [
    "## Ejercicio 5: Validación condicional\n",
    "\n",
    "Escribe un bucle que verifique una lista de nombres. Si encuentra un nombre vacío (cadena vacía), salta esa iteración y continúa con los demás nombres.\n"
   ]
  },
  {
   "cell_type": "code",
   "execution_count": 20,
   "metadata": {},
   "outputs": [],
   "source": [
    "def validar_nombres(lista):\n",
    "    for nombre in lista:\n",
    "        if nombre == \"\":\n",
    "            continue\n",
    "\n",
    "nombres = [\"Pepe\", \"Joselito\", \"\", \"Maradona\"]\n",
    "validar_nombres(nombres)\n"
   ]
  },
  {
   "cell_type": "markdown",
   "metadata": {},
   "source": [
    "## Ejercicio 6: Búsqueda de claves en un diccionario\n",
    "\n",
    "Escribe un programa que recorra un diccionario y detenga la búsqueda si encuentra una clave específica pasada por el usuario.\n"
   ]
  },
  {
   "cell_type": "code",
   "execution_count": 23,
   "metadata": {},
   "outputs": [
    {
     "name": "stdout",
     "output_type": "stream",
     "text": [
      "La clave introducida no pertenece al diccionario\n"
     ]
    }
   ],
   "source": [
    "def buscar_clave_en_diccionario(diccionario, clave_introducida):\n",
    "    for clave in diccionario:\n",
    "        if clave == clave_introducida:\n",
    "            print(f\"La clave {clave} corresponde al valor {diccionario[clave]}\")\n",
    "            break\n",
    "    else:\n",
    "        print(\"La clave introducida no pertenece al diccionario\")\n",
    "\n",
    "dict = {\"nombre\": \"Miguel\", \"edad\": 23, \"altura\": 178}\n",
    "clave_buscar = input(f\"En base a este diccionario: {dict} .Introduzca la clave a buscar: \")\n",
    "\n",
    "buscar_clave_en_diccionario(dict, clave_buscar)\n"
   ]
  },
  {
   "cell_type": "markdown",
   "metadata": {},
   "source": [
    "## Ejercicio 7: Bucle con múltiples excepciones\n",
    "\n",
    "Escribe un bucle que procese una lista de operaciones matemáticas, omitiendo las operaciones que intenten dividir por cero.\n"
   ]
  },
  {
   "cell_type": "code",
   "execution_count": null,
   "metadata": {},
   "outputs": [],
   "source": []
  },
  {
   "cell_type": "markdown",
   "metadata": {},
   "source": [
    "## Ejercicio 8: Búsqueda en una lista anidada\n",
    "\n",
    "Escribe un programa que recorra una lista de listas y detenga la búsqueda cuando encuentre un valor mayor a 50.\n"
   ]
  },
  {
   "cell_type": "code",
   "execution_count": 29,
   "metadata": {},
   "outputs": [
    {
     "name": "stdout",
     "output_type": "stream",
     "text": [
      "Proceso terminado, alguna de las listas cuenta con un valor mayor a 50\n",
      "Proceso terminado, alguna de las listas cuenta con un valor mayor a 50\n"
     ]
    }
   ],
   "source": [
    "def buscar_valor_mayor_50(lista_anidada):\n",
    "    for sublista in lista_anidada:\n",
    "        for valor in sublista:\n",
    "            if valor > 50:\n",
    "                print(\"Proceso terminado, alguna de las listas cuenta con un valor mayor a 50\")\n",
    "                break\n",
    "            else:\n",
    "                continue\n",
    "\n",
    "\n",
    "lista_anidada = [\n",
    "    [10, 20, 10],\n",
    "    [40, 40, 60],\n",
    "    [0, 80, 90]\n",
    "]\n",
    "\n",
    "buscar_valor_mayor_50(lista_anidada)\n"
   ]
  },
  {
   "cell_type": "markdown",
   "metadata": {},
   "source": [
    "## Ejercicio 9: Evaluación de series temporales\n",
    "\n",
    "Escribe un programa que recorra una lista de datos de series temporales y se detenga si encuentra un valor atípico (mayor a 100).\n"
   ]
  },
  {
   "cell_type": "code",
   "execution_count": null,
   "metadata": {},
   "outputs": [
    {
     "name": "stdout",
     "output_type": "stream",
     "text": [
      "Valor atípico encontrado: 120\n"
     ]
    }
   ],
   "source": [
    "def evaluar_valores_atipicos(serie):\n",
    "    for valor in serie:\n",
    "        if valor > 100:\n",
    "            print(f\"Valor atípico encontrado: {valor}\")\n",
    "            break\n",
    "\n",
    "serie_temporal = [20, 35, 45, 90, 120, 500, 80]\n",
    "evaluar_valores_atipicos(serie_temporal)\n"
   ]
  },
  {
   "cell_type": "markdown",
   "metadata": {},
   "source": [
    "## Ejercicio 10: Iteración con valores faltantes\n",
    "\n",
    "Crea un bucle que recorra una lista de datos de ventas y salte los valores faltantes representados por `None`."
   ]
  },
  {
   "cell_type": "code",
   "execution_count": 38,
   "metadata": {},
   "outputs": [
    {
     "name": "stdout",
     "output_type": "stream",
     "text": [
      "La posición 2 no cuenta con un valor asociado\n",
      "La posición 4 no cuenta con un valor asociado\n"
     ]
    }
   ],
   "source": [
    "def procesar_valores_faltantes(ventas):\n",
    "    for i, valor in enumerate(ventas):\n",
    "        if valor is None:\n",
    "            print(f\"La posición {i} no cuenta con un valor asociado\")\n",
    "            continue\n",
    "\n",
    "lista = [2000, 0, None, 300, None]\n",
    "procesar_valores_faltantes(lista)\n"
   ]
  },
  {
   "cell_type": "markdown",
   "metadata": {},
   "source": [
    "## Ejercicio 11: Control de flujo en bucles anidados\n",
    "\n",
    "Escribe un bucle que recorra la matriz dada y se detenga si se encuentra un número negativo, mostrando su posición.\n",
    "\n"
   ]
  },
  {
   "cell_type": "code",
   "execution_count": 44,
   "metadata": {},
   "outputs": [
    {
     "name": "stdout",
     "output_type": "stream",
     "text": [
      "Valor negativo: -6 en la lista 2, posición 3\n"
     ]
    }
   ],
   "source": [
    "def buscar_negativo(matriz):\n",
    "    for i, fila in enumerate(matriz):\n",
    "        for j, valor in enumerate(fila):\n",
    "            if valor < 0:\n",
    "                print(f\"Valor negativo: {valor} en la lista {i + 1}, posición {j + 1}\")\n",
    "                return\n",
    "\n",
    "lista_anidada = [\n",
    "    [10, 20, 10],\n",
    "    [40, 40, -6],\n",
    "    [0, 80, 90]\n",
    "]\n",
    "\n",
    "buscar_negativo(lista_anidada)\n"
   ]
  },
  {
   "cell_type": "markdown",
   "metadata": {},
   "source": [
    "## Ejercicio 12: Placeholder para funciones incompletas\n",
    "\n",
    "Escribe una función que tenga un bloque de control que aún no esté implementado, utilizando `pass` para que no genere errores."
   ]
  },
  {
   "cell_type": "code",
   "execution_count": 45,
   "metadata": {},
   "outputs": [
    {
     "name": "stdout",
     "output_type": "stream",
     "text": [
      "Mayor que 0\n",
      "Menor que 0\n",
      "Pendiente de implementar\n"
     ]
    }
   ],
   "source": [
    "def mayor_menor_igual_a_0(entrada):\n",
    "    if entrada > 0:\n",
    "        print(\"Mayor que 0\")\n",
    "    elif entrada < 0:\n",
    "        print(\"Menor que 0\")\n",
    "    else:\n",
    "        print(\"Pendiente de implementar\")\n",
    "        pass \n",
    "\n",
    "mayor_menor_igual_a_0(10)\n",
    "mayor_menor_igual_a_0(-5) \n",
    "mayor_menor_igual_a_0(0) \n"
   ]
  }
 ],
 "metadata": {
  "kernelspec": {
   "display_name": "Python 3",
   "language": "python",
   "name": "python3"
  },
  "language_info": {
   "codemirror_mode": {
    "name": "ipython",
    "version": 3
   },
   "file_extension": ".py",
   "mimetype": "text/x-python",
   "name": "python",
   "nbconvert_exporter": "python",
   "pygments_lexer": "ipython3",
   "version": "3.9.6"
  }
 },
 "nbformat": 4,
 "nbformat_minor": 2
}
