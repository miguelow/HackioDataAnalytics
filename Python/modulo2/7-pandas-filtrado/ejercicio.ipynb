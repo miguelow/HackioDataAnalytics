{
 "cells": [
  {
   "cell_type": "markdown",
   "id": "58d52421",
   "metadata": {},
   "source": [
    "<div style=\"text-align: center;\">\n",
    "  <img src=\"https://github.com/Hack-io-Data/Imagenes/blob/main/01-LogosHackio/logo_naranja@4x.png?raw=true\" alt=\"esquema\" />\n",
    "</div>"
   ]
  },
  {
   "cell_type": "markdown",
   "id": "5976b91e",
   "metadata": {},
   "source": [
    "# Laboratorio Filtrado de Datos\n",
    "\n",
    "En este laboratorio usaremos el DataFrame creado en la lección anterior resultado de la unión de los conjuntos de datos compartidos contigo. \n",
    "\n",
    "**Instrucciones:**\n",
    "\n",
    "1. Lee cuidadosamente el enunciado de cada ejercicio.\n",
    "\n",
    "2. Implementa la solución en la celda de código proporcionada."
   ]
  },
  {
   "cell_type": "code",
   "execution_count": 2,
   "id": "f33d92ae",
   "metadata": {},
   "outputs": [],
   "source": [
    "import pandas as pd\n",
    "import numpy as np\n",
    "pd.set_option('display.max_columns', None) "
   ]
  },
  {
   "cell_type": "code",
   "execution_count": 10,
   "id": "eaad1992",
   "metadata": {},
   "outputs": [
    {
     "data": {
      "text/html": [
       "<div>\n",
       "<style scoped>\n",
       "    .dataframe tbody tr th:only-of-type {\n",
       "        vertical-align: middle;\n",
       "    }\n",
       "\n",
       "    .dataframe tbody tr th {\n",
       "        vertical-align: top;\n",
       "    }\n",
       "\n",
       "    .dataframe thead th {\n",
       "        text-align: right;\n",
       "    }\n",
       "</style>\n",
       "<table border=\"1\" class=\"dataframe\">\n",
       "  <thead>\n",
       "    <tr style=\"text-align: right;\">\n",
       "      <th></th>\n",
       "      <th>show_id</th>\n",
       "      <th>type</th>\n",
       "      <th>Title</th>\n",
       "      <th>director</th>\n",
       "      <th>cast</th>\n",
       "      <th>country</th>\n",
       "      <th>date_added</th>\n",
       "      <th>release_year</th>\n",
       "      <th>rating</th>\n",
       "      <th>duration</th>\n",
       "      <th>listed_in</th>\n",
       "      <th>description</th>\n",
       "      <th>Genre</th>\n",
       "      <th>Premiere</th>\n",
       "      <th>Runtime</th>\n",
       "      <th>IMDB Score</th>\n",
       "      <th>Language</th>\n",
       "      <th>_merge</th>\n",
       "    </tr>\n",
       "  </thead>\n",
       "  <tbody>\n",
       "    <tr>\n",
       "      <th>0</th>\n",
       "      <td>s1</td>\n",
       "      <td>Movie</td>\n",
       "      <td>Dick Johnson Is Dead</td>\n",
       "      <td>Kirsten Johnson</td>\n",
       "      <td>NaN</td>\n",
       "      <td>United States</td>\n",
       "      <td>2021-09-25</td>\n",
       "      <td>2020</td>\n",
       "      <td>PG-13</td>\n",
       "      <td>90 min</td>\n",
       "      <td>Documentaries</td>\n",
       "      <td>As her father nears the end of his life, filmm...</td>\n",
       "      <td>Documentary</td>\n",
       "      <td>2020-10-02</td>\n",
       "      <td>90.0</td>\n",
       "      <td>7.5</td>\n",
       "      <td>English</td>\n",
       "      <td>both</td>\n",
       "    </tr>\n",
       "  </tbody>\n",
       "</table>\n",
       "</div>"
      ],
      "text/plain": [
       "  show_id   type                 Title         director cast        country  \\\n",
       "0      s1  Movie  Dick Johnson Is Dead  Kirsten Johnson  NaN  United States   \n",
       "\n",
       "   date_added  release_year rating duration      listed_in  \\\n",
       "0  2021-09-25          2020  PG-13   90 min  Documentaries   \n",
       "\n",
       "                                         description        Genre    Premiere  \\\n",
       "0  As her father nears the end of his life, filmm...  Documentary  2020-10-02   \n",
       "\n",
       "   Runtime  IMDB Score Language _merge  \n",
       "0     90.0         7.5  English   both  "
      ]
     },
     "execution_count": 10,
     "metadata": {},
     "output_type": "execute_result"
    }
   ],
   "source": [
    "df = pd.read_csv(\"./df_resultante.csv\", index_col=0)\n",
    "df.head(1)"
   ]
  },
  {
   "cell_type": "markdown",
   "id": "baef3e35",
   "metadata": {},
   "source": [
    "#### Ejercicio 1: ¿Cuáles son todos los títulos lanzados en 2021 que son del tipo 'Movie'?"
   ]
  },
  {
   "cell_type": "code",
   "execution_count": 13,
   "id": "d53e9422",
   "metadata": {},
   "outputs": [
    {
     "data": {
      "text/plain": [
       "6                        My Little Pony: A New Generation\n",
       "9                                            The Starling\n",
       "12                                           Je Suis Karl\n",
       "13                       Confessions of an Invisible Girl\n",
       "18                                              Intrusion\n",
       "                              ...                        \n",
       "1425                          Creating The Queen's Gambit\n",
       "1431                                          Stuck Apart\n",
       "1436    Ratones Paranoicos: The Band that Rocked Argen...\n",
       "1466                         The Minimalists: Less Is Now\n",
       "1468                            What Happened to Mr. Cha?\n",
       "Name: Title, Length: 277, dtype: object"
      ]
     },
     "execution_count": 13,
     "metadata": {},
     "output_type": "execute_result"
    }
   ],
   "source": [
    "df.query(\"type == 'Movie' & release_year == 2021\")[\"Title\"]"
   ]
  },
  {
   "cell_type": "markdown",
   "id": "e0bc11c3",
   "metadata": {},
   "source": [
    "#### Ejercicio 2: ¿Qué títulos tienen una duración de 90 minutos? Muestra solo las columnas de título y de duración."
   ]
  },
  {
   "cell_type": "code",
   "execution_count": 19,
   "id": "8ba93e4d",
   "metadata": {},
   "outputs": [
    {
     "data": {
      "text/html": [
       "<div>\n",
       "<style scoped>\n",
       "    .dataframe tbody tr th:only-of-type {\n",
       "        vertical-align: middle;\n",
       "    }\n",
       "\n",
       "    .dataframe tbody tr th {\n",
       "        vertical-align: top;\n",
       "    }\n",
       "\n",
       "    .dataframe thead th {\n",
       "        text-align: right;\n",
       "    }\n",
       "</style>\n",
       "<table border=\"1\" class=\"dataframe\">\n",
       "  <thead>\n",
       "    <tr style=\"text-align: right;\">\n",
       "      <th></th>\n",
       "      <th>Title</th>\n",
       "      <th>duration</th>\n",
       "    </tr>\n",
       "  </thead>\n",
       "  <tbody>\n",
       "    <tr>\n",
       "      <th>0</th>\n",
       "      <td>Dick Johnson Is Dead</td>\n",
       "      <td>90 min</td>\n",
       "    </tr>\n",
       "    <tr>\n",
       "      <th>94</th>\n",
       "      <td>Show Dogs</td>\n",
       "      <td>90 min</td>\n",
       "    </tr>\n",
       "    <tr>\n",
       "      <th>107</th>\n",
       "      <td>A Champion Heart</td>\n",
       "      <td>90 min</td>\n",
       "    </tr>\n",
       "    <tr>\n",
       "      <th>229</th>\n",
       "      <td>The Old Ways</td>\n",
       "      <td>90 min</td>\n",
       "    </tr>\n",
       "    <tr>\n",
       "      <th>283</th>\n",
       "      <td>Misha and the Wolves</td>\n",
       "      <td>90 min</td>\n",
       "    </tr>\n",
       "    <tr>\n",
       "      <th>...</th>\n",
       "      <td>...</td>\n",
       "      <td>...</td>\n",
       "    </tr>\n",
       "    <tr>\n",
       "      <th>8651</th>\n",
       "      <td>Tyson</td>\n",
       "      <td>90 min</td>\n",
       "    </tr>\n",
       "    <tr>\n",
       "      <th>8655</th>\n",
       "      <td>Unaccompanied Minors</td>\n",
       "      <td>90 min</td>\n",
       "    </tr>\n",
       "    <tr>\n",
       "      <th>8670</th>\n",
       "      <td>Vantage Point</td>\n",
       "      <td>90 min</td>\n",
       "    </tr>\n",
       "    <tr>\n",
       "      <th>8735</th>\n",
       "      <td>Who's That Knocking at My Door?</td>\n",
       "      <td>90 min</td>\n",
       "    </tr>\n",
       "    <tr>\n",
       "      <th>8776</th>\n",
       "      <td>Yellowbird</td>\n",
       "      <td>90 min</td>\n",
       "    </tr>\n",
       "  </tbody>\n",
       "</table>\n",
       "<p>152 rows × 2 columns</p>\n",
       "</div>"
      ],
      "text/plain": [
       "                                Title duration\n",
       "0                Dick Johnson Is Dead   90 min\n",
       "94                          Show Dogs   90 min\n",
       "107                  A Champion Heart   90 min\n",
       "229                      The Old Ways   90 min\n",
       "283              Misha and the Wolves   90 min\n",
       "...                               ...      ...\n",
       "8651                            Tyson   90 min\n",
       "8655             Unaccompanied Minors   90 min\n",
       "8670                    Vantage Point   90 min\n",
       "8735  Who's That Knocking at My Door?   90 min\n",
       "8776                       Yellowbird   90 min\n",
       "\n",
       "[152 rows x 2 columns]"
      ]
     },
     "execution_count": 19,
     "metadata": {},
     "output_type": "execute_result"
    }
   ],
   "source": [
    "df.query('duration == \"90 min\"')[[\"Title\", \"duration\"]]"
   ]
  },
  {
   "cell_type": "markdown",
   "id": "9e10b8ff",
   "metadata": {},
   "source": [
    "#### Ejercicio 3: ¿Cuáles son todos los títulos del país 'India' lanzados después de 2018?"
   ]
  },
  {
   "cell_type": "code",
   "execution_count": 28,
   "id": "7de490ce",
   "metadata": {},
   "outputs": [
    {
     "data": {
      "text/html": [
       "<div>\n",
       "<style scoped>\n",
       "    .dataframe tbody tr th:only-of-type {\n",
       "        vertical-align: middle;\n",
       "    }\n",
       "\n",
       "    .dataframe tbody tr th {\n",
       "        vertical-align: top;\n",
       "    }\n",
       "\n",
       "    .dataframe thead th {\n",
       "        text-align: right;\n",
       "    }\n",
       "</style>\n",
       "<table border=\"1\" class=\"dataframe\">\n",
       "  <thead>\n",
       "    <tr style=\"text-align: right;\">\n",
       "      <th></th>\n",
       "      <th>Title</th>\n",
       "      <th>country</th>\n",
       "    </tr>\n",
       "  </thead>\n",
       "  <tbody>\n",
       "    <tr>\n",
       "      <th>4</th>\n",
       "      <td>Kota Factory</td>\n",
       "      <td>India</td>\n",
       "    </tr>\n",
       "    <tr>\n",
       "      <th>39</th>\n",
       "      <td>Chhota Bheem</td>\n",
       "      <td>India</td>\n",
       "    </tr>\n",
       "    <tr>\n",
       "      <th>126</th>\n",
       "      <td>Shikara</td>\n",
       "      <td>India</td>\n",
       "    </tr>\n",
       "    <tr>\n",
       "      <th>190</th>\n",
       "      <td>Thimmarusu</td>\n",
       "      <td>India</td>\n",
       "    </tr>\n",
       "    <tr>\n",
       "      <th>266</th>\n",
       "      <td>The Creative Indians</td>\n",
       "      <td>India</td>\n",
       "    </tr>\n",
       "    <tr>\n",
       "      <th>...</th>\n",
       "      <td>...</td>\n",
       "      <td>...</td>\n",
       "    </tr>\n",
       "    <tr>\n",
       "      <th>5966</th>\n",
       "      <td>15-Aug</td>\n",
       "      <td>India</td>\n",
       "    </tr>\n",
       "    <tr>\n",
       "      <th>6024</th>\n",
       "      <td>7 (Seven)</td>\n",
       "      <td>India</td>\n",
       "    </tr>\n",
       "    <tr>\n",
       "      <th>6464</th>\n",
       "      <td>Chhota Bheem Kungfu Dhamaka</td>\n",
       "      <td>India</td>\n",
       "    </tr>\n",
       "    <tr>\n",
       "      <th>8121</th>\n",
       "      <td>Super Bheem</td>\n",
       "      <td>India</td>\n",
       "    </tr>\n",
       "    <tr>\n",
       "      <th>8173</th>\n",
       "      <td>Thackeray</td>\n",
       "      <td>India</td>\n",
       "    </tr>\n",
       "  </tbody>\n",
       "</table>\n",
       "<p>193 rows × 2 columns</p>\n",
       "</div>"
      ],
      "text/plain": [
       "                            Title country\n",
       "4                    Kota Factory   India\n",
       "39                   Chhota Bheem   India\n",
       "126                       Shikara   India\n",
       "190                    Thimmarusu   India\n",
       "266          The Creative Indians   India\n",
       "...                           ...     ...\n",
       "5966                       15-Aug   India\n",
       "6024                    7 (Seven)   India\n",
       "6464  Chhota Bheem Kungfu Dhamaka   India\n",
       "8121                  Super Bheem   India\n",
       "8173                    Thackeray   India\n",
       "\n",
       "[193 rows x 2 columns]"
      ]
     },
     "execution_count": 28,
     "metadata": {},
     "output_type": "execute_result"
    }
   ],
   "source": [
    "df.query(\"country == 'India' & release_year > 2018\")[[\"Title\", \"country\"]]"
   ]
  },
  {
   "cell_type": "markdown",
   "id": "4e881098",
   "metadata": {},
   "source": [
    "#### Ejercicio 4: ¿Qué títulos tienen clasificación 'TV-14' o 'R'?"
   ]
  },
  {
   "cell_type": "code",
   "execution_count": 27,
   "id": "79cc1fbe",
   "metadata": {},
   "outputs": [
    {
     "data": {
      "text/html": [
       "<div>\n",
       "<style scoped>\n",
       "    .dataframe tbody tr th:only-of-type {\n",
       "        vertical-align: middle;\n",
       "    }\n",
       "\n",
       "    .dataframe tbody tr th {\n",
       "        vertical-align: top;\n",
       "    }\n",
       "\n",
       "    .dataframe thead th {\n",
       "        text-align: right;\n",
       "    }\n",
       "</style>\n",
       "<table border=\"1\" class=\"dataframe\">\n",
       "  <thead>\n",
       "    <tr style=\"text-align: right;\">\n",
       "      <th></th>\n",
       "      <th>Title</th>\n",
       "      <th>rating</th>\n",
       "    </tr>\n",
       "  </thead>\n",
       "  <tbody>\n",
       "    <tr>\n",
       "      <th>8</th>\n",
       "      <td>The Great British Baking Show</td>\n",
       "      <td>TV-14</td>\n",
       "    </tr>\n",
       "    <tr>\n",
       "      <th>18</th>\n",
       "      <td>Intrusion</td>\n",
       "      <td>TV-14</td>\n",
       "    </tr>\n",
       "    <tr>\n",
       "      <th>20</th>\n",
       "      <td>Monsters Inside: The 24 Faces of Billy Milligan</td>\n",
       "      <td>TV-14</td>\n",
       "    </tr>\n",
       "    <tr>\n",
       "      <th>21</th>\n",
       "      <td>Resurrection: Ertugrul</td>\n",
       "      <td>TV-14</td>\n",
       "    </tr>\n",
       "    <tr>\n",
       "      <th>24</th>\n",
       "      <td>Jeans</td>\n",
       "      <td>TV-14</td>\n",
       "    </tr>\n",
       "    <tr>\n",
       "      <th>...</th>\n",
       "      <td>...</td>\n",
       "      <td>...</td>\n",
       "    </tr>\n",
       "    <tr>\n",
       "      <th>8794</th>\n",
       "      <td>اشتباك</td>\n",
       "      <td>TV-14</td>\n",
       "    </tr>\n",
       "    <tr>\n",
       "      <th>8799</th>\n",
       "      <td>Zenda</td>\n",
       "      <td>TV-14</td>\n",
       "    </tr>\n",
       "    <tr>\n",
       "      <th>8802</th>\n",
       "      <td>Zodiac</td>\n",
       "      <td>R</td>\n",
       "    </tr>\n",
       "    <tr>\n",
       "      <th>8804</th>\n",
       "      <td>Zombieland</td>\n",
       "      <td>R</td>\n",
       "    </tr>\n",
       "    <tr>\n",
       "      <th>8806</th>\n",
       "      <td>Zubaan</td>\n",
       "      <td>TV-14</td>\n",
       "    </tr>\n",
       "  </tbody>\n",
       "</table>\n",
       "<p>2959 rows × 2 columns</p>\n",
       "</div>"
      ],
      "text/plain": [
       "                                                Title rating\n",
       "8                       The Great British Baking Show  TV-14\n",
       "18                                          Intrusion  TV-14\n",
       "20    Monsters Inside: The 24 Faces of Billy Milligan  TV-14\n",
       "21                             Resurrection: Ertugrul  TV-14\n",
       "24                                              Jeans  TV-14\n",
       "...                                               ...    ...\n",
       "8794                                           اشتباك  TV-14\n",
       "8799                                            Zenda  TV-14\n",
       "8802                                           Zodiac      R\n",
       "8804                                       Zombieland      R\n",
       "8806                                           Zubaan  TV-14\n",
       "\n",
       "[2959 rows x 2 columns]"
      ]
     },
     "execution_count": 27,
     "metadata": {},
     "output_type": "execute_result"
    }
   ],
   "source": [
    "df.query(\"rating == 'TV-14' | rating == 'R'\")[[\"Title\", \"rating\"]]"
   ]
  },
  {
   "cell_type": "markdown",
   "id": "5367bf08",
   "metadata": {},
   "source": [
    "#### Ejercicio 5: ¿Cuáles son los títulos dirigidos por 'Christopher Nolan' o 'Martin Scorsese'? ¿Cuántos a dirigido cada uno de los directores?"
   ]
  },
  {
   "cell_type": "code",
   "execution_count": 48,
   "id": "e0562310",
   "metadata": {},
   "outputs": [
    {
     "name": "stdout",
     "output_type": "stream",
     "text": [
      "1\n",
      "12\n"
     ]
    }
   ],
   "source": [
    "df_nolan = df.query(\"director == 'Christopher Nolan'\")[\"Title\"]\n",
    "print(len(df_nolan))\n",
    "\n",
    "df_scosese = df.query(\"director == 'Martin Scorsese'\")[\"Title\"]\n",
    "print(len(df_scosese))"
   ]
  },
  {
   "cell_type": "markdown",
   "id": "fc0c621e",
   "metadata": {},
   "source": [
    "#### Ejercicio 6: ¿Qué títulos pertenecen a los países 'United States', 'United Kingdom' o 'Canada'? Dentro de estos países, ¿cuántas películas tienen más de un lenguaje?"
   ]
  },
  {
   "cell_type": "code",
   "execution_count": null,
   "id": "397619a4",
   "metadata": {},
   "outputs": [
    {
     "name": "stdout",
     "output_type": "stream",
     "text": [
      "country\n",
      "United States     2818\n",
      "United Kingdom     419\n",
      "Canada             181\n",
      "Name: count, dtype: int64\n"
     ]
    }
   ],
   "source": [
    "df_countries = df.query(\"country == 'United States' | country == 'United Kingdom' | country == 'Canada'\")[[\"Title\", \"country\"]]\n",
    "\n",
    "print(df_countries[\"country\"].value_counts())\n"
   ]
  },
  {
   "cell_type": "markdown",
   "id": "6e36f1ba",
   "metadata": {},
   "source": [
    "#### Ejercicio 7: ¿Qué títulos fueron lanzados entre 2015 y 2020, inclusive?"
   ]
  },
  {
   "cell_type": "code",
   "execution_count": 53,
   "id": "f91a0707",
   "metadata": {},
   "outputs": [
    {
     "data": {
      "text/plain": [
       "0                                    Dick Johnson Is Dead\n",
       "16      Europe's Most Dangerous Man: Otto Skorzeny in ...\n",
       "17                                        Falsa identidad\n",
       "21                                 Resurrection: Ertugrul\n",
       "32                                          Sex Education\n",
       "                              ...                        \n",
       "8796                                           Yunus Emre\n",
       "8797                                            Zak Storm\n",
       "8801                                              Zinzana\n",
       "8803                                          Zombie Dumb\n",
       "8806                                               Zubaan\n",
       "Name: Title, Length: 5624, dtype: object"
      ]
     },
     "execution_count": 53,
     "metadata": {},
     "output_type": "execute_result"
    }
   ],
   "source": [
    "df.query(\"release_year.between(2015, 2020, inclusive='both')\")[\"Title\"]"
   ]
  },
  {
   "cell_type": "markdown",
   "id": "8ad3dbc3",
   "metadata": {},
   "source": [
    "#### Ejercicio 8: ¿Cuáles son los títulos cuya puntuación en IMDb está entre 6.5 y 8.0 y que no sepamos cual es su duración?"
   ]
  },
  {
   "cell_type": "code",
   "execution_count": null,
   "id": "08b9c8a1",
   "metadata": {},
   "outputs": [
    {
     "data": {
      "text/plain": [
       "834                    Blue Miracle\n",
       "895                          Oxygen\n",
       "910                         Monster\n",
       "1024         Arlo the Alligator Boy\n",
       "1157                       Bad Trip\n",
       "                   ...             \n",
       "5783                 Audrie & Daisy\n",
       "5840     The Fundamentals of Caring\n",
       "5849                Team Foxcatcher\n",
       "5901                            Tig\n",
       "5906    What Happened, Miss Simone?\n",
       "Name: Title, Length: 77, dtype: object"
      ]
     },
     "execution_count": 61,
     "metadata": {},
     "output_type": "execute_result"
    }
   ],
   "source": [
    "df8 = df[(df[\"IMDB Score\"].between(6.5, 8.0, inclusive='both')) &\n",
    "         df[\"duration\"].isna()][\"Title\"]\n",
    "df8"
   ]
  },
  {
   "cell_type": "markdown",
   "id": "0afd742e",
   "metadata": {},
   "source": [
    "#### Ejercicio 9: ¿Cuáles son las películas cuya duración de 90 y 150 minutos?"
   ]
  },
  {
   "cell_type": "code",
   "execution_count": null,
   "id": "80d4c76d",
   "metadata": {},
   "outputs": [
    {
     "data": {
      "text/plain": [
       "0                    Dick Johnson Is Dead\n",
       "94                              Show Dogs\n",
       "107                      A Champion Heart\n",
       "205     Kyo Kii... Main Jhuth Nahin Bolta\n",
       "229                          The Old Ways\n",
       "                      ...                \n",
       "8651                                Tyson\n",
       "8655                 Unaccompanied Minors\n",
       "8670                        Vantage Point\n",
       "8735      Who's That Knocking at My Door?\n",
       "8776                           Yellowbird\n",
       "Name: Title, Length: 169, dtype: object"
      ]
     },
     "execution_count": 64,
     "metadata": {},
     "output_type": "execute_result"
    }
   ],
   "source": [
    "df9 = df[(df['duration'] == '90 min') | \n",
    "         (df['duration'] == '150 min')][\"Title\"]\n",
    "df9"
   ]
  },
  {
   "cell_type": "markdown",
   "id": "258a99d3",
   "metadata": {},
   "source": [
    "#### Ejercicio 10: ¿Cuáles son los títulos que contienen la palabra 'Love' en su título y que sean de tipo TV Show?"
   ]
  },
  {
   "cell_type": "code",
   "execution_count": null,
   "id": "8daf2abc",
   "metadata": {},
   "outputs": [
    {
     "data": {
      "text/plain": [
       "25                    Love on the Spectrum\n",
       "659        Bangkok Love Stories: Innocence\n",
       "731        Love (ft. Marriage and Divorce)\n",
       "883                   Love, Death & Robots\n",
       "1032                          Love Naggers\n",
       "                       ...                \n",
       "7632    O-Negative, Love Can’t Be Designed\n",
       "7892                    Roonpi Secret Love\n",
       "8567        The Year of Happiness and Love\n",
       "8575                       This Is My Love\n",
       "8721                         What Is Love?\n",
       "Name: Title, Length: 70, dtype: object"
      ]
     },
     "execution_count": 70,
     "metadata": {},
     "output_type": "execute_result"
    }
   ],
   "source": [
    "df10 = df[(df['Title'].str.contains('Love')) &\n",
    "          (df['type'] == 'TV Show')][\"Title\"]\n",
    "df10"
   ]
  },
  {
   "cell_type": "markdown",
   "id": "e08091e9",
   "metadata": {},
   "source": [
    "#### Ejercicio 11: ¿Cuáles son los títulos en los que el director tiene el apellido 'Johnson'?"
   ]
  },
  {
   "cell_type": "code",
   "execution_count": 75,
   "id": "a8215bbb",
   "metadata": {},
   "outputs": [
    {
     "data": {
      "text/html": [
       "<div>\n",
       "<style scoped>\n",
       "    .dataframe tbody tr th:only-of-type {\n",
       "        vertical-align: middle;\n",
       "    }\n",
       "\n",
       "    .dataframe tbody tr th {\n",
       "        vertical-align: top;\n",
       "    }\n",
       "\n",
       "    .dataframe thead th {\n",
       "        text-align: right;\n",
       "    }\n",
       "</style>\n",
       "<table border=\"1\" class=\"dataframe\">\n",
       "  <thead>\n",
       "    <tr style=\"text-align: right;\">\n",
       "      <th></th>\n",
       "      <th>Title</th>\n",
       "      <th>director</th>\n",
       "    </tr>\n",
       "  </thead>\n",
       "  <tbody>\n",
       "    <tr>\n",
       "      <th>0</th>\n",
       "      <td>Dick Johnson Is Dead</td>\n",
       "      <td>Kirsten Johnson</td>\n",
       "    </tr>\n",
       "    <tr>\n",
       "      <th>829</th>\n",
       "      <td>Dog Gone Trouble</td>\n",
       "      <td>Kevin Johnson</td>\n",
       "    </tr>\n",
       "    <tr>\n",
       "      <th>846</th>\n",
       "      <td>Home</td>\n",
       "      <td>Tim Johnson</td>\n",
       "    </tr>\n",
       "    <tr>\n",
       "      <th>2052</th>\n",
       "      <td>Love, Guaranteed</td>\n",
       "      <td>Mark Steven Johnson</td>\n",
       "    </tr>\n",
       "    <tr>\n",
       "      <th>2083</th>\n",
       "      <td>The Debt Collector 2</td>\n",
       "      <td>Jesse V. Johnson</td>\n",
       "    </tr>\n",
       "    <tr>\n",
       "      <th>2455</th>\n",
       "      <td>The Stolen</td>\n",
       "      <td>Niall Johnson</td>\n",
       "    </tr>\n",
       "    <tr>\n",
       "      <th>2496</th>\n",
       "      <td>Honeytrap</td>\n",
       "      <td>Rebecca Johnson</td>\n",
       "    </tr>\n",
       "    <tr>\n",
       "      <th>3511</th>\n",
       "      <td>Avengement</td>\n",
       "      <td>Jesse V. Johnson</td>\n",
       "    </tr>\n",
       "    <tr>\n",
       "      <th>3717</th>\n",
       "      <td>Triple Threat</td>\n",
       "      <td>Jesse V. Johnson, Jesse Johnson</td>\n",
       "    </tr>\n",
       "    <tr>\n",
       "      <th>4033</th>\n",
       "      <td>Juanita</td>\n",
       "      <td>Clark Johnson</td>\n",
       "    </tr>\n",
       "    <tr>\n",
       "      <th>4661</th>\n",
       "      <td>The Debt Collector</td>\n",
       "      <td>Jesse V. Johnson</td>\n",
       "    </tr>\n",
       "    <tr>\n",
       "      <th>4698</th>\n",
       "      <td>To All the Boys I’ve Loved Before</td>\n",
       "      <td>Susan Johnson</td>\n",
       "    </tr>\n",
       "    <tr>\n",
       "      <th>4833</th>\n",
       "      <td>Alex Strangelove</td>\n",
       "      <td>Craig Johnson</td>\n",
       "    </tr>\n",
       "    <tr>\n",
       "      <th>5282</th>\n",
       "      <td>Carrie Pilby</td>\n",
       "      <td>Susan Johnson</td>\n",
       "    </tr>\n",
       "    <tr>\n",
       "      <th>6376</th>\n",
       "      <td>Brick</td>\n",
       "      <td>Rian Johnson</td>\n",
       "    </tr>\n",
       "    <tr>\n",
       "      <th>6802</th>\n",
       "      <td>Freshman Year</td>\n",
       "      <td>Jude Okwudiafor Johnson</td>\n",
       "    </tr>\n",
       "    <tr>\n",
       "      <th>6847</th>\n",
       "      <td>Ghost Rider</td>\n",
       "      <td>Mark Steven Johnson</td>\n",
       "    </tr>\n",
       "    <tr>\n",
       "      <th>7241</th>\n",
       "      <td>Kung Fu Panda: Holiday</td>\n",
       "      <td>Tim Johnson</td>\n",
       "    </tr>\n",
       "    <tr>\n",
       "      <th>7369</th>\n",
       "      <td>Mad Money</td>\n",
       "      <td>Callie Khouri, Jesse V. Johnson</td>\n",
       "    </tr>\n",
       "    <tr>\n",
       "      <th>7622</th>\n",
       "      <td>Nowhere Boy</td>\n",
       "      <td>Sam Taylor-Johnson</td>\n",
       "    </tr>\n",
       "    <tr>\n",
       "      <th>7912</th>\n",
       "      <td>S.W.A.T.</td>\n",
       "      <td>Clark Johnson</td>\n",
       "    </tr>\n",
       "    <tr>\n",
       "      <th>7946</th>\n",
       "      <td>Savage Dog</td>\n",
       "      <td>Jesse V. Johnson</td>\n",
       "    </tr>\n",
       "    <tr>\n",
       "      <th>8082</th>\n",
       "      <td>Star Wars: Episode VIII: The Last Jedi</td>\n",
       "      <td>Rian Johnson</td>\n",
       "    </tr>\n",
       "  </tbody>\n",
       "</table>\n",
       "</div>"
      ],
      "text/plain": [
       "                                       Title                         director\n",
       "0                       Dick Johnson Is Dead                  Kirsten Johnson\n",
       "829                         Dog Gone Trouble                    Kevin Johnson\n",
       "846                                     Home                      Tim Johnson\n",
       "2052                        Love, Guaranteed              Mark Steven Johnson\n",
       "2083                    The Debt Collector 2                 Jesse V. Johnson\n",
       "2455                              The Stolen                    Niall Johnson\n",
       "2496                               Honeytrap                  Rebecca Johnson\n",
       "3511                              Avengement                 Jesse V. Johnson\n",
       "3717                           Triple Threat  Jesse V. Johnson, Jesse Johnson\n",
       "4033                                 Juanita                    Clark Johnson\n",
       "4661                      The Debt Collector                 Jesse V. Johnson\n",
       "4698       To All the Boys I’ve Loved Before                    Susan Johnson\n",
       "4833                        Alex Strangelove                    Craig Johnson\n",
       "5282                            Carrie Pilby                    Susan Johnson\n",
       "6376                                   Brick                     Rian Johnson\n",
       "6802                           Freshman Year          Jude Okwudiafor Johnson\n",
       "6847                             Ghost Rider              Mark Steven Johnson\n",
       "7241                  Kung Fu Panda: Holiday                      Tim Johnson\n",
       "7369                               Mad Money  Callie Khouri, Jesse V. Johnson\n",
       "7622                             Nowhere Boy               Sam Taylor-Johnson\n",
       "7912                                S.W.A.T.                    Clark Johnson\n",
       "7946                              Savage Dog                 Jesse V. Johnson\n",
       "8082  Star Wars: Episode VIII: The Last Jedi                     Rian Johnson"
      ]
     },
     "execution_count": 75,
     "metadata": {},
     "output_type": "execute_result"
    }
   ],
   "source": [
    "df11 = df[df['director'].str.contains('Johnson$', na=False)][[\"Title\", \"director\"]]\n",
    "df11"
   ]
  },
  {
   "cell_type": "markdown",
   "id": "d5bb45ff",
   "metadata": {},
   "source": [
    "#### Ejercicio 12: ¿Tenemos algún documental ('Documentaries') de Mike Tyson?"
   ]
  },
  {
   "cell_type": "code",
   "execution_count": 81,
   "id": "ed7861c2",
   "metadata": {},
   "outputs": [
    {
     "data": {
      "text/plain": [
       "Series([], Name: Title, dtype: object)"
      ]
     },
     "execution_count": 81,
     "metadata": {},
     "output_type": "execute_result"
    }
   ],
   "source": [
    "df12 = df[(df['description'].str.contains('Mike tyson', na=False)) & \n",
    "          (df[\"type\"] == \"Documentaries\")][\"Title\"]\n",
    "df12"
   ]
  },
  {
   "cell_type": "markdown",
   "id": "2bbf4131",
   "metadata": {},
   "source": [
    "#### Ejercicio 13: Selecciona solo las columnas 'title', 'country' y 'release_year' del dataset."
   ]
  },
  {
   "cell_type": "code",
   "execution_count": 86,
   "id": "eda1fd35",
   "metadata": {},
   "outputs": [
    {
     "data": {
      "text/html": [
       "<div>\n",
       "<style scoped>\n",
       "    .dataframe tbody tr th:only-of-type {\n",
       "        vertical-align: middle;\n",
       "    }\n",
       "\n",
       "    .dataframe tbody tr th {\n",
       "        vertical-align: top;\n",
       "    }\n",
       "\n",
       "    .dataframe thead th {\n",
       "        text-align: right;\n",
       "    }\n",
       "</style>\n",
       "<table border=\"1\" class=\"dataframe\">\n",
       "  <thead>\n",
       "    <tr style=\"text-align: right;\">\n",
       "      <th></th>\n",
       "      <th>Title</th>\n",
       "      <th>country</th>\n",
       "      <th>release_year</th>\n",
       "    </tr>\n",
       "  </thead>\n",
       "  <tbody>\n",
       "    <tr>\n",
       "      <th>0</th>\n",
       "      <td>Dick Johnson Is Dead</td>\n",
       "      <td>United States</td>\n",
       "      <td>2020</td>\n",
       "    </tr>\n",
       "    <tr>\n",
       "      <th>1</th>\n",
       "      <td>Blood &amp; Water</td>\n",
       "      <td>South Africa</td>\n",
       "      <td>2021</td>\n",
       "    </tr>\n",
       "    <tr>\n",
       "      <th>2</th>\n",
       "      <td>Ganglands</td>\n",
       "      <td>NaN</td>\n",
       "      <td>2021</td>\n",
       "    </tr>\n",
       "    <tr>\n",
       "      <th>3</th>\n",
       "      <td>Jailbirds New Orleans</td>\n",
       "      <td>NaN</td>\n",
       "      <td>2021</td>\n",
       "    </tr>\n",
       "    <tr>\n",
       "      <th>4</th>\n",
       "      <td>Kota Factory</td>\n",
       "      <td>India</td>\n",
       "      <td>2021</td>\n",
       "    </tr>\n",
       "    <tr>\n",
       "      <th>...</th>\n",
       "      <td>...</td>\n",
       "      <td>...</td>\n",
       "      <td>...</td>\n",
       "    </tr>\n",
       "    <tr>\n",
       "      <th>8802</th>\n",
       "      <td>Zodiac</td>\n",
       "      <td>United States</td>\n",
       "      <td>2007</td>\n",
       "    </tr>\n",
       "    <tr>\n",
       "      <th>8803</th>\n",
       "      <td>Zombie Dumb</td>\n",
       "      <td>NaN</td>\n",
       "      <td>2018</td>\n",
       "    </tr>\n",
       "    <tr>\n",
       "      <th>8804</th>\n",
       "      <td>Zombieland</td>\n",
       "      <td>United States</td>\n",
       "      <td>2009</td>\n",
       "    </tr>\n",
       "    <tr>\n",
       "      <th>8805</th>\n",
       "      <td>Zoom</td>\n",
       "      <td>United States</td>\n",
       "      <td>2006</td>\n",
       "    </tr>\n",
       "    <tr>\n",
       "      <th>8806</th>\n",
       "      <td>Zubaan</td>\n",
       "      <td>India</td>\n",
       "      <td>2015</td>\n",
       "    </tr>\n",
       "  </tbody>\n",
       "</table>\n",
       "<p>8807 rows × 3 columns</p>\n",
       "</div>"
      ],
      "text/plain": [
       "                      Title        country  release_year\n",
       "0      Dick Johnson Is Dead  United States          2020\n",
       "1             Blood & Water   South Africa          2021\n",
       "2                 Ganglands            NaN          2021\n",
       "3     Jailbirds New Orleans            NaN          2021\n",
       "4              Kota Factory          India          2021\n",
       "...                     ...            ...           ...\n",
       "8802                 Zodiac  United States          2007\n",
       "8803            Zombie Dumb            NaN          2018\n",
       "8804             Zombieland  United States          2009\n",
       "8805                   Zoom  United States          2006\n",
       "8806                 Zubaan          India          2015\n",
       "\n",
       "[8807 rows x 3 columns]"
      ]
     },
     "execution_count": 86,
     "metadata": {},
     "output_type": "execute_result"
    }
   ],
   "source": [
    "df13 = df[[\"Title\", \"country\", \"release_year\"]]\n",
    "df13"
   ]
  },
  {
   "cell_type": "markdown",
   "id": "3a54ee1c",
   "metadata": {},
   "source": [
    "#### Ejercicio 14: Filtra las columnas que contienen la palabra 'date'."
   ]
  },
  {
   "cell_type": "code",
   "execution_count": 85,
   "id": "fb861526",
   "metadata": {},
   "outputs": [
    {
     "data": {
      "text/html": [
       "<div>\n",
       "<style scoped>\n",
       "    .dataframe tbody tr th:only-of-type {\n",
       "        vertical-align: middle;\n",
       "    }\n",
       "\n",
       "    .dataframe tbody tr th {\n",
       "        vertical-align: top;\n",
       "    }\n",
       "\n",
       "    .dataframe thead th {\n",
       "        text-align: right;\n",
       "    }\n",
       "</style>\n",
       "<table border=\"1\" class=\"dataframe\">\n",
       "  <thead>\n",
       "    <tr style=\"text-align: right;\">\n",
       "      <th></th>\n",
       "      <th>date_added</th>\n",
       "    </tr>\n",
       "  </thead>\n",
       "  <tbody>\n",
       "    <tr>\n",
       "      <th>0</th>\n",
       "      <td>2021-09-25</td>\n",
       "    </tr>\n",
       "    <tr>\n",
       "      <th>1</th>\n",
       "      <td>2021-09-24</td>\n",
       "    </tr>\n",
       "    <tr>\n",
       "      <th>2</th>\n",
       "      <td>2021-09-24</td>\n",
       "    </tr>\n",
       "    <tr>\n",
       "      <th>3</th>\n",
       "      <td>2021-09-24</td>\n",
       "    </tr>\n",
       "    <tr>\n",
       "      <th>4</th>\n",
       "      <td>2021-09-24</td>\n",
       "    </tr>\n",
       "    <tr>\n",
       "      <th>...</th>\n",
       "      <td>...</td>\n",
       "    </tr>\n",
       "    <tr>\n",
       "      <th>8802</th>\n",
       "      <td>2019-11-20</td>\n",
       "    </tr>\n",
       "    <tr>\n",
       "      <th>8803</th>\n",
       "      <td>2019-07-01</td>\n",
       "    </tr>\n",
       "    <tr>\n",
       "      <th>8804</th>\n",
       "      <td>2019-11-01</td>\n",
       "    </tr>\n",
       "    <tr>\n",
       "      <th>8805</th>\n",
       "      <td>2020-01-11</td>\n",
       "    </tr>\n",
       "    <tr>\n",
       "      <th>8806</th>\n",
       "      <td>2019-03-02</td>\n",
       "    </tr>\n",
       "  </tbody>\n",
       "</table>\n",
       "<p>8807 rows × 1 columns</p>\n",
       "</div>"
      ],
      "text/plain": [
       "      date_added\n",
       "0     2021-09-25\n",
       "1     2021-09-24\n",
       "2     2021-09-24\n",
       "3     2021-09-24\n",
       "4     2021-09-24\n",
       "...          ...\n",
       "8802  2019-11-20\n",
       "8803  2019-07-01\n",
       "8804  2019-11-01\n",
       "8805  2020-01-11\n",
       "8806  2019-03-02\n",
       "\n",
       "[8807 rows x 1 columns]"
      ]
     },
     "execution_count": 85,
     "metadata": {},
     "output_type": "execute_result"
    }
   ],
   "source": [
    "df14 = df.filter(like='date')\n",
    "df14"
   ]
  },
  {
   "cell_type": "markdown",
   "id": "2fdc640c",
   "metadata": {},
   "source": [
    "#### Ejercicio 15: Usando `query()`, filtra todos los títulos del país 'France' con una duración de 80 minutos."
   ]
  },
  {
   "cell_type": "code",
   "execution_count": 87,
   "id": "686daaf5",
   "metadata": {},
   "outputs": [
    {
     "data": {
      "text/html": [
       "<div>\n",
       "<style scoped>\n",
       "    .dataframe tbody tr th:only-of-type {\n",
       "        vertical-align: middle;\n",
       "    }\n",
       "\n",
       "    .dataframe tbody tr th {\n",
       "        vertical-align: top;\n",
       "    }\n",
       "\n",
       "    .dataframe thead th {\n",
       "        text-align: right;\n",
       "    }\n",
       "</style>\n",
       "<table border=\"1\" class=\"dataframe\">\n",
       "  <thead>\n",
       "    <tr style=\"text-align: right;\">\n",
       "      <th></th>\n",
       "      <th>Title</th>\n",
       "    </tr>\n",
       "  </thead>\n",
       "  <tbody>\n",
       "    <tr>\n",
       "      <th>0</th>\n",
       "      <td>Dick Johnson Is Dead</td>\n",
       "    </tr>\n",
       "    <tr>\n",
       "      <th>16</th>\n",
       "      <td>Europe's Most Dangerous Man: Otto Skorzeny in ...</td>\n",
       "    </tr>\n",
       "    <tr>\n",
       "      <th>17</th>\n",
       "      <td>Falsa identidad</td>\n",
       "    </tr>\n",
       "    <tr>\n",
       "      <th>21</th>\n",
       "      <td>Resurrection: Ertugrul</td>\n",
       "    </tr>\n",
       "    <tr>\n",
       "      <th>32</th>\n",
       "      <td>Sex Education</td>\n",
       "    </tr>\n",
       "    <tr>\n",
       "      <th>...</th>\n",
       "      <td>...</td>\n",
       "    </tr>\n",
       "    <tr>\n",
       "      <th>8796</th>\n",
       "      <td>Yunus Emre</td>\n",
       "    </tr>\n",
       "    <tr>\n",
       "      <th>8797</th>\n",
       "      <td>Zak Storm</td>\n",
       "    </tr>\n",
       "    <tr>\n",
       "      <th>8801</th>\n",
       "      <td>Zinzana</td>\n",
       "    </tr>\n",
       "    <tr>\n",
       "      <th>8803</th>\n",
       "      <td>Zombie Dumb</td>\n",
       "    </tr>\n",
       "    <tr>\n",
       "      <th>8806</th>\n",
       "      <td>Zubaan</td>\n",
       "    </tr>\n",
       "  </tbody>\n",
       "</table>\n",
       "<p>5624 rows × 1 columns</p>\n",
       "</div>"
      ],
      "text/plain": [
       "                                                  Title\n",
       "0                                  Dick Johnson Is Dead\n",
       "16    Europe's Most Dangerous Man: Otto Skorzeny in ...\n",
       "17                                      Falsa identidad\n",
       "21                               Resurrection: Ertugrul\n",
       "32                                        Sex Education\n",
       "...                                                 ...\n",
       "8796                                         Yunus Emre\n",
       "8797                                          Zak Storm\n",
       "8801                                            Zinzana\n",
       "8803                                        Zombie Dumb\n",
       "8806                                             Zubaan\n",
       "\n",
       "[5624 rows x 1 columns]"
      ]
     },
     "execution_count": 87,
     "metadata": {},
     "output_type": "execute_result"
    }
   ],
   "source": [
    "\n",
    "df.query(\"release_year >= 2015 & release_year <= 2020\")[[\"Title\"]]"
   ]
  },
  {
   "cell_type": "markdown",
   "id": "dbcb48d5",
   "metadata": {},
   "source": [
    "#### Ejercicio 16: Filtra los títulos que son películas ('Movie') y fueron lanzados antes de 2010."
   ]
  },
  {
   "cell_type": "code",
   "execution_count": 88,
   "id": "bc49401c",
   "metadata": {},
   "outputs": [
    {
     "data": {
      "text/html": [
       "<div>\n",
       "<style scoped>\n",
       "    .dataframe tbody tr th:only-of-type {\n",
       "        vertical-align: middle;\n",
       "    }\n",
       "\n",
       "    .dataframe tbody tr th {\n",
       "        vertical-align: top;\n",
       "    }\n",
       "\n",
       "    .dataframe thead th {\n",
       "        text-align: right;\n",
       "    }\n",
       "</style>\n",
       "<table border=\"1\" class=\"dataframe\">\n",
       "  <thead>\n",
       "    <tr style=\"text-align: right;\">\n",
       "      <th></th>\n",
       "      <th>Title</th>\n",
       "    </tr>\n",
       "  </thead>\n",
       "  <tbody>\n",
       "    <tr>\n",
       "      <th>7</th>\n",
       "      <td>Sankofa</td>\n",
       "    </tr>\n",
       "    <tr>\n",
       "      <th>22</th>\n",
       "      <td>Avvai Shanmughi</td>\n",
       "    </tr>\n",
       "    <tr>\n",
       "      <th>24</th>\n",
       "      <td>Jeans</td>\n",
       "    </tr>\n",
       "    <tr>\n",
       "      <th>26</th>\n",
       "      <td>Minsara Kanavu</td>\n",
       "    </tr>\n",
       "    <tr>\n",
       "      <th>41</th>\n",
       "      <td>Jaws</td>\n",
       "    </tr>\n",
       "    <tr>\n",
       "      <th>...</th>\n",
       "      <td>...</td>\n",
       "    </tr>\n",
       "    <tr>\n",
       "      <th>8793</th>\n",
       "      <td>Yours, Mine and Ours</td>\n",
       "    </tr>\n",
       "    <tr>\n",
       "      <th>8799</th>\n",
       "      <td>Zenda</td>\n",
       "    </tr>\n",
       "    <tr>\n",
       "      <th>8802</th>\n",
       "      <td>Zodiac</td>\n",
       "    </tr>\n",
       "    <tr>\n",
       "      <th>8804</th>\n",
       "      <td>Zombieland</td>\n",
       "    </tr>\n",
       "    <tr>\n",
       "      <th>8805</th>\n",
       "      <td>Zoom</td>\n",
       "    </tr>\n",
       "  </tbody>\n",
       "</table>\n",
       "<p>1153 rows × 1 columns</p>\n",
       "</div>"
      ],
      "text/plain": [
       "                     Title\n",
       "7                  Sankofa\n",
       "22         Avvai Shanmughi\n",
       "24                   Jeans\n",
       "26          Minsara Kanavu\n",
       "41                    Jaws\n",
       "...                    ...\n",
       "8793  Yours, Mine and Ours\n",
       "8799                 Zenda\n",
       "8802                Zodiac\n",
       "8804            Zombieland\n",
       "8805                  Zoom\n",
       "\n",
       "[1153 rows x 1 columns]"
      ]
     },
     "execution_count": 88,
     "metadata": {},
     "output_type": "execute_result"
    }
   ],
   "source": [
    "df.query(\"release_year < 2010 & type == 'Movie'\")[[\"Title\"]]"
   ]
  },
  {
   "cell_type": "markdown",
   "id": "d7ed2fd6",
   "metadata": {},
   "source": [
    "#### Ejercicio 17: Encuentra los 10 títulos con las puntuaciones más altas en IMDb."
   ]
  },
  {
   "cell_type": "code",
   "execution_count": null,
   "id": "0ca3bb19",
   "metadata": {},
   "outputs": [
    {
     "data": {
      "text/plain": [
       "1886       David Attenborough: A Life on Our Planet\n",
       "4293                        Springsteen on Broadway\n",
       "5893    Winter on Fire: Ukraine's Fight for Freedom\n",
       "5152                         Cuba and the Cameraman\n",
       "3386                         Dancing with the Birds\n",
       "3273                                          Klaus\n",
       "1857          The Three Deaths of Marisela Escobedo\n",
       "1171                                     Seaspiracy\n",
       "2097                                 Rising Phoenix\n",
       "5376                                  Chasing Coral\n",
       "Name: Title, dtype: object"
      ]
     },
     "execution_count": 91,
     "metadata": {},
     "output_type": "execute_result"
    }
   ],
   "source": [
    "df17 = (df[df['IMDB Score'].notna()]\n",
    "    .sort_values(by='IMDB Score', ascending=False)\n",
    "    .head(10)[\"Title\"])\n",
    "df17"
   ]
  },
  {
   "cell_type": "markdown",
   "id": "46219613",
   "metadata": {},
   "source": [
    "#### Ejercicio 18: Encuentra los 5 títulos con las puntuaciones más bajas en IMDb."
   ]
  },
  {
   "cell_type": "code",
   "execution_count": 92,
   "id": "546d1ad2",
   "metadata": {},
   "outputs": [
    {
     "data": {
      "text/plain": [
       "3623    Enter the Anime\n",
       "3094            The App\n",
       "2104        Dark Forces\n",
       "5073     The Open House\n",
       "1777        Kaali Khuhi\n",
       "Name: Title, dtype: object"
      ]
     },
     "execution_count": 92,
     "metadata": {},
     "output_type": "execute_result"
    }
   ],
   "source": [
    "df18 = (df[df['IMDB Score'].notna()]\n",
    "    .sort_values(by='IMDB Score', ascending=True)\n",
    "    .head(5)[\"Title\"])\n",
    "df18"
   ]
  },
  {
   "cell_type": "markdown",
   "id": "3eabf7b5",
   "metadata": {},
   "source": [
    "#### Ejercicio 19: Filtra todos los títulos que no tienen un director asignado (valores nulos en la columna 'director')."
   ]
  },
  {
   "cell_type": "code",
   "execution_count": 93,
   "id": "8790fdaa",
   "metadata": {},
   "outputs": [
    {
     "data": {
      "text/plain": [
       "1                             Blood & Water\n",
       "3                     Jailbirds New Orleans\n",
       "4                              Kota Factory\n",
       "10      Vendetta: Truth, Lies and The Mafia\n",
       "14          Crime Stories: India Detectives\n",
       "                       ...                 \n",
       "8795                        Yu-Gi-Oh! Arc-V\n",
       "8796                             Yunus Emre\n",
       "8797                              Zak Storm\n",
       "8800                     Zindagi Gulzar Hai\n",
       "8803                            Zombie Dumb\n",
       "Name: Title, Length: 2634, dtype: object"
      ]
     },
     "execution_count": 93,
     "metadata": {},
     "output_type": "execute_result"
    }
   ],
   "source": [
    "df19 = df[df['director'].isna()][\"Title\"]\n",
    "df19"
   ]
  },
  {
   "cell_type": "markdown",
   "id": "f4597e27",
   "metadata": {},
   "source": [
    "#### Ejercicio 20: Filtra todos los títulos que tienen información completa en las columnas 'title', 'country' y 'IMDB Score'."
   ]
  },
  {
   "cell_type": "code",
   "execution_count": 96,
   "id": "540ac699",
   "metadata": {},
   "outputs": [
    {
     "data": {
      "text/html": [
       "<div>\n",
       "<style scoped>\n",
       "    .dataframe tbody tr th:only-of-type {\n",
       "        vertical-align: middle;\n",
       "    }\n",
       "\n",
       "    .dataframe tbody tr th {\n",
       "        vertical-align: top;\n",
       "    }\n",
       "\n",
       "    .dataframe thead th {\n",
       "        text-align: right;\n",
       "    }\n",
       "</style>\n",
       "<table border=\"1\" class=\"dataframe\">\n",
       "  <thead>\n",
       "    <tr style=\"text-align: right;\">\n",
       "      <th></th>\n",
       "      <th>Title</th>\n",
       "    </tr>\n",
       "  </thead>\n",
       "  <tbody>\n",
       "    <tr>\n",
       "      <th>0</th>\n",
       "      <td>Dick Johnson Is Dead</td>\n",
       "    </tr>\n",
       "    <tr>\n",
       "      <th>1</th>\n",
       "      <td>Blood &amp; Water</td>\n",
       "    </tr>\n",
       "    <tr>\n",
       "      <th>2</th>\n",
       "      <td>Ganglands</td>\n",
       "    </tr>\n",
       "    <tr>\n",
       "      <th>3</th>\n",
       "      <td>Jailbirds New Orleans</td>\n",
       "    </tr>\n",
       "    <tr>\n",
       "      <th>4</th>\n",
       "      <td>Kota Factory</td>\n",
       "    </tr>\n",
       "    <tr>\n",
       "      <th>...</th>\n",
       "      <td>...</td>\n",
       "    </tr>\n",
       "    <tr>\n",
       "      <th>8802</th>\n",
       "      <td>Zodiac</td>\n",
       "    </tr>\n",
       "    <tr>\n",
       "      <th>8803</th>\n",
       "      <td>Zombie Dumb</td>\n",
       "    </tr>\n",
       "    <tr>\n",
       "      <th>8804</th>\n",
       "      <td>Zombieland</td>\n",
       "    </tr>\n",
       "    <tr>\n",
       "      <th>8805</th>\n",
       "      <td>Zoom</td>\n",
       "    </tr>\n",
       "    <tr>\n",
       "      <th>8806</th>\n",
       "      <td>Zubaan</td>\n",
       "    </tr>\n",
       "  </tbody>\n",
       "</table>\n",
       "<p>8807 rows × 1 columns</p>\n",
       "</div>"
      ],
      "text/plain": [
       "                      Title\n",
       "0      Dick Johnson Is Dead\n",
       "1             Blood & Water\n",
       "2                 Ganglands\n",
       "3     Jailbirds New Orleans\n",
       "4              Kota Factory\n",
       "...                     ...\n",
       "8802                 Zodiac\n",
       "8803            Zombie Dumb\n",
       "8804             Zombieland\n",
       "8805                   Zoom\n",
       "8806                 Zubaan\n",
       "\n",
       "[8807 rows x 1 columns]"
      ]
     },
     "execution_count": 96,
     "metadata": {},
     "output_type": "execute_result"
    }
   ],
   "source": [
    "df20 = df[(df['country'].notna())|\n",
    "          (df['IMDB Score'].notna())|\n",
    "          (df['Title'].notna())][[\"Title\"]] \n",
    "df20"
   ]
  },
  {
   "cell_type": "markdown",
   "id": "d18a16fe",
   "metadata": {},
   "source": [
    "#### Ejercicio 21: Identifica si hay títulos duplicados en la columna 'title'."
   ]
  },
  {
   "cell_type": "code",
   "execution_count": 101,
   "id": "8b36763b",
   "metadata": {},
   "outputs": [
    {
     "data": {
      "text/plain": [
       "0"
      ]
     },
     "execution_count": 101,
     "metadata": {},
     "output_type": "execute_result"
    }
   ],
   "source": [
    "df21 = df[df['Title'].duplicated()]['Title']\n",
    "len(df21)"
   ]
  }
 ],
 "metadata": {
  "kernelspec": {
   "display_name": "Python 3",
   "language": "python",
   "name": "python3"
  },
  "language_info": {
   "codemirror_mode": {
    "name": "ipython",
    "version": 3
   },
   "file_extension": ".py",
   "mimetype": "text/x-python",
   "name": "python",
   "nbconvert_exporter": "python",
   "pygments_lexer": "ipython3",
   "version": "3.9.6"
  }
 },
 "nbformat": 4,
 "nbformat_minor": 5
}
