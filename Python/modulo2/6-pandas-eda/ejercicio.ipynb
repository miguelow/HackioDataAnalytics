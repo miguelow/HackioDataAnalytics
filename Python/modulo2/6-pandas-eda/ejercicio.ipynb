{
 "cells": [
  {
   "cell_type": "markdown",
   "metadata": {},
   "source": [
    "\n",
    "# Parte 1: Análisis Exploratorio de Datos (EDA)\n",
    "## Carga de datos"
   ]
  },
  {
   "cell_type": "code",
   "execution_count": 2,
   "metadata": {},
   "outputs": [],
   "source": [
    "import pandas as pd\n",
    "import numpy as np"
   ]
  },
  {
   "cell_type": "code",
   "execution_count": 3,
   "metadata": {},
   "outputs": [],
   "source": [
    "df_orig = pd.read_csv(\"./datos/netflix_originals.csv\", index_col=0)\n",
    "df_titles = pd.read_csv(\"./datos/netflix_titles.csv\", index_col=0)"
   ]
  },
  {
   "cell_type": "markdown",
   "metadata": {},
   "source": [
    "## 1.1 Primero analizaremos df_orig (netflix_originals.csv):\n",
    "Esta es la estructura que seguiré\n",
    "1. Análisis inicial de la estructura\n",
    "2. Análisis de variables categóricas y numéricas\n",
    "3. Preparación para la unión"
   ]
  },
  {
   "cell_type": "code",
   "execution_count": 4,
   "metadata": {},
   "outputs": [
    {
     "name": "stdout",
     "output_type": "stream",
     "text": [
      "Ejemplo del DataFrame:\n"
     ]
    },
    {
     "data": {
      "text/html": [
       "<div>\n",
       "<style scoped>\n",
       "    .dataframe tbody tr th:only-of-type {\n",
       "        vertical-align: middle;\n",
       "    }\n",
       "\n",
       "    .dataframe tbody tr th {\n",
       "        vertical-align: top;\n",
       "    }\n",
       "\n",
       "    .dataframe thead th {\n",
       "        text-align: right;\n",
       "    }\n",
       "</style>\n",
       "<table border=\"1\" class=\"dataframe\">\n",
       "  <thead>\n",
       "    <tr style=\"text-align: right;\">\n",
       "      <th></th>\n",
       "      <th>Title</th>\n",
       "      <th>Genre</th>\n",
       "      <th>Premiere</th>\n",
       "      <th>Runtime</th>\n",
       "      <th>IMDB Score</th>\n",
       "      <th>Language</th>\n",
       "    </tr>\n",
       "  </thead>\n",
       "  <tbody>\n",
       "    <tr>\n",
       "      <th>0</th>\n",
       "      <td>Enter the Anime</td>\n",
       "      <td>Documentary</td>\n",
       "      <td>August 5, 2019</td>\n",
       "      <td>58</td>\n",
       "      <td>2.5</td>\n",
       "      <td>English/Japanese</td>\n",
       "    </tr>\n",
       "    <tr>\n",
       "      <th>1</th>\n",
       "      <td>Dark Forces</td>\n",
       "      <td>Thriller</td>\n",
       "      <td>August 21, 2020</td>\n",
       "      <td>81</td>\n",
       "      <td>2.6</td>\n",
       "      <td>Spanish</td>\n",
       "    </tr>\n",
       "    <tr>\n",
       "      <th>2</th>\n",
       "      <td>The App</td>\n",
       "      <td>Science fiction/Drama</td>\n",
       "      <td>December 26, 2019</td>\n",
       "      <td>79</td>\n",
       "      <td>2.6</td>\n",
       "      <td>Italian</td>\n",
       "    </tr>\n",
       "    <tr>\n",
       "      <th>3</th>\n",
       "      <td>The Open House</td>\n",
       "      <td>Horror thriller</td>\n",
       "      <td>January 19, 2018</td>\n",
       "      <td>94</td>\n",
       "      <td>3.2</td>\n",
       "      <td>English</td>\n",
       "    </tr>\n",
       "    <tr>\n",
       "      <th>4</th>\n",
       "      <td>Kaali Khuhi</td>\n",
       "      <td>Mystery</td>\n",
       "      <td>October 30, 2020</td>\n",
       "      <td>90</td>\n",
       "      <td>3.4</td>\n",
       "      <td>Hindi</td>\n",
       "    </tr>\n",
       "  </tbody>\n",
       "</table>\n",
       "</div>"
      ],
      "text/plain": [
       "             Title                  Genre           Premiere  Runtime  \\\n",
       "0  Enter the Anime            Documentary     August 5, 2019       58   \n",
       "1      Dark Forces               Thriller    August 21, 2020       81   \n",
       "2          The App  Science fiction/Drama  December 26, 2019       79   \n",
       "3   The Open House        Horror thriller   January 19, 2018       94   \n",
       "4      Kaali Khuhi                Mystery   October 30, 2020       90   \n",
       "\n",
       "   IMDB Score          Language  \n",
       "0         2.5  English/Japanese  \n",
       "1         2.6           Spanish  \n",
       "2         2.6           Italian  \n",
       "3         3.2           English  \n",
       "4         3.4             Hindi  "
      ]
     },
     "execution_count": 4,
     "metadata": {},
     "output_type": "execute_result"
    }
   ],
   "source": [
    "print(\"Ejemplo del DataFrame:\")\n",
    "df_orig.head()"
   ]
  },
  {
   "cell_type": "code",
   "execution_count": 5,
   "metadata": {},
   "outputs": [
    {
     "name": "stdout",
     "output_type": "stream",
     "text": [
      "Información básica del DataFrame:\n",
      "<class 'pandas.core.frame.DataFrame'>\n",
      "Index: 513 entries, 0 to 583\n",
      "Data columns (total 6 columns):\n",
      " #   Column      Non-Null Count  Dtype  \n",
      "---  ------      --------------  -----  \n",
      " 0   Title       513 non-null    object \n",
      " 1   Genre       513 non-null    object \n",
      " 2   Premiere    513 non-null    object \n",
      " 3   Runtime     513 non-null    int64  \n",
      " 4   IMDB Score  513 non-null    float64\n",
      " 5   Language    513 non-null    object \n",
      "dtypes: float64(1), int64(1), object(4)\n",
      "memory usage: 28.1+ KB\n"
     ]
    }
   ],
   "source": [
    "print(\"Información básica del DataFrame:\")\n",
    "df_orig.info()"
   ]
  },
  {
   "cell_type": "code",
   "execution_count": 6,
   "metadata": {},
   "outputs": [
    {
     "data": {
      "text/html": [
       "<div>\n",
       "<style scoped>\n",
       "    .dataframe tbody tr th:only-of-type {\n",
       "        vertical-align: middle;\n",
       "    }\n",
       "\n",
       "    .dataframe tbody tr th {\n",
       "        vertical-align: top;\n",
       "    }\n",
       "\n",
       "    .dataframe thead th {\n",
       "        text-align: right;\n",
       "    }\n",
       "</style>\n",
       "<table border=\"1\" class=\"dataframe\">\n",
       "  <thead>\n",
       "    <tr style=\"text-align: right;\">\n",
       "      <th></th>\n",
       "      <th>Title</th>\n",
       "      <th>Genre</th>\n",
       "      <th>Premiere</th>\n",
       "      <th>Language</th>\n",
       "    </tr>\n",
       "  </thead>\n",
       "  <tbody>\n",
       "    <tr>\n",
       "      <th>count</th>\n",
       "      <td>513</td>\n",
       "      <td>513</td>\n",
       "      <td>513</td>\n",
       "      <td>513</td>\n",
       "    </tr>\n",
       "    <tr>\n",
       "      <th>unique</th>\n",
       "      <td>513</td>\n",
       "      <td>106</td>\n",
       "      <td>350</td>\n",
       "      <td>37</td>\n",
       "    </tr>\n",
       "    <tr>\n",
       "      <th>top</th>\n",
       "      <td>Enter the Anime</td>\n",
       "      <td>Documentary</td>\n",
       "      <td>November 1, 2019</td>\n",
       "      <td>English</td>\n",
       "    </tr>\n",
       "    <tr>\n",
       "      <th>freq</th>\n",
       "      <td>1</td>\n",
       "      <td>132</td>\n",
       "      <td>5</td>\n",
       "      <td>352</td>\n",
       "    </tr>\n",
       "  </tbody>\n",
       "</table>\n",
       "</div>"
      ],
      "text/plain": [
       "                  Title        Genre          Premiere Language\n",
       "count               513          513               513      513\n",
       "unique              513          106               350       37\n",
       "top     Enter the Anime  Documentary  November 1, 2019  English\n",
       "freq                  1          132                 5      352"
      ]
     },
     "execution_count": 6,
     "metadata": {},
     "output_type": "execute_result"
    }
   ],
   "source": [
    "df_orig.describe(include=['object', 'category'])"
   ]
  },
  {
   "cell_type": "markdown",
   "metadata": {},
   "source": [
    "## 1.1.1 Análisis inicial de la estructura:\n",
    "\n",
    "- 513 Registros pero el índice más alto es 584, esto se puede deber a que los índices no sean secuanciales y haya algún gap.\n",
    "- No contamos con valores nulos\n",
    "- La columna `Premiere`, aunque indique una fecha, es de tipo String\n",
    "- Los 513 regiustros se distribuyen en 106 género diferentes\n",
    "- Casi el 70% del contenido está en Inglés\n",
    "- El género más común es el documental"
   ]
  },
  {
   "cell_type": "code",
   "execution_count": 7,
   "metadata": {},
   "outputs": [
    {
     "name": "stdout",
     "output_type": "stream",
     "text": [
      "Número de valores únicos en la columna Title: 513\n",
      "Número de valores únicos en la columna Genre: 106\n",
      "Número de valores únicos en la columna Language: 37\n"
     ]
    }
   ],
   "source": [
    "for columna in ['Title', 'Genre', 'Language']:\n",
    "    print(f\"Número de valores únicos en la columna {columna}: {df_orig[columna].nunique()}\")\n",
    "    "
   ]
  },
  {
   "cell_type": "markdown",
   "metadata": {},
   "source": [
    "## 1.1.2 Análisis variable snuméricas y categóricas:"
   ]
  },
  {
   "cell_type": "code",
   "execution_count": 8,
   "metadata": {},
   "outputs": [
    {
     "data": {
      "text/html": [
       "<div>\n",
       "<style scoped>\n",
       "    .dataframe tbody tr th:only-of-type {\n",
       "        vertical-align: middle;\n",
       "    }\n",
       "\n",
       "    .dataframe tbody tr th {\n",
       "        vertical-align: top;\n",
       "    }\n",
       "\n",
       "    .dataframe thead th {\n",
       "        text-align: right;\n",
       "    }\n",
       "</style>\n",
       "<table border=\"1\" class=\"dataframe\">\n",
       "  <thead>\n",
       "    <tr style=\"text-align: right;\">\n",
       "      <th></th>\n",
       "      <th>Runtime</th>\n",
       "      <th>IMDB Score</th>\n",
       "    </tr>\n",
       "  </thead>\n",
       "  <tbody>\n",
       "    <tr>\n",
       "      <th>count</th>\n",
       "      <td>513.00</td>\n",
       "      <td>513.00</td>\n",
       "    </tr>\n",
       "    <tr>\n",
       "      <th>mean</th>\n",
       "      <td>94.67</td>\n",
       "      <td>6.21</td>\n",
       "    </tr>\n",
       "    <tr>\n",
       "      <th>std</th>\n",
       "      <td>26.65</td>\n",
       "      <td>0.97</td>\n",
       "    </tr>\n",
       "    <tr>\n",
       "      <th>min</th>\n",
       "      <td>4.00</td>\n",
       "      <td>2.50</td>\n",
       "    </tr>\n",
       "    <tr>\n",
       "      <th>25%</th>\n",
       "      <td>87.00</td>\n",
       "      <td>5.60</td>\n",
       "    </tr>\n",
       "    <tr>\n",
       "      <th>50%</th>\n",
       "      <td>97.00</td>\n",
       "      <td>6.30</td>\n",
       "    </tr>\n",
       "    <tr>\n",
       "      <th>75%</th>\n",
       "      <td>108.00</td>\n",
       "      <td>6.90</td>\n",
       "    </tr>\n",
       "    <tr>\n",
       "      <th>max</th>\n",
       "      <td>209.00</td>\n",
       "      <td>9.00</td>\n",
       "    </tr>\n",
       "  </tbody>\n",
       "</table>\n",
       "</div>"
      ],
      "text/plain": [
       "       Runtime  IMDB Score\n",
       "count   513.00      513.00\n",
       "mean     94.67        6.21\n",
       "std      26.65        0.97\n",
       "min       4.00        2.50\n",
       "25%      87.00        5.60\n",
       "50%      97.00        6.30\n",
       "75%     108.00        6.90\n",
       "max     209.00        9.00"
      ]
     },
     "execution_count": 8,
     "metadata": {},
     "output_type": "execute_result"
    }
   ],
   "source": [
    "resultados = df_orig.describe().round(2)\n",
    "resultados"
   ]
  },
  {
   "cell_type": "markdown",
   "metadata": {},
   "source": [
    "### Para Runtime (duración en minutos)\n",
    "- Un amplio rango desde 4  a 209, esto viene dado por la variedad de contenido (cortometraje, documental...)\n",
    "- Cuenta con una media de 94, apenas diferente a la mediana en 97, lo que nos indica una distribución equilibrada\n",
    "### Para IMDB Score (medida de puntuación)\n",
    "- Similar a la anterior, también cuenta con una distribución equilibrada y rango de datos entre 2.5 y 9\n",
    "\n",
    "`En base a estos será interesante estudiar cómo se ve afectada la puntuación con respecto a otras variables cómo género o duración mismamente.`\n"
   ]
  },
  {
   "cell_type": "markdown",
   "metadata": {},
   "source": [
    "\n",
    "## 1.1.3 Preparación para la unión:\n",
    "- Ver si existen títulos duplicados\n",
    "- Cambiar el formato de la columna `Premiere` a tipo fecha\n",
    "- A partir del nuevo formato de `Premiere`, crear una nueva columna `release_year`que nos sirva para comparar resultados con el otro df"
   ]
  },
  {
   "cell_type": "code",
   "execution_count": 10,
   "metadata": {},
   "outputs": [
    {
     "name": "stdout",
     "output_type": "stream",
     "text": [
      "0\n"
     ]
    }
   ],
   "source": [
    "print(df_orig['Title'].duplicated().sum())"
   ]
  },
  {
   "cell_type": "markdown",
   "metadata": {},
   "source": [
    "Por tanto confirmamos, que todos los registros son únicos, tomando como referencia el título."
   ]
  },
  {
   "cell_type": "code",
   "execution_count": 11,
   "metadata": {},
   "outputs": [],
   "source": [
    "df_orig['Premiere'] = df_orig['Premiere'].str.replace('.', ',')\n",
    "df_orig['Premiere'] = pd.to_datetime(df_orig['Premiere'])\n",
    "df_orig['release_year'] = df_orig['Premiere'].dt.year"
   ]
  },
  {
   "cell_type": "markdown",
   "metadata": {},
   "source": [
    "### Ejemplo de la estructura actualizada\n",
    "Ahora `Premiere`es de tipo date y contamos con una nueva columna `release_year`"
   ]
  },
  {
   "cell_type": "code",
   "execution_count": 12,
   "metadata": {},
   "outputs": [
    {
     "data": {
      "text/html": [
       "<div>\n",
       "<style scoped>\n",
       "    .dataframe tbody tr th:only-of-type {\n",
       "        vertical-align: middle;\n",
       "    }\n",
       "\n",
       "    .dataframe tbody tr th {\n",
       "        vertical-align: top;\n",
       "    }\n",
       "\n",
       "    .dataframe thead th {\n",
       "        text-align: right;\n",
       "    }\n",
       "</style>\n",
       "<table border=\"1\" class=\"dataframe\">\n",
       "  <thead>\n",
       "    <tr style=\"text-align: right;\">\n",
       "      <th></th>\n",
       "      <th>Title</th>\n",
       "      <th>Genre</th>\n",
       "      <th>Premiere</th>\n",
       "      <th>Runtime</th>\n",
       "      <th>IMDB Score</th>\n",
       "      <th>Language</th>\n",
       "      <th>release_year</th>\n",
       "    </tr>\n",
       "  </thead>\n",
       "  <tbody>\n",
       "    <tr>\n",
       "      <th>0</th>\n",
       "      <td>Enter the Anime</td>\n",
       "      <td>Documentary</td>\n",
       "      <td>2019-08-05</td>\n",
       "      <td>58</td>\n",
       "      <td>2.5</td>\n",
       "      <td>English/Japanese</td>\n",
       "      <td>2019</td>\n",
       "    </tr>\n",
       "    <tr>\n",
       "      <th>1</th>\n",
       "      <td>Dark Forces</td>\n",
       "      <td>Thriller</td>\n",
       "      <td>2020-08-21</td>\n",
       "      <td>81</td>\n",
       "      <td>2.6</td>\n",
       "      <td>Spanish</td>\n",
       "      <td>2020</td>\n",
       "    </tr>\n",
       "    <tr>\n",
       "      <th>2</th>\n",
       "      <td>The App</td>\n",
       "      <td>Science fiction/Drama</td>\n",
       "      <td>2019-12-26</td>\n",
       "      <td>79</td>\n",
       "      <td>2.6</td>\n",
       "      <td>Italian</td>\n",
       "      <td>2019</td>\n",
       "    </tr>\n",
       "    <tr>\n",
       "      <th>3</th>\n",
       "      <td>The Open House</td>\n",
       "      <td>Horror thriller</td>\n",
       "      <td>2018-01-19</td>\n",
       "      <td>94</td>\n",
       "      <td>3.2</td>\n",
       "      <td>English</td>\n",
       "      <td>2018</td>\n",
       "    </tr>\n",
       "    <tr>\n",
       "      <th>4</th>\n",
       "      <td>Kaali Khuhi</td>\n",
       "      <td>Mystery</td>\n",
       "      <td>2020-10-30</td>\n",
       "      <td>90</td>\n",
       "      <td>3.4</td>\n",
       "      <td>Hindi</td>\n",
       "      <td>2020</td>\n",
       "    </tr>\n",
       "  </tbody>\n",
       "</table>\n",
       "</div>"
      ],
      "text/plain": [
       "             Title                  Genre   Premiere  Runtime  IMDB Score  \\\n",
       "0  Enter the Anime            Documentary 2019-08-05       58         2.5   \n",
       "1      Dark Forces               Thriller 2020-08-21       81         2.6   \n",
       "2          The App  Science fiction/Drama 2019-12-26       79         2.6   \n",
       "3   The Open House        Horror thriller 2018-01-19       94         3.2   \n",
       "4      Kaali Khuhi                Mystery 2020-10-30       90         3.4   \n",
       "\n",
       "           Language  release_year  \n",
       "0  English/Japanese          2019  \n",
       "1           Spanish          2020  \n",
       "2           Italian          2019  \n",
       "3           English          2018  \n",
       "4             Hindi          2020  "
      ]
     },
     "execution_count": 12,
     "metadata": {},
     "output_type": "execute_result"
    }
   ],
   "source": [
    "df_orig.head()"
   ]
  },
  {
   "cell_type": "markdown",
   "metadata": {},
   "source": [
    "### 1.1.3 Breve análisis temporal\n",
    "Podemos ver un incremeneto año por año, hasta en 2021 donde contamos con menos registros."
   ]
  },
  {
   "cell_type": "code",
   "execution_count": 13,
   "metadata": {},
   "outputs": [
    {
     "name": "stdout",
     "output_type": "stream",
     "text": [
      "release_year\n",
      "2014      1\n",
      "2015      9\n",
      "2016     28\n",
      "2017     57\n",
      "2018     85\n",
      "2019    107\n",
      "2020    164\n",
      "2021     62\n",
      "Name: count, dtype: int64\n"
     ]
    }
   ],
   "source": [
    "print(df_orig['release_year'].value_counts().sort_index())"
   ]
  },
  {
   "cell_type": "markdown",
   "metadata": {},
   "source": [
    "## Resumen sobre netflix_original.csv\n",
    "\n",
    "- 513 Registros\n",
    "- No hay valores duplicados\n",
    "- Los 513 registros se distribuyen en 106 género diferentes, a lo largo de 7 años\n",
    "- Casi el 70% del contenido está en Inglés\n",
    "- El género más común es el documental\n",
    "- La puntuación media es de 6,2, sinedo el máximo 9 y el mínimo 2.5\n",
    "- La duracion media está en 94 minutos"
   ]
  },
  {
   "cell_type": "markdown",
   "metadata": {},
   "source": [
    "----"
   ]
  },
  {
   "cell_type": "markdown",
   "metadata": {},
   "source": [
    "## 1.2 Análisis de df_titles (netflix_titles.csv):\n",
    "Esta es la estructura que seguiré\n",
    "1. Análisis inicial de la estructura\n",
    "2. Análisis de valores faltantes\n",
    "3. Análisis de variables categóricas\n",
    "4. Preparación para la unión"
   ]
  },
  {
   "cell_type": "code",
   "execution_count": 14,
   "metadata": {},
   "outputs": [
    {
     "name": "stdout",
     "output_type": "stream",
     "text": [
      "Ejemplo del DataFrame:\n"
     ]
    },
    {
     "data": {
      "text/html": [
       "<div>\n",
       "<style scoped>\n",
       "    .dataframe tbody tr th:only-of-type {\n",
       "        vertical-align: middle;\n",
       "    }\n",
       "\n",
       "    .dataframe tbody tr th {\n",
       "        vertical-align: top;\n",
       "    }\n",
       "\n",
       "    .dataframe thead th {\n",
       "        text-align: right;\n",
       "    }\n",
       "</style>\n",
       "<table border=\"1\" class=\"dataframe\">\n",
       "  <thead>\n",
       "    <tr style=\"text-align: right;\">\n",
       "      <th></th>\n",
       "      <th>show_id</th>\n",
       "      <th>type</th>\n",
       "      <th>title</th>\n",
       "      <th>director</th>\n",
       "      <th>cast</th>\n",
       "      <th>country</th>\n",
       "      <th>date_added</th>\n",
       "      <th>release_year</th>\n",
       "      <th>rating</th>\n",
       "      <th>duration</th>\n",
       "      <th>listed_in</th>\n",
       "      <th>description</th>\n",
       "    </tr>\n",
       "  </thead>\n",
       "  <tbody>\n",
       "    <tr>\n",
       "      <th>0</th>\n",
       "      <td>s1</td>\n",
       "      <td>Movie</td>\n",
       "      <td>Dick Johnson Is Dead</td>\n",
       "      <td>Kirsten Johnson</td>\n",
       "      <td>NaN</td>\n",
       "      <td>United States</td>\n",
       "      <td>September 25, 2021</td>\n",
       "      <td>2020</td>\n",
       "      <td>PG-13</td>\n",
       "      <td>90 min</td>\n",
       "      <td>Documentaries</td>\n",
       "      <td>As her father nears the end of his life, filmm...</td>\n",
       "    </tr>\n",
       "    <tr>\n",
       "      <th>1</th>\n",
       "      <td>s2</td>\n",
       "      <td>TV Show</td>\n",
       "      <td>Blood &amp; Water</td>\n",
       "      <td>NaN</td>\n",
       "      <td>Ama Qamata, Khosi Ngema, Gail Mabalane, Thaban...</td>\n",
       "      <td>South Africa</td>\n",
       "      <td>September 24, 2021</td>\n",
       "      <td>2021</td>\n",
       "      <td>TV-MA</td>\n",
       "      <td>2 Seasons</td>\n",
       "      <td>International TV Shows, TV Dramas, TV Mysteries</td>\n",
       "      <td>After crossing paths at a party, a Cape Town t...</td>\n",
       "    </tr>\n",
       "    <tr>\n",
       "      <th>2</th>\n",
       "      <td>s3</td>\n",
       "      <td>TV Show</td>\n",
       "      <td>Ganglands</td>\n",
       "      <td>Julien Leclercq</td>\n",
       "      <td>Sami Bouajila, Tracy Gotoas, Samuel Jouy, Nabi...</td>\n",
       "      <td>NaN</td>\n",
       "      <td>September 24, 2021</td>\n",
       "      <td>2021</td>\n",
       "      <td>TV-MA</td>\n",
       "      <td>NaN</td>\n",
       "      <td>Crime TV Shows, International TV Shows, TV Act...</td>\n",
       "      <td>To protect his family from a powerful drug lor...</td>\n",
       "    </tr>\n",
       "    <tr>\n",
       "      <th>3</th>\n",
       "      <td>s4</td>\n",
       "      <td>TV Show</td>\n",
       "      <td>Jailbirds New Orleans</td>\n",
       "      <td>NaN</td>\n",
       "      <td>NaN</td>\n",
       "      <td>NaN</td>\n",
       "      <td>September 24, 2021</td>\n",
       "      <td>2021</td>\n",
       "      <td>TV-MA</td>\n",
       "      <td>NaN</td>\n",
       "      <td>Docuseries, Reality TV</td>\n",
       "      <td>Feuds, flirtations and toilet talk go down amo...</td>\n",
       "    </tr>\n",
       "    <tr>\n",
       "      <th>4</th>\n",
       "      <td>s5</td>\n",
       "      <td>TV Show</td>\n",
       "      <td>Kota Factory</td>\n",
       "      <td>NaN</td>\n",
       "      <td>Mayur More, Jitendra Kumar, Ranjan Raj, Alam K...</td>\n",
       "      <td>India</td>\n",
       "      <td>September 24, 2021</td>\n",
       "      <td>2021</td>\n",
       "      <td>TV-MA</td>\n",
       "      <td>2 Seasons</td>\n",
       "      <td>International TV Shows, Romantic TV Shows, TV ...</td>\n",
       "      <td>In a city of coaching centers known to train I...</td>\n",
       "    </tr>\n",
       "  </tbody>\n",
       "</table>\n",
       "</div>"
      ],
      "text/plain": [
       "  show_id     type                  title         director  \\\n",
       "0      s1    Movie   Dick Johnson Is Dead  Kirsten Johnson   \n",
       "1      s2  TV Show          Blood & Water              NaN   \n",
       "2      s3  TV Show              Ganglands  Julien Leclercq   \n",
       "3      s4  TV Show  Jailbirds New Orleans              NaN   \n",
       "4      s5  TV Show           Kota Factory              NaN   \n",
       "\n",
       "                                                cast        country  \\\n",
       "0                                                NaN  United States   \n",
       "1  Ama Qamata, Khosi Ngema, Gail Mabalane, Thaban...   South Africa   \n",
       "2  Sami Bouajila, Tracy Gotoas, Samuel Jouy, Nabi...            NaN   \n",
       "3                                                NaN            NaN   \n",
       "4  Mayur More, Jitendra Kumar, Ranjan Raj, Alam K...          India   \n",
       "\n",
       "           date_added  release_year rating   duration  \\\n",
       "0  September 25, 2021          2020  PG-13     90 min   \n",
       "1  September 24, 2021          2021  TV-MA  2 Seasons   \n",
       "2  September 24, 2021          2021  TV-MA        NaN   \n",
       "3  September 24, 2021          2021  TV-MA        NaN   \n",
       "4  September 24, 2021          2021  TV-MA  2 Seasons   \n",
       "\n",
       "                                           listed_in  \\\n",
       "0                                      Documentaries   \n",
       "1    International TV Shows, TV Dramas, TV Mysteries   \n",
       "2  Crime TV Shows, International TV Shows, TV Act...   \n",
       "3                             Docuseries, Reality TV   \n",
       "4  International TV Shows, Romantic TV Shows, TV ...   \n",
       "\n",
       "                                         description  \n",
       "0  As her father nears the end of his life, filmm...  \n",
       "1  After crossing paths at a party, a Cape Town t...  \n",
       "2  To protect his family from a powerful drug lor...  \n",
       "3  Feuds, flirtations and toilet talk go down amo...  \n",
       "4  In a city of coaching centers known to train I...  "
      ]
     },
     "execution_count": 14,
     "metadata": {},
     "output_type": "execute_result"
    }
   ],
   "source": [
    "print(\"Ejemplo del DataFrame:\")\n",
    "df_titles.head()"
   ]
  },
  {
   "cell_type": "code",
   "execution_count": 15,
   "metadata": {},
   "outputs": [
    {
     "name": "stdout",
     "output_type": "stream",
     "text": [
      "Información básica del DataFrame:\n",
      "<class 'pandas.core.frame.DataFrame'>\n",
      "Index: 8807 entries, 0 to 8806\n",
      "Data columns (total 12 columns):\n",
      " #   Column        Non-Null Count  Dtype \n",
      "---  ------        --------------  ----- \n",
      " 0   show_id       8807 non-null   object\n",
      " 1   type          8807 non-null   object\n",
      " 2   title         8807 non-null   object\n",
      " 3   director      6173 non-null   object\n",
      " 4   cast          7982 non-null   object\n",
      " 5   country       7976 non-null   object\n",
      " 6   date_added    8797 non-null   object\n",
      " 7   release_year  8807 non-null   int64 \n",
      " 8   rating        8803 non-null   object\n",
      " 9   duration      3994 non-null   object\n",
      " 10  listed_in     8807 non-null   object\n",
      " 11  description   8807 non-null   object\n",
      "dtypes: int64(1), object(11)\n",
      "memory usage: 894.5+ KB\n"
     ]
    }
   ],
   "source": [
    "print(\"Información básica del DataFrame:\")\n",
    "df_titles.info()"
   ]
  },
  {
   "cell_type": "markdown",
   "metadata": {},
   "source": [
    "## 1.2.1 Análisis inicial de la estructura:\n",
    "- Contamos con 8807 registros y 12 columnas.\n",
    "- Sobre el tipo de las columnas, a excepción de release_year que es un número entero, el resto son Strings\n",
    "- En este caso, a diferencia del dataframe anterior, si que contamos con bastantes nulos. "
   ]
  },
  {
   "cell_type": "code",
   "execution_count": 16,
   "metadata": {},
   "outputs": [
    {
     "data": {
      "text/html": [
       "<div>\n",
       "<style scoped>\n",
       "    .dataframe tbody tr th:only-of-type {\n",
       "        vertical-align: middle;\n",
       "    }\n",
       "\n",
       "    .dataframe tbody tr th {\n",
       "        vertical-align: top;\n",
       "    }\n",
       "\n",
       "    .dataframe thead th {\n",
       "        text-align: right;\n",
       "    }\n",
       "</style>\n",
       "<table border=\"1\" class=\"dataframe\">\n",
       "  <thead>\n",
       "    <tr style=\"text-align: right;\">\n",
       "      <th></th>\n",
       "      <th>show_id</th>\n",
       "      <th>type</th>\n",
       "      <th>title</th>\n",
       "      <th>director</th>\n",
       "      <th>cast</th>\n",
       "      <th>country</th>\n",
       "      <th>date_added</th>\n",
       "      <th>rating</th>\n",
       "      <th>duration</th>\n",
       "      <th>listed_in</th>\n",
       "      <th>description</th>\n",
       "    </tr>\n",
       "  </thead>\n",
       "  <tbody>\n",
       "    <tr>\n",
       "      <th>count</th>\n",
       "      <td>8807</td>\n",
       "      <td>8807</td>\n",
       "      <td>8807</td>\n",
       "      <td>6173</td>\n",
       "      <td>7982</td>\n",
       "      <td>7976</td>\n",
       "      <td>8797</td>\n",
       "      <td>8803</td>\n",
       "      <td>3994</td>\n",
       "      <td>8807</td>\n",
       "      <td>8807</td>\n",
       "    </tr>\n",
       "    <tr>\n",
       "      <th>unique</th>\n",
       "      <td>8807</td>\n",
       "      <td>2</td>\n",
       "      <td>8807</td>\n",
       "      <td>4528</td>\n",
       "      <td>7692</td>\n",
       "      <td>748</td>\n",
       "      <td>1767</td>\n",
       "      <td>17</td>\n",
       "      <td>185</td>\n",
       "      <td>514</td>\n",
       "      <td>8775</td>\n",
       "    </tr>\n",
       "    <tr>\n",
       "      <th>top</th>\n",
       "      <td>s1</td>\n",
       "      <td>Movie</td>\n",
       "      <td>Dick Johnson Is Dead</td>\n",
       "      <td>Rajiv Chilaka</td>\n",
       "      <td>David Attenborough</td>\n",
       "      <td>United States</td>\n",
       "      <td>January 1, 2020</td>\n",
       "      <td>TV-MA</td>\n",
       "      <td>2 Seasons</td>\n",
       "      <td>Dramas, International Movies</td>\n",
       "      <td>Paranormal activity at a lush, abandoned prope...</td>\n",
       "    </tr>\n",
       "    <tr>\n",
       "      <th>freq</th>\n",
       "      <td>1</td>\n",
       "      <td>6131</td>\n",
       "      <td>1</td>\n",
       "      <td>19</td>\n",
       "      <td>19</td>\n",
       "      <td>2818</td>\n",
       "      <td>109</td>\n",
       "      <td>3207</td>\n",
       "      <td>425</td>\n",
       "      <td>362</td>\n",
       "      <td>4</td>\n",
       "    </tr>\n",
       "  </tbody>\n",
       "</table>\n",
       "</div>"
      ],
      "text/plain": [
       "       show_id   type                 title       director  \\\n",
       "count     8807   8807                  8807           6173   \n",
       "unique    8807      2                  8807           4528   \n",
       "top         s1  Movie  Dick Johnson Is Dead  Rajiv Chilaka   \n",
       "freq         1   6131                     1             19   \n",
       "\n",
       "                      cast        country       date_added rating   duration  \\\n",
       "count                 7982           7976             8797   8803       3994   \n",
       "unique                7692            748             1767     17        185   \n",
       "top     David Attenborough  United States  January 1, 2020  TV-MA  2 Seasons   \n",
       "freq                    19           2818              109   3207        425   \n",
       "\n",
       "                           listed_in  \\\n",
       "count                           8807   \n",
       "unique                           514   \n",
       "top     Dramas, International Movies   \n",
       "freq                             362   \n",
       "\n",
       "                                              description  \n",
       "count                                                8807  \n",
       "unique                                               8775  \n",
       "top     Paranormal activity at a lush, abandoned prope...  \n",
       "freq                                                    4  "
      ]
     },
     "execution_count": 16,
     "metadata": {},
     "output_type": "execute_result"
    }
   ],
   "source": [
    "df_titles.describe(include=['object', 'category'])"
   ]
  },
  {
   "cell_type": "markdown",
   "metadata": {},
   "source": [
    "### Continuando con el análisis inicial:\n",
    "- No contamos con registros duplicados\n",
    "- 4528 Directores únicos\n",
    "- Divididos en 748 paises\n",
    "- Solo hay 2 tipos de contenidos"
   ]
  },
  {
   "cell_type": "markdown",
   "metadata": {},
   "source": [
    "## 1.2.2 Análisis de los valores faltantes:\n"
   ]
  },
  {
   "cell_type": "code",
   "execution_count": 17,
   "metadata": {},
   "outputs": [
    {
     "name": "stdout",
     "output_type": "stream",
     "text": [
      "            Valores Nulos  Porcentaje\n",
      "director             2634        30.0\n",
      "cast                  825         9.0\n",
      "country               831         9.0\n",
      "date_added             10         0.0\n",
      "rating                  4         0.0\n",
      "duration             4813        55.0\n"
     ]
    }
   ],
   "source": [
    "nulos = df_titles.isnull().sum()\n",
    "porcentajeNulos = ((df_titles.isnull().sum() / len(df_titles)) * 100).round()\n",
    "\n",
    "resumen_nulos = pd.DataFrame({\n",
    "    'Valores Nulos': nulos,\n",
    "    'Porcentaje': porcentajeNulos\n",
    "})\n",
    "\n",
    "resumen_nulos = resumen_nulos[resumen_nulos['Valores Nulos'] > 0]\n",
    "print(resumen_nulos)"
   ]
  },
  {
   "cell_type": "markdown",
   "metadata": {},
   "source": [
    "Podemos ver porcentajes preocupantes de datos faltantes en columnas como `duration`y `director`y en menor proporción el `country`y `cast`.\n"
   ]
  },
  {
   "cell_type": "markdown",
   "metadata": {},
   "source": [
    "## 1.2.3 Análisis de las variables categóricas:"
   ]
  },
  {
   "cell_type": "code",
   "execution_count": 18,
   "metadata": {},
   "outputs": [
    {
     "name": "stdout",
     "output_type": "stream",
     "text": [
      "En porcentajes:\n",
      "type\n",
      "Movie      70.0\n",
      "TV Show    30.0\n",
      "Name: proportion, dtype: float64\n"
     ]
    }
   ],
   "source": [
    "porcentaje_type = (df_titles['type'].value_counts(normalize=True) * 100).round()\n",
    "print(\"En porcentajes:\")\n",
    "print(porcentaje_type)"
   ]
  },
  {
   "cell_type": "code",
   "execution_count": 87,
   "metadata": {},
   "outputs": [
    {
     "name": "stdout",
     "output_type": "stream",
     "text": [
      "Distribución por géneros en porcentages\n",
      "listed_in\n",
      "International Movies        14.0\n",
      "Dramas                      13.0\n",
      "Comedies                     9.0\n",
      "International TV Shows       7.0\n",
      "Documentaries                4.0\n",
      "Action & Adventure           4.0\n",
      "TV Dramas                    4.0\n",
      "Independent Movies           4.0\n",
      "Children & Family Movies     3.0\n",
      "Romantic Movies              3.0\n",
      "Name: proportion, dtype: float64\n"
     ]
    }
   ],
   "source": [
    "generos = df_titles['listed_in'].str.split(',').explode().str.strip()\n",
    "porcentaje_generos = (generos.value_counts(normalize=True) * 100).round()\n",
    "\n",
    "print(\"Distribución por géneros en porcentages\")\n",
    "print(porcentaje_generos.head(10))"
   ]
  },
  {
   "cell_type": "markdown",
   "metadata": {},
   "source": [
    "## 1.2.4 Preparación para la unión\n",
    "1. Cambiar el tipo de la columna `date_added` para que sea de tipo date.\n",
    "2. Hacer coincidir la columna en común, en este caso `title`-> `Title`"
   ]
  },
  {
   "cell_type": "code",
   "execution_count": 19,
   "metadata": {},
   "outputs": [],
   "source": [
    "df_titles['date_added'] = df_titles['date_added'].str.strip()\n",
    "df_titles['date_added'] = pd.to_datetime(df_titles['date_added'])"
   ]
  },
  {
   "cell_type": "code",
   "execution_count": 20,
   "metadata": {},
   "outputs": [
    {
     "name": "stdout",
     "output_type": "stream",
     "text": [
      "Nuevo formato:\n",
      "0   2021-09-25\n",
      "1   2021-09-24\n",
      "2   2021-09-24\n",
      "3   2021-09-24\n",
      "4   2021-09-24\n",
      "Name: date_added, dtype: datetime64[ns]\n",
      "Tipo de dato de la columna date_added:\n",
      "datetime64[ns]\n"
     ]
    }
   ],
   "source": [
    "print(\"Nuevo formato:\")\n",
    "print(df_titles['date_added'].head())\n",
    "print(\"Tipo de dato de la columna date_added:\")\n",
    "print(df_titles['date_added'].dtype)"
   ]
  },
  {
   "cell_type": "code",
   "execution_count": 21,
   "metadata": {},
   "outputs": [],
   "source": [
    "df_titles.rename(columns={'title': 'Title'}, inplace=True)"
   ]
  },
  {
   "cell_type": "markdown",
   "metadata": {},
   "source": [
    "## 2 Unión de datos\n",
    "Antes de proceder a la unión de ambos dataframes, quiero verificar que están escritos de la misma manera, viendo si coinciden.\n",
    "`Como podemos ver tódos los títulos originales se encuentran en netflix_titles.`"
   ]
  },
  {
   "cell_type": "code",
   "execution_count": 22,
   "metadata": {},
   "outputs": [
    {
     "name": "stdout",
     "output_type": "stream",
     "text": [
      "Número de títulos que coinciden exactamente: 513\n"
     ]
    }
   ],
   "source": [
    "#Para hacer esta comparación hago uso de los sets, que nos facilitan ver sus datos comunes\n",
    "titulos_comunes = set(df_orig['Title']).intersection(set(df_titles['Title']))\n",
    "print(\"Número de títulos que coinciden exactamente:\", len(titulos_comunes))"
   ]
  },
  {
   "cell_type": "markdown",
   "metadata": {},
   "source": [
    "Teniendo esto en cuenta, usaré un 'left merge', así mantenemos todos los registros de netflix_titles (catálogo completo) y añadimos la información adicional de netflix_originals donde haya coincidencia. Como podemos ver el dataset final conserva la longitud de netflix_titles como esperábamos."
   ]
  },
  {
   "cell_type": "code",
   "execution_count": 23,
   "metadata": {},
   "outputs": [
    {
     "name": "stdout",
     "output_type": "stream",
     "text": [
      "Número total de filas en el dataset final: 8807\n"
     ]
    }
   ],
   "source": [
    "df_resultante = df_titles.merge(df_orig, on='Title', how='left', indicator=True)\n",
    "\n",
    "print(\"Número total de filas en el dataset final:\", len(df_resultante))"
   ]
  },
  {
   "cell_type": "code",
   "execution_count": 24,
   "metadata": {},
   "outputs": [
    {
     "data": {
      "text/html": [
       "<div>\n",
       "<style scoped>\n",
       "    .dataframe tbody tr th:only-of-type {\n",
       "        vertical-align: middle;\n",
       "    }\n",
       "\n",
       "    .dataframe tbody tr th {\n",
       "        vertical-align: top;\n",
       "    }\n",
       "\n",
       "    .dataframe thead th {\n",
       "        text-align: right;\n",
       "    }\n",
       "</style>\n",
       "<table border=\"1\" class=\"dataframe\">\n",
       "  <thead>\n",
       "    <tr style=\"text-align: right;\">\n",
       "      <th></th>\n",
       "      <th>show_id</th>\n",
       "      <th>type</th>\n",
       "      <th>Title</th>\n",
       "      <th>director</th>\n",
       "      <th>cast</th>\n",
       "      <th>country</th>\n",
       "      <th>date_added</th>\n",
       "      <th>release_year_x</th>\n",
       "      <th>rating</th>\n",
       "      <th>duration</th>\n",
       "      <th>listed_in</th>\n",
       "      <th>description</th>\n",
       "      <th>Genre</th>\n",
       "      <th>Premiere</th>\n",
       "      <th>Runtime</th>\n",
       "      <th>IMDB Score</th>\n",
       "      <th>Language</th>\n",
       "      <th>release_year_y</th>\n",
       "      <th>_merge</th>\n",
       "    </tr>\n",
       "  </thead>\n",
       "  <tbody>\n",
       "    <tr>\n",
       "      <th>793</th>\n",
       "      <td>s794</td>\n",
       "      <td>Movie</td>\n",
       "      <td>Fools Rush In</td>\n",
       "      <td>Andy Tennant</td>\n",
       "      <td>Matthew Perry, Salma Hayek, Jon Tenney, Carlos...</td>\n",
       "      <td>United States</td>\n",
       "      <td>2021-06-02</td>\n",
       "      <td>1997</td>\n",
       "      <td>PG-13</td>\n",
       "      <td>NaN</td>\n",
       "      <td>Comedies, Romantic Movies</td>\n",
       "      <td>When a one-night stand results in a pregnancy,...</td>\n",
       "      <td>NaN</td>\n",
       "      <td>NaT</td>\n",
       "      <td>NaN</td>\n",
       "      <td>NaN</td>\n",
       "      <td>NaN</td>\n",
       "      <td>NaN</td>\n",
       "      <td>left_only</td>\n",
       "    </tr>\n",
       "  </tbody>\n",
       "</table>\n",
       "</div>"
      ],
      "text/plain": [
       "    show_id   type          Title      director  \\\n",
       "793    s794  Movie  Fools Rush In  Andy Tennant   \n",
       "\n",
       "                                                  cast        country  \\\n",
       "793  Matthew Perry, Salma Hayek, Jon Tenney, Carlos...  United States   \n",
       "\n",
       "    date_added  release_year_x rating duration                  listed_in  \\\n",
       "793 2021-06-02            1997  PG-13      NaN  Comedies, Romantic Movies   \n",
       "\n",
       "                                           description Genre Premiere  \\\n",
       "793  When a one-night stand results in a pregnancy,...   NaN      NaT   \n",
       "\n",
       "     Runtime  IMDB Score Language  release_year_y     _merge  \n",
       "793      NaN         NaN      NaN             NaN  left_only  "
      ]
     },
     "execution_count": 24,
     "metadata": {},
     "output_type": "execute_result"
    }
   ],
   "source": [
    "df_resultante.sample()"
   ]
  },
  {
   "cell_type": "code",
   "execution_count": 25,
   "metadata": {},
   "outputs": [],
   "source": [
    "# Al hacer el merge, si ambos dataframes cuentan con columnas con el mimo título, \n",
    "# se le cambia el título añadiendo una x para indicar la que viene por la izquierda\n",
    "# e y para la derecha. \n",
    "# Para evitarlo, o cambiar el nombre o añadir el atributo suffix?\n",
    "df_resultante = df_resultante.rename(columns={'release_year_x': 'release_year'})\n",
    "df_resultante = df_resultante.drop('release_year_y', axis=1)"
   ]
  },
  {
   "cell_type": "markdown",
   "metadata": {},
   "source": [
    "## 3 Uso de Loc e iLoc\n",
    "## Ejercicios de Loc"
   ]
  },
  {
   "cell_type": "code",
   "execution_count": 33,
   "metadata": {},
   "outputs": [
    {
     "name": "stdout",
     "output_type": "stream",
     "text": [
      "1.1 Número de películas: 6131\n",
      "\n",
      "1.2 Series de TV con título y duración: 2676\n",
      "                   Title   duration\n",
      "1          Blood & Water  2 Seasons\n",
      "2              Ganglands        NaN\n",
      "3  Jailbirds New Orleans        NaN\n",
      "\n",
      "1.3 Contenido de Estados Unidos: 2818\n",
      "\n",
      "1.4 Películas con título y director: 6131\n",
      "                              Title                       director\n",
      "0              Dick Johnson Is Dead                Kirsten Johnson\n",
      "6  My Little Pony: A New Generation  Robert Cullen, José Luis Ucha\n",
      "7                           Sankofa                   Haile Gerima\n",
      "\n",
      "1.5 Contenido de 2018:\n",
      "                     Title                                          listed_in\n",
      "21  Resurrection: Ertugrul  International TV Shows, TV Action & Adventure,...\n",
      "37             Angry Birds                              Kids' TV, TV Comedies\n",
      "73            King of Boys                       Dramas, International Movies\n",
      "\n",
      "1.6Títulos sin director:\n",
      "                   Title\n",
      "1          Blood & Water\n",
      "3  Jailbirds New Orleans\n",
      "4           Kota Factory\n"
     ]
    }
   ],
   "source": [
    "# 1.1 Películas\n",
    "peliculas = df_resultante.loc[df_resultante['type'] == 'Movie']\n",
    "print(\"1.1 Número de películas:\", len(peliculas))\n",
    "\n",
    "# 1.2 Series de TV con título y duración\n",
    "series_tv = df_resultante.loc[df_resultante['type'] == 'TV Show', ['Title', 'duration']]\n",
    "print(f\"\\n1.2 Series de TV con título y duración: {len(series_tv)}\")\n",
    "print(series_tv.head(3))\n",
    "\n",
    "# 1.3 Contenido de Estados Unidos\n",
    "contenido_eeuu = df_resultante.loc[df_resultante['country'] == 'United States']\n",
    "print(\"\\n1.3 Contenido de Estados Unidos:\", len(contenido_eeuu))\n",
    "\n",
    "# 1.4 Películas con título y director\n",
    "peliculas_director = df_resultante.loc[df_resultante['type'] == 'Movie', ['Title', 'director']]\n",
    "print(\"\\n1.4 Películas con título y director:\", len(peliculas_director))\n",
    "print(peliculas_director.head(3))\n",
    "\n",
    "# 1.5 Contenido de 2018\n",
    "contenido_2018 = df_resultante.loc[df_resultante['release_year'] == 2018, ['Title', 'listed_in']]\n",
    "print(\"\\n1.5 Contenido de 2018:\")\n",
    "print(contenido_2018.head(3))\n",
    "\n",
    "# 1.6 Títulos sin director\n",
    "sin_director = df_resultante.loc[df_resultante['director'].isnull(), ['Title']]\n",
    "print(\"\\n1.6Títulos sin director:\")\n",
    "print(sin_director.head(3))"
   ]
  },
  {
   "cell_type": "markdown",
   "metadata": {},
   "source": [
    "## Ejercicios de iLoc"
   ]
  },
  {
   "cell_type": "code",
   "execution_count": 42,
   "metadata": {},
   "outputs": [
    {
     "data": {
      "text/html": [
       "<div>\n",
       "<style scoped>\n",
       "    .dataframe tbody tr th:only-of-type {\n",
       "        vertical-align: middle;\n",
       "    }\n",
       "\n",
       "    .dataframe tbody tr th {\n",
       "        vertical-align: top;\n",
       "    }\n",
       "\n",
       "    .dataframe thead th {\n",
       "        text-align: right;\n",
       "    }\n",
       "</style>\n",
       "<table border=\"1\" class=\"dataframe\">\n",
       "  <thead>\n",
       "    <tr style=\"text-align: right;\">\n",
       "      <th></th>\n",
       "      <th>show_id</th>\n",
       "      <th>type</th>\n",
       "      <th>Title</th>\n",
       "      <th>director</th>\n",
       "      <th>cast</th>\n",
       "      <th>country</th>\n",
       "      <th>date_added</th>\n",
       "      <th>release_year</th>\n",
       "      <th>rating</th>\n",
       "      <th>duration</th>\n",
       "      <th>listed_in</th>\n",
       "      <th>description</th>\n",
       "      <th>Genre</th>\n",
       "      <th>Premiere</th>\n",
       "      <th>Runtime</th>\n",
       "      <th>IMDB Score</th>\n",
       "      <th>Language</th>\n",
       "      <th>_merge</th>\n",
       "    </tr>\n",
       "  </thead>\n",
       "  <tbody>\n",
       "    <tr>\n",
       "      <th>6972</th>\n",
       "      <td>s6973</td>\n",
       "      <td>Movie</td>\n",
       "      <td>Hiroshima: The Real History</td>\n",
       "      <td>Lucy van Beek</td>\n",
       "      <td>John Sessions</td>\n",
       "      <td>United Kingdom</td>\n",
       "      <td>2017-03-31</td>\n",
       "      <td>2015</td>\n",
       "      <td>TV-PG</td>\n",
       "      <td>NaN</td>\n",
       "      <td>Documentaries</td>\n",
       "      <td>This detailed examination of the 1945 Hiroshim...</td>\n",
       "      <td>NaN</td>\n",
       "      <td>NaT</td>\n",
       "      <td>NaN</td>\n",
       "      <td>NaN</td>\n",
       "      <td>NaN</td>\n",
       "      <td>left_only</td>\n",
       "    </tr>\n",
       "  </tbody>\n",
       "</table>\n",
       "</div>"
      ],
      "text/plain": [
       "     show_id   type                        Title       director  \\\n",
       "6972   s6973  Movie  Hiroshima: The Real History  Lucy van Beek   \n",
       "\n",
       "               cast         country date_added  release_year rating duration  \\\n",
       "6972  John Sessions  United Kingdom 2017-03-31          2015  TV-PG      NaN   \n",
       "\n",
       "          listed_in                                        description Genre  \\\n",
       "6972  Documentaries  This detailed examination of the 1945 Hiroshim...   NaN   \n",
       "\n",
       "     Premiere  Runtime  IMDB Score Language     _merge  \n",
       "6972      NaT      NaN         NaN      NaN  left_only  "
      ]
     },
     "execution_count": 42,
     "metadata": {},
     "output_type": "execute_result"
    }
   ],
   "source": [
    "df_resultante.sample()"
   ]
  },
  {
   "cell_type": "code",
   "execution_count": 45,
   "metadata": {},
   "outputs": [
    {
     "name": "stdout",
     "output_type": "stream",
     "text": [
      "Primeras 5 filas, sólo mostrando las columnas title, director y country\n",
      "                   Title         director        country\n",
      "0   Dick Johnson Is Dead  Kirsten Johnson  United States\n",
      "1          Blood & Water              NaN   South Africa\n",
      "2              Ganglands  Julien Leclercq            NaN\n",
      "3  Jailbirds New Orleans              NaN            NaN\n",
      "4           Kota Factory              NaN          India\n",
      "\n",
      "Últimas 5 filas con título y descripción:\n",
      "            Title                                        description\n",
      "8802       Zodiac  A political cartoonist, a crime reporter and a...\n",
      "8803  Zombie Dumb  While living alone in a spooky town, a young g...\n",
      "8804   Zombieland  Looking to survive in a world taken over by zo...\n",
      "8805         Zoom  Dragged from civilian life, a former superhero...\n",
      "8806       Zubaan  A scrappy but poor boy worms his way into a ty...\n",
      "\n",
      "Primeras 10 filas, columnas 2-5:\n",
      "      type                             Title                       director  \\\n",
      "0    Movie              Dick Johnson Is Dead                Kirsten Johnson   \n",
      "1  TV Show                     Blood & Water                            NaN   \n",
      "2  TV Show                         Ganglands                Julien Leclercq   \n",
      "3  TV Show             Jailbirds New Orleans                            NaN   \n",
      "4  TV Show                      Kota Factory                            NaN   \n",
      "5  TV Show                     Midnight Mass                  Mike Flanagan   \n",
      "6    Movie  My Little Pony: A New Generation  Robert Cullen, José Luis Ucha   \n",
      "7    Movie                           Sankofa                   Haile Gerima   \n",
      "8  TV Show     The Great British Baking Show                Andy Devonshire   \n",
      "9    Movie                      The Starling                 Theodore Melfi   \n",
      "\n",
      "                                                cast  \n",
      "0                                                NaN  \n",
      "1  Ama Qamata, Khosi Ngema, Gail Mabalane, Thaban...  \n",
      "2  Sami Bouajila, Tracy Gotoas, Samuel Jouy, Nabi...  \n",
      "3                                                NaN  \n",
      "4  Mayur More, Jitendra Kumar, Ranjan Raj, Alam K...  \n",
      "5  Kate Siegel, Zach Gilford, Hamish Linklater, H...  \n",
      "6  Vanessa Hudgens, Kimiko Glenn, James Marsden, ...  \n",
      "7  Kofi Ghanaba, Oyafunmike Ogunlano, Alexandra D...  \n",
      "8  Mel Giedroyc, Sue Perkins, Mary Berry, Paul Ho...  \n",
      "9  Melissa McCarthy, Chris O'Dowd, Kevin Kline, T...  \n",
      "\n",
      "Últimas 7 filas, title, director y country:\n",
      "                   Title         director                       country\n",
      "8800  Zindagi Gulzar Hai              NaN                      Pakistan\n",
      "8801             Zinzana  Majid Al Ansari  United Arab Emirates, Jordan\n",
      "8802              Zodiac    David Fincher                 United States\n",
      "8803         Zombie Dumb              NaN                           NaN\n",
      "8804          Zombieland  Ruben Fleischer                 United States\n",
      "8805                Zoom     Peter Hewitt                 United States\n",
      "8806              Zubaan      Mozez Singh                         India\n",
      "\n",
      "Filas 15-25, primeras 4 columnas:\n",
      "   show_id     type                                              Title  \\\n",
      "15     s16  TV Show                                  Dear White People   \n",
      "16     s17    Movie  Europe's Most Dangerous Man: Otto Skorzeny in ...   \n",
      "17     s18  TV Show                                    Falsa identidad   \n",
      "18     s19    Movie                                          Intrusion   \n",
      "19     s20  TV Show                                             Jaguar   \n",
      "20     s21  TV Show    Monsters Inside: The 24 Faces of Billy Milligan   \n",
      "21     s22  TV Show                             Resurrection: Ertugrul   \n",
      "22     s23    Movie                                    Avvai Shanmughi   \n",
      "23     s24    Movie       Go! Go! Cory Carson: Chrissy Takes the Wheel   \n",
      "24     s25    Movie                                              Jeans   \n",
      "25     s26  TV Show                               Love on the Spectrum   \n",
      "\n",
      "                                         director  \n",
      "15                                            NaN  \n",
      "16  Pedro de Echave García, Pablo Azorín Williams  \n",
      "17                                            NaN  \n",
      "18                                     Adam Salky  \n",
      "19                                            NaN  \n",
      "20                                Olivier Megaton  \n",
      "21                                            NaN  \n",
      "22                                 K.S. Ravikumar  \n",
      "23                        Alex Woo, Stanley Moore  \n",
      "24                                     S. Shankar  \n",
      "25                                            NaN  \n",
      "\n",
      "Filas 20-30, title, release_year y rating:\n",
      "                                              Title  release_year rating\n",
      "20  Monsters Inside: The 24 Faces of Billy Milligan          2021  TV-14\n",
      "21                           Resurrection: Ertugrul          2018  TV-14\n",
      "22                                  Avvai Shanmughi          1996  TV-PG\n",
      "23     Go! Go! Cory Carson: Chrissy Takes the Wheel          2021   TV-Y\n",
      "24                                            Jeans          1998  TV-14\n",
      "25                             Love on the Spectrum          2021  TV-14\n",
      "26                                   Minsara Kanavu          1997  TV-PG\n",
      "27                                        Grown Ups          2010  PG-13\n",
      "28                                       Dark Skies          2013  PG-13\n",
      "29                                         Paranoia          2013  PG-13\n",
      "30                                  Ankahi Kahaniya          2021  TV-14\n"
     ]
    }
   ],
   "source": [
    "# Primeras 5 filas mostrando title, director y country.\n",
    "primeras_cinco = df_resultante.iloc[0:5, [2, 3, 5]]\n",
    "print(\"Primeras 5 filas, sólo mostrando las columnas title, director y country\")\n",
    "print(primeras_cinco)\n",
    "\n",
    "# Últimas 5 filas con title y description\n",
    "ultimas_cinco = df_resultante.iloc[-5:, [2, 11]]\n",
    "print(\"\\nÚltimas 5 filas con título y descripción:\")\n",
    "print(ultimas_cinco)\n",
    "\n",
    "# Primeras 10 filas, columnas 2-5\n",
    "primeras_diez = df_resultante.iloc[0:10, 1:5]\n",
    "print(\"\\nPrimeras 10 filas, columnas 2-5:\")\n",
    "print(primeras_diez)\n",
    "\n",
    "# Últimas 7 filas con title, director y country\n",
    "ultimas_siete = df_resultante.iloc[-7:, [2, 3, 5]]\n",
    "print(\"\\nÚltimas 7 filas, title, director y country:\")\n",
    "print(ultimas_siete)\n",
    "\n",
    "# Filas 15-25, primeras 4 columnas\n",
    "filas_15_25 = df_resultante.iloc[15:26, 0:4]\n",
    "print(\"\\nFilas 15-25, primeras 4 columnas:\")\n",
    "print(filas_15_25)\n",
    "\n",
    "# Filas 20-30 con title, release_year y rating\n",
    "filas_20_30 = df_resultante.iloc[20:31, [2, 7, 8]]\n",
    "print(\"\\nFilas 20-30, title, release_year y rating:\")\n",
    "print(filas_20_30)"
   ]
  },
  {
   "cell_type": "markdown",
   "metadata": {},
   "source": [
    "## Por último, guardar el dataframe resultante"
   ]
  },
  {
   "cell_type": "code",
   "execution_count": 2,
   "metadata": {},
   "outputs": [
    {
     "ename": "NameError",
     "evalue": "name 'df_resultante' is not defined",
     "output_type": "error",
     "traceback": [
      "\u001b[0;31m---------------------------------------------------------------------------\u001b[0m",
      "\u001b[0;31mNameError\u001b[0m                                 Traceback (most recent call last)",
      "Cell \u001b[0;32mIn[2], line 1\u001b[0m\n\u001b[0;32m----> 1\u001b[0m \u001b[43mdf_resultante\u001b[49m\u001b[38;5;241m.\u001b[39mto_csv(\u001b[38;5;124m\"\u001b[39m\u001b[38;5;124mdf_resultante.csv\u001b[39m\u001b[38;5;124m\"\u001b[39m, index\u001b[38;5;241m=\u001b[39m\u001b[38;5;28;01mTrue\u001b[39;00m) \n",
      "\u001b[0;31mNameError\u001b[0m: name 'df_resultante' is not defined"
     ]
    }
   ],
   "source": [
    "df_resultante.to_csv(\"df_resultante.csv\", index=True) "
   ]
  },
  {
   "cell_type": "code",
   "execution_count": 1,
   "metadata": {},
   "outputs": [],
   "source": [
    "def categorizar_por_edades(edad):\n",
    "        if edad >= 60:\n",
    "            return 'Senior'\n",
    "        elif 29 <= edad < 60:\n",
    "            return 'Adult'\n",
    "        elif 15 < edad < 29:\n",
    "            return 'Young adult'\n",
    "        else:\n",
    "            return np.nan"
   ]
  }
 ],
 "metadata": {
  "kernelspec": {
   "display_name": "Python 3",
   "language": "python",
   "name": "python3"
  },
  "language_info": {
   "codemirror_mode": {
    "name": "ipython",
    "version": 3
   },
   "file_extension": ".py",
   "mimetype": "text/x-python",
   "name": "python",
   "nbconvert_exporter": "python",
   "pygments_lexer": "ipython3",
   "version": "3.9.6"
  }
 },
 "nbformat": 4,
 "nbformat_minor": 2
}
